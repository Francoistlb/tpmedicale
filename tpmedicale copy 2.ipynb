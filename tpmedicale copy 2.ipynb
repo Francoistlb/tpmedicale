{
 "cells": [
  {
   "cell_type": "markdown",
   "metadata": {},
   "source": [
    "# 1. COLLECTED DATA\n",
    "Avaibility data quantity and quality control \n",
    "\n"
   ]
  },
  {
   "cell_type": "markdown",
   "metadata": {},
   "source": [
    "### Init libraries"
   ]
  },
  {
   "cell_type": "code",
   "execution_count": 1,
   "metadata": {},
   "outputs": [],
   "source": [
    "import pandas as pd\n",
    "import numpy as np\n",
    "import matplotlib.pyplot as plt\n",
    "import seaborn as sns\n",
    "from sklearn.preprocessing import LabelEncoder, StandardScaler\n",
    "from sklearn.model_selection import train_test_split\n",
    "from sklearn.ensemble import RandomForestClassifier, GradientBoostingClassifier\n",
    "from sklearn.svm import SVC\n",
    "from sklearn.neighbors import KNeighborsClassifier\n",
    "from sklearn.linear_model import LogisticRegression\n",
    "from sklearn.tree import DecisionTreeClassifier\n",
    "from sklearn.model_selection import GridSearchCV\n",
    "from sklearn.metrics import confusion_matrix, classification_report, precision_recall_fscore_support, accuracy_score\n",
    "\n",
    "# avoid displaying warnings \n",
    "import warnings\n",
    "warnings.filterwarnings(\"ignore\")"
   ]
  },
  {
   "cell_type": "markdown",
   "metadata": {},
   "source": [
    "### 1. Collect data"
   ]
  },
  {
   "cell_type": "code",
   "execution_count": 2,
   "metadata": {},
   "outputs": [],
   "source": [
    "data = pd.read_csv(\"medical.csv\", sep=';')\n"
   ]
  },
  {
   "cell_type": "code",
   "execution_count": 3,
   "metadata": {},
   "outputs": [
    {
     "name": "stdout",
     "output_type": "stream",
     "text": [
      "           Disease Fever Cough Fatigue Difficulty Breathing  Age  Gender  \\\n",
      "0        Influenza   Yes    No     Yes                  Yes   19  Female   \n",
      "1      Common Cold    No   Yes     Yes                   No   25  Female   \n",
      "2           Eczema    No   Yes     Yes                   No   25  Female   \n",
      "3           Asthma   Yes   Yes      No                  Yes   25    Male   \n",
      "4           Asthma   Yes   Yes      No                  Yes   25    Male   \n",
      "5           Eczema   Yes    No      No                   No   25  Female   \n",
      "6        Influenza   Yes   Yes     Yes                  Yes   25  Female   \n",
      "7        Influenza   Yes   Yes     Yes                  Yes   25  Female   \n",
      "8  Hyperthyroidism    No   Yes      No                   No   28  Female   \n",
      "9  Hyperthyroidism    No   Yes      No                   No   28  Female   \n",
      "\n",
      "  Blood Pressure Cholesterol Level Outcome Variable  \n",
      "0            Low            Normal         Positive  \n",
      "1         Normal            Normal         Negative  \n",
      "2         Normal            Normal         Negative  \n",
      "3         Normal            Normal         Positive  \n",
      "4         Normal            Normal         Positive  \n",
      "5         Normal            Normal         Positive  \n",
      "6         Normal            Normal         Positive  \n",
      "7         Normal            Normal         Positive  \n",
      "8         Normal            Normal         Negative  \n",
      "9         Normal            Normal         Negative  \n"
     ]
    }
   ],
   "source": [
    "# Show first lines (head)\n",
    "print(data.head(10))"
   ]
  },
  {
   "cell_type": "code",
   "execution_count": 4,
   "metadata": {},
   "outputs": [
    {
     "name": "stdout",
     "output_type": "stream",
     "text": [
      "<class 'pandas.core.frame.DataFrame'>\n",
      "RangeIndex: 349 entries, 0 to 348\n",
      "Data columns (total 10 columns):\n",
      " #   Column                Non-Null Count  Dtype \n",
      "---  ------                --------------  ----- \n",
      " 0   Disease               349 non-null    object\n",
      " 1   Fever                 349 non-null    object\n",
      " 2   Cough                 349 non-null    object\n",
      " 3   Fatigue               349 non-null    object\n",
      " 4   Difficulty Breathing  349 non-null    object\n",
      " 5   Age                   349 non-null    int64 \n",
      " 6   Gender                349 non-null    object\n",
      " 7   Blood Pressure        349 non-null    object\n",
      " 8   Cholesterol Level     349 non-null    object\n",
      " 9   Outcome Variable      349 non-null    object\n",
      "dtypes: int64(1), object(9)\n",
      "memory usage: 27.4+ KB\n"
     ]
    }
   ],
   "source": [
    "# Informations about data type and length\n",
    "data.info()"
   ]
  },
  {
   "cell_type": "code",
   "execution_count": 5,
   "metadata": {},
   "outputs": [
    {
     "data": {
      "text/plain": [
       "Disease                 0\n",
       "Fever                   0\n",
       "Cough                   0\n",
       "Fatigue                 0\n",
       "Difficulty Breathing    0\n",
       "Age                     0\n",
       "Gender                  0\n",
       "Blood Pressure          0\n",
       "Cholesterol Level       0\n",
       "Outcome Variable        0\n",
       "dtype: int64"
      ]
     },
     "execution_count": 5,
     "metadata": {},
     "output_type": "execute_result"
    }
   ],
   "source": [
    "# Checking all the missing value in the data \n",
    "data.isnull().sum()"
   ]
  },
  {
   "cell_type": "markdown",
   "metadata": {},
   "source": [
    "### Cleaning and preparing the data\n",
    " "
   ]
  },
  {
   "cell_type": "markdown",
   "metadata": {},
   "source": [
    "By Marina"
   ]
  },
  {
   "cell_type": "markdown",
   "metadata": {},
   "source": [
    "#### 2. Cleaning\n"
   ]
  },
  {
   "cell_type": "code",
   "execution_count": 6,
   "metadata": {},
   "outputs": [
    {
     "name": "stdout",
     "output_type": "stream",
     "text": [
      "Nombre de lignes avant suppression des doublons : 349\n",
      "Nombre de lignes après suppression des doublons : 282\n",
      "Nombre de lignes supprimées : 67\n",
      "Pourcentage de données supprimées : 19.20%\n"
     ]
    }
   ],
   "source": [
    "# Afficher le nombre de lignes avant et après la suppression des doublons\n",
    "print(f\"Nombre de lignes avant suppression des doublons : {len(data)}\")\n",
    "\n",
    "df_cleaned = data.drop_duplicates(subset=[\n",
    "    \"Fever\", \n",
    "    \"Cough\", \n",
    "    \"Fatigue\", \n",
    "    \"Difficulty Breathing\", \n",
    "    \"Blood Pressure\", \n",
    "    \"Cholesterol Level\",\n",
    "    \"Disease\"\n",
    "])\n",
    "\n",
    "print(f\"Nombre de lignes après suppression des doublons : {len(df_cleaned)}\")\n",
    "print(f\"Nombre de lignes supprimées : {len(data) - len(df_cleaned)}\")\n",
    "print(f\"Pourcentage de données supprimées : {((len(data) - len(df_cleaned)) / len(data) * 100):.2f}%\")"
   ]
  },
  {
   "cell_type": "code",
   "execution_count": 7,
   "metadata": {},
   "outputs": [
    {
     "name": "stdout",
     "output_type": "stream",
     "text": [
      "<class 'pandas.core.frame.DataFrame'>\n",
      "Index: 282 entries, 0 to 343\n",
      "Data columns (total 10 columns):\n",
      " #   Column                Non-Null Count  Dtype \n",
      "---  ------                --------------  ----- \n",
      " 0   Disease               282 non-null    object\n",
      " 1   Fever                 282 non-null    object\n",
      " 2   Cough                 282 non-null    object\n",
      " 3   Fatigue               282 non-null    object\n",
      " 4   Difficulty Breathing  282 non-null    object\n",
      " 5   Age                   282 non-null    int64 \n",
      " 6   Gender                282 non-null    object\n",
      " 7   Blood Pressure        282 non-null    object\n",
      " 8   Cholesterol Level     282 non-null    object\n",
      " 9   Outcome Variable      282 non-null    object\n",
      "dtypes: int64(1), object(9)\n",
      "memory usage: 24.2+ KB\n"
     ]
    }
   ],
   "source": [
    "# Checking result\n",
    "df_cleaned.info()"
   ]
  },
  {
   "cell_type": "code",
   "execution_count": 8,
   "metadata": {},
   "outputs": [],
   "source": [
    "# A) Drop the missing values\n",
    "df = df_cleaned.dropna()"
   ]
  },
  {
   "cell_type": "code",
   "execution_count": 9,
   "metadata": {},
   "outputs": [],
   "source": [
    "# Drop Age and Gender (not needed)\n",
    "df.drop ('Age', axis=1, inplace=True)\n",
    "df.drop ('Gender', axis=1, inplace=True)\n",
    "df.drop ('Outcome Variable', axis=1, inplace=True)"
   ]
  },
  {
   "cell_type": "code",
   "execution_count": 10,
   "metadata": {},
   "outputs": [
    {
     "name": "stdout",
     "output_type": "stream",
     "text": [
      "\n",
      "=== Distribution des maladies ===\n",
      "Nombre de maladies uniques: 116\n",
      "Nombre moyen d'échantillons par maladie: 2.43\n",
      "\n",
      "Top 10 maladies les plus fréquentes:\n",
      "Disease\n",
      "Osteoporosis            12\n",
      "Asthma                  11\n",
      "Stroke                   9\n",
      "Migraine                 9\n",
      "Diabetes                 9\n",
      "Hypertension             8\n",
      "Eczema                   6\n",
      "Common Cold              6\n",
      "Rheumatoid Arthritis     6\n",
      "Kidney Cancer            6\n",
      "Name: count, dtype: int64\n"
     ]
    }
   ],
   "source": [
    "# B) Verify distributing disease\n",
    "print(\"\\n=== Distribution des maladies ===\")\n",
    "disease_counts = df['Disease'].value_counts()\n",
    "print(f\"Nombre de maladies uniques: {len(disease_counts)}\")\n",
    "print(f\"Nombre moyen d'échantillons par maladie: {len(df)/len(disease_counts):.2f}\")\n",
    "print(\"\\nTop 10 maladies les plus fréquentes:\")\n",
    "print(disease_counts.head(10))\n",
    "\n",
    "\n",
    " "
   ]
  },
  {
   "cell_type": "code",
   "execution_count": 18,
   "metadata": {},
   "outputs": [
    {
     "name": "stdout",
     "output_type": "stream",
     "text": [
      "\n",
      "Nombre de maladies après filtrage: 2\n",
      "Nombre d'échantillons après filtrage: 23\n"
     ]
    }
   ],
   "source": [
    "MIN_SAMPLES = 10  # Minimum d'échantillons par maladie\n",
    "frequent_diseases = disease_counts[disease_counts >= MIN_SAMPLES].index\n",
    "df_filtered = df[df['Disease'].isin(frequent_diseases)].copy()\n",
    "\n",
    "print(f\"\\nNombre de maladies après filtrage: {len(frequent_diseases)}\")\n",
    "print(f\"Nombre d'échantillons après filtrage: {len(df_filtered)}\")"
   ]
  },
  {
   "cell_type": "code",
   "execution_count": 19,
   "metadata": {},
   "outputs": [
    {
     "data": {
      "image/png": "[encoded data removed]",
      "text/plain": [
       "<Figure size 1500x600 with 1 Axes>"
      ]
     },
     "metadata": {},
     "output_type": "display_data"
    }
   ],
   "source": [
    "# Visualiser la distribution des maladies\n",
    "plt.figure(figsize=(15, 6))\n",
    "sns.countplot(data=df_filtered, y='Disease', order=df_filtered['Disease'].value_counts().index)\n",
    "plt.title(\"Distribution des maladies\")\n",
    "plt.xlabel(\"Nombre de cas\")\n",
    "plt.ylabel(\"Maladie\")\n",
    "plt.tight_layout()\n",
    "plt.show()"
   ]
  },
  {
   "cell_type": "markdown",
   "metadata": {},
   "source": [
    "### Formating data"
   ]
  },
  {
   "cell_type": "code",
   "execution_count": 20,
   "metadata": {},
   "outputs": [
    {
     "name": "stdout",
     "output_type": "stream",
     "text": [
      "\n",
      "=== Encodage des données ===\n",
      "\n",
      "Types des données après encodage:\n",
      "Disease                 int64\n",
      "Fever                   int64\n",
      "Cough                   int64\n",
      "Fatigue                 int64\n",
      "Difficulty Breathing    int64\n",
      "Blood Pressure          int64\n",
      "Cholesterol Level       int64\n",
      "dtype: object\n"
     ]
    }
   ],
   "source": [
    "print(\"\\n=== Encodage des données ===\")\n",
    "# Convertir Yes/No en 1/0\n",
    "df_filtered.replace({\"Yes\": 1, \"No\": 0}, inplace=True)\n",
    "\n",
    "# Convertir Blood Pressure et Cholesterol Level en valeurs numériques\n",
    "df_filtered[\"Blood Pressure\"] = df_filtered[\"Blood Pressure\"].map({\"Low\": 1, \"Normal\": 2, \"High\": 3})\n",
    "df_filtered[\"Cholesterol Level\"] = df_filtered[\"Cholesterol Level\"].map({\"Low\": 1, \"Normal\": 2, \"High\": 3})\n",
    "\n",
    "# Encoder la variable cible (Disease)\n",
    "encoder_disease = LabelEncoder()\n",
    "df_filtered[\"Disease\"] = encoder_disease.fit_transform(df_filtered[\"Disease\"])\n",
    "\n",
    "# Encoder Outcome Variable\n",
    "# encoder_outcome = LabelEncoder()\n",
    "# df_filtered[\"Outcome Variable\"] = encoder_outcome.fit_transform(df_filtered[\"Outcome Variable\"])\n",
    "\n",
    "# Vérifier que toutes les colonnes sont numériques\n",
    "print(\"\\nTypes des données après encodage:\")\n",
    "print(df_filtered.dtypes)"
   ]
  },
  {
   "cell_type": "code",
   "execution_count": 21,
   "metadata": {},
   "outputs": [
    {
     "data": {
      "text/html": [
       "<div>\n",
       "<style scoped>\n",
       "    .dataframe tbody tr th:only-of-type {\n",
       "        vertical-align: middle;\n",
       "    }\n",
       "\n",
       "    .dataframe tbody tr th {\n",
       "        vertical-align: top;\n",
       "    }\n",
       "\n",
       "    .dataframe thead th {\n",
       "        text-align: right;\n",
       "    }\n",
       "</style>\n",
       "<table border=\"1\" class=\"dataframe\">\n",
       "  <thead>\n",
       "    <tr style=\"text-align: right;\">\n",
       "      <th></th>\n",
       "      <th>Disease</th>\n",
       "      <th>Fever</th>\n",
       "      <th>Cough</th>\n",
       "      <th>Fatigue</th>\n",
       "      <th>Difficulty Breathing</th>\n",
       "      <th>Blood Pressure</th>\n",
       "      <th>Cholesterol Level</th>\n",
       "    </tr>\n",
       "  </thead>\n",
       "  <tbody>\n",
       "    <tr>\n",
       "      <th>3</th>\n",
       "      <td>0</td>\n",
       "      <td>1</td>\n",
       "      <td>1</td>\n",
       "      <td>0</td>\n",
       "      <td>1</td>\n",
       "      <td>2</td>\n",
       "      <td>2</td>\n",
       "    </tr>\n",
       "    <tr>\n",
       "      <th>10</th>\n",
       "      <td>0</td>\n",
       "      <td>1</td>\n",
       "      <td>0</td>\n",
       "      <td>0</td>\n",
       "      <td>1</td>\n",
       "      <td>3</td>\n",
       "      <td>2</td>\n",
       "    </tr>\n",
       "    <tr>\n",
       "      <th>36</th>\n",
       "      <td>0</td>\n",
       "      <td>1</td>\n",
       "      <td>1</td>\n",
       "      <td>1</td>\n",
       "      <td>1</td>\n",
       "      <td>2</td>\n",
       "      <td>2</td>\n",
       "    </tr>\n",
       "    <tr>\n",
       "      <th>50</th>\n",
       "      <td>0</td>\n",
       "      <td>0</td>\n",
       "      <td>0</td>\n",
       "      <td>0</td>\n",
       "      <td>1</td>\n",
       "      <td>2</td>\n",
       "      <td>1</td>\n",
       "    </tr>\n",
       "    <tr>\n",
       "      <th>51</th>\n",
       "      <td>1</td>\n",
       "      <td>0</td>\n",
       "      <td>0</td>\n",
       "      <td>0</td>\n",
       "      <td>1</td>\n",
       "      <td>1</td>\n",
       "      <td>2</td>\n",
       "    </tr>\n",
       "    <tr>\n",
       "      <th>56</th>\n",
       "      <td>0</td>\n",
       "      <td>0</td>\n",
       "      <td>1</td>\n",
       "      <td>1</td>\n",
       "      <td>1</td>\n",
       "      <td>2</td>\n",
       "      <td>3</td>\n",
       "    </tr>\n",
       "    <tr>\n",
       "      <th>58</th>\n",
       "      <td>0</td>\n",
       "      <td>0</td>\n",
       "      <td>1</td>\n",
       "      <td>1</td>\n",
       "      <td>1</td>\n",
       "      <td>3</td>\n",
       "      <td>2</td>\n",
       "    </tr>\n",
       "    <tr>\n",
       "      <th>104</th>\n",
       "      <td>1</td>\n",
       "      <td>0</td>\n",
       "      <td>1</td>\n",
       "      <td>0</td>\n",
       "      <td>0</td>\n",
       "      <td>2</td>\n",
       "      <td>3</td>\n",
       "    </tr>\n",
       "    <tr>\n",
       "      <th>121</th>\n",
       "      <td>0</td>\n",
       "      <td>1</td>\n",
       "      <td>0</td>\n",
       "      <td>1</td>\n",
       "      <td>0</td>\n",
       "      <td>1</td>\n",
       "      <td>2</td>\n",
       "    </tr>\n",
       "    <tr>\n",
       "      <th>124</th>\n",
       "      <td>0</td>\n",
       "      <td>0</td>\n",
       "      <td>0</td>\n",
       "      <td>1</td>\n",
       "      <td>1</td>\n",
       "      <td>3</td>\n",
       "      <td>3</td>\n",
       "    </tr>\n",
       "  </tbody>\n",
       "</table>\n",
       "</div>"
      ],
      "text/plain": [
       "     Disease  Fever  Cough  Fatigue  Difficulty Breathing  Blood Pressure  \\\n",
       "3          0      1      1        0                     1               2   \n",
       "10         0      1      0        0                     1               3   \n",
       "36         0      1      1        1                     1               2   \n",
       "50         0      0      0        0                     1               2   \n",
       "51         1      0      0        0                     1               1   \n",
       "56         0      0      1        1                     1               2   \n",
       "58         0      0      1        1                     1               3   \n",
       "104        1      0      1        0                     0               2   \n",
       "121        0      1      0        1                     0               1   \n",
       "124        0      0      0        1                     1               3   \n",
       "\n",
       "     Cholesterol Level  \n",
       "3                    2  \n",
       "10                   2  \n",
       "36                   2  \n",
       "50                   1  \n",
       "51                   2  \n",
       "56                   3  \n",
       "58                   2  \n",
       "104                  3  \n",
       "121                  2  \n",
       "124                  3  "
      ]
     },
     "execution_count": 21,
     "metadata": {},
     "output_type": "execute_result"
    }
   ],
   "source": [
    "#Verifying transformation of data\n",
    "df_filtered.head(10)"
   ]
  },
  {
   "cell_type": "code",
   "execution_count": 22,
   "metadata": {},
   "outputs": [],
   "source": [
    "# 2. Préparation des features et target\n",
    "X = df_filtered.drop('Disease', axis=1)\n",
    "y = df_filtered['Disease']"
   ]
  },
  {
   "cell_type": "code",
   "execution_count": 23,
   "metadata": {},
   "outputs": [],
   "source": [
    "# 3. Standardisation des features\n",
    "scaler = StandardScaler()\n",
    "X_scaled = scaler.fit_transform(X)\n",
    "X_scaled = pd.DataFrame(X_scaled, columns=X.columns)"
   ]
  },
  {
   "cell_type": "code",
   "execution_count": 24,
   "metadata": {},
   "outputs": [],
   "source": [
    "X_train, X_test, y_train, y_test = train_test_split(\n",
    "    X_scaled, y, \n",
    "    test_size=0.05, \n",
    "    random_state=42,\n",
    "    stratify=y\n",
    ")"
   ]
  },
  {
   "cell_type": "code",
   "execution_count": 25,
   "metadata": {},
   "outputs": [
    {
     "name": "stdout",
     "output_type": "stream",
     "text": [
      "\n",
      "Évaluation du modèle: Logistic Regression\n",
      "Accuracy: 0.500\n",
      "F1-score: 0.333\n",
      "\n",
      "Évaluation du modèle: Random Forest\n",
      "Accuracy: 0.500\n",
      "F1-score: 0.333\n",
      "\n",
      "Évaluation du modèle: Decision Tree\n",
      "Accuracy: 0.500\n",
      "F1-score: 0.333\n",
      "\n",
      "Évaluation du modèle: SVM\n",
      "Accuracy: 0.500\n",
      "F1-score: 0.333\n",
      "\n",
      "Évaluation du modèle: KNN\n",
      "Accuracy: 0.500\n",
      "F1-score: 0.333\n"
     ]
    }
   ],
   "source": [
    "# 1. D'abord votre code existant jusqu'à l'évaluation des modèles\n",
    "def evaluate_models(X_train, X_test, y_train, y_test):\n",
    "    models = {\n",
    "        'Logistic Regression': LogisticRegression(class_weight='balanced', max_iter=1000),\n",
    "        'Random Forest': RandomForestClassifier(\n",
    "            n_estimators=100, \n",
    "            class_weight='balanced',\n",
    "            random_state=42,\n",
    "            min_samples_leaf=1,  # Ajouté\n",
    "            min_samples_split=2  # Ajouté\n",
    "        ),\n",
    "        'Decision Tree': DecisionTreeClassifier(class_weight='balanced', random_state=42),\n",
    "        'SVM': SVC(class_weight='balanced', random_state=42),\n",
    "        'KNN': KNeighborsClassifier(n_neighbors=5)\n",
    "    }\n",
    "    \n",
    "    results = {}\n",
    "    best_f1 = 0\n",
    "    best_model = None\n",
    "    \n",
    "    for name, model in models.items():\n",
    "        print(f\"\\nÉvaluation du modèle: {name}\")\n",
    "        model.fit(X_train, y_train)\n",
    "        y_pred = model.predict(X_test)\n",
    "        \n",
    "        accuracy = accuracy_score(y_test, y_pred)\n",
    "        precision, recall, f1, _ = precision_recall_fscore_support(y_test, y_pred, average='weighted')\n",
    "        \n",
    "        results[name] = {\n",
    "            'model': model,\n",
    "            'accuracy': accuracy,\n",
    "            'precision': precision,\n",
    "            'recall': recall,\n",
    "            'f1': f1\n",
    "        }\n",
    "        \n",
    "        # Garder le meilleur modèle\n",
    "        if f1 > best_f1:\n",
    "            best_f1 = f1\n",
    "            best_model = model\n",
    "        \n",
    "        print(f\"Accuracy: {accuracy:.3f}\")\n",
    "        print(f\"F1-score: {f1:.3f}\")\n",
    "    \n",
    "    return results, best_model\n",
    "\n",
    "# 2. Exécuter l'évaluation\n",
    "results, best_model = evaluate_models(X_train, X_test, y_train, y_test)"
   ]
  },
  {
   "cell_type": "code",
   "execution_count": 26,
   "metadata": {},
   "outputs": [
    {
     "name": "stdout",
     "output_type": "stream",
     "text": [
      "=== Système de prédiction de maladies ===\n",
      "Répondez aux questions suivantes sur les symptômes:\n",
      "Veuillez répondre par Oui ou Non\n",
      "Veuillez répondre par Bas, Normal ou Haut\n",
      "\n",
      "Prédiction des maladies possibles:\n",
      "Osteoporosis: 77.93%\n",
      "Asthma: 22.07%\n"
     ]
    }
   ],
   "source": [
    "def predict_disease_from_symptoms():\n",
    "    # Dictionnaire pour stocker les réponses\n",
    "    symptoms = {\n",
    "        'Fever': 'oui',\n",
    "        'Cough':'oui',\n",
    "        'Fatigue': None,\n",
    "        'Difficulty Breathing': None,\n",
    "        'Blood Pressure': None,\n",
    "        'Cholesterol Level': None\n",
    "    }\n",
    "    \n",
    "    # Demander les symptômes à l'utilisateur\n",
    "    print(\"Répondez aux questions suivantes sur les symptômes:\")\n",
    "    \n",
    "    # Symptômes binaires (Oui/Non)\n",
    "    for symptom in ['Fever', 'Cough', 'Fatigue', 'Difficulty Breathing']:\n",
    "        while True:\n",
    "            response = input(f\"Le patient a-t-il {symptom}? (Oui/Non): \").lower()\n",
    "            if response in ['oui', 'non']:\n",
    "                symptoms[symptom] = 1 if response == 'oui' else 0\n",
    "                break\n",
    "            print(\"Veuillez répondre par Oui ou Non\")\n",
    "    \n",
    "    # Blood Pressure\n",
    "    while True:\n",
    "        bp = input(\"Niveau de pression artérielle (Bas/Normal/Haut): \").lower()\n",
    "        if bp in ['bas', 'normal', 'haut']:\n",
    "            symptoms['Blood Pressure'] = 1 if bp == 'bas' else (2 if bp == 'normal' else 3)\n",
    "            break\n",
    "        print(\"Veuillez répondre par Bas, Normal ou Haut\")\n",
    "    \n",
    "    # Cholesterol Level\n",
    "    while True:\n",
    "        chol = input(\"Niveau de cholestérol (Bas/Normal/Haut): \").lower()\n",
    "        if chol in ['bas', 'normal', 'haut']:\n",
    "            symptoms['Cholesterol Level'] = 1 if chol == 'bas' else (2 if chol == 'normal' else 3)\n",
    "            break\n",
    "        print(\"Veuillez répondre par Bas, Normal ou Haut\")\n",
    "    \n",
    "    # Convertir les symptômes en DataFrame\n",
    "    patient_symptoms = pd.DataFrame([symptoms])\n",
    "    \n",
    "    # Standardiser les données avec le même scaler utilisé pour l'entraînement\n",
    "    patient_symptoms_scaled = scaler.transform(patient_symptoms)\n",
    "    \n",
    "    # Faire la prédiction avec le meilleur modèle\n",
    "    prediction = best_model.predict(patient_symptoms_scaled)\n",
    "    \n",
    "    # Obtenir le nom de la maladie (inverse transform)\n",
    "    predicted_disease = encoder_disease.inverse_transform(prediction)[0]\n",
    "    \n",
    "    # Si le modèle supporte les probabilités, les afficher\n",
    "    if hasattr(best_model, 'predict_proba'):\n",
    "        probabilities = best_model.predict_proba(patient_symptoms_scaled)[0]\n",
    "        diseases = encoder_disease.inverse_transform(range(len(probabilities)))\n",
    "        \n",
    "        print(\"\\nPrédiction des maladies possibles:\")\n",
    "        for disease, prob in sorted(zip(diseases, probabilities), key=lambda x: x[1], reverse=True)[:3]:\n",
    "            print(f\"{disease}: {prob*100:.2f}%\")\n",
    "    else:\n",
    "        print(f\"\\nMaladie prédite: {predicted_disease}\")\n",
    "    \n",
    "    return predicted_disease\n",
    "\n",
    "# Utilisation de la fonction\n",
    "if __name__ == \"__main__\":\n",
    "    print(\"=== Système de prédiction de maladies ===\")\n",
    "    while True:\n",
    "        predict_disease_from_symptoms()\n",
    "        \n",
    "        if input(\"\\nVoulez-vous faire une autre prédiction? (Oui/Non): \").lower() != 'oui':\n",
    "            break"
   ]
  }
 ],
 "metadata": {
  "kernelspec": {
   "display_name": "medicale",
   "language": "python",
   "name": "medicale"
  },
  "language_info": {
   "codemirror_mode": {
    "name": "ipython",
    "version": 3
   },
   "file_extension": ".py",
   "mimetype": "text/x-python",
   "name": "python",
   "nbconvert_exporter": "python",
   "pygments_lexer": "ipython3",
   "version": "3.12.6"
  }
 },
 "nbformat": 4,
 "nbformat_minor": 2
}
