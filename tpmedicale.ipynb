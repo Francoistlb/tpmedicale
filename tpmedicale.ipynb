{
 "cells": [
  {
   "cell_type": "markdown",
   "metadata": {},
   "source": [
    "# 1. COLLECTED DATA\n",
    "Avaibility data quantity and quality control \n",
    "\n"
   ]
  },
  {
   "cell_type": "markdown",
   "metadata": {},
   "source": [
    "### Init libraries"
   ]
  },
  {
   "cell_type": "code",
   "execution_count": 1,
   "metadata": {},
   "outputs": [],
   "source": [
    "import pandas as pd\n",
    "import numpy as np\n",
    "import matplotlib.pyplot as plt\n",
    "import seaborn as sns\n",
    "from sklearn.preprocessing import LabelEncoder, StandardScaler\n",
    "from sklearn.model_selection import train_test_split\n",
    "from sklearn.ensemble import RandomForestClassifier\n",
    "from sklearn.svm import SVC\n",
    "from sklearn.neighbors import KNeighborsClassifier\n",
    "from sklearn.linear_model import LogisticRegression\n",
    "from sklearn.tree import DecisionTreeClassifier\n",
    "from sklearn.ensemble import GradientBoostingClassifier\n",
    "from sklearn.model_selection import GridSearchCV\n",
    "from sklearn.metrics import confusion_matrix\n",
    "from sklearn.metrics import classification_report\n",
    "from sklearn.metrics import precision_recall_fscore_support\n",
    "from sklearn.metrics import accuracy_score\n",
    "\n",
    "# avoid displaying warnings \n",
    "import warnings\n",
    "warnings.filterwarnings(\"ignore\")"
   ]
  },
  {
   "cell_type": "markdown",
   "metadata": {},
   "source": [
    "### 1. Collect data"
   ]
  },
  {
   "cell_type": "code",
   "execution_count": 2,
   "metadata": {},
   "outputs": [],
   "source": [
    "data = pd.read_csv(\"medical.csv\", sep=';')\n"
   ]
  },
  {
   "cell_type": "code",
   "execution_count": null,
   "metadata": {},
   "outputs": [],
   "source": [
    "# Show first lines (head)\n",
    "print(data.head(10))"
   ]
  },
  {
   "cell_type": "code",
   "execution_count": null,
   "metadata": {},
   "outputs": [],
   "source": [
    "# Informations about data type and length\n",
    "data.info()"
   ]
  },
  {
   "cell_type": "code",
   "execution_count": null,
   "metadata": {},
   "outputs": [],
   "source": [
    "# Checking all the missing value in the data \n",
    "data.isnull().sum()"
   ]
  },
  {
   "cell_type": "markdown",
   "metadata": {},
   "source": [
    "### Cleaning and preparing the data\n",
    " "
   ]
  },
  {
   "cell_type": "markdown",
   "metadata": {},
   "source": [
    "By Marina"
   ]
  },
  {
   "cell_type": "markdown",
   "metadata": {},
   "source": [
    "#### 2. Cleaning\n"
   ]
  },
  {
   "cell_type": "code",
   "execution_count": 6,
   "metadata": {},
   "outputs": [],
   "source": [
    "# Deleting duplicated data\n",
    "df_cleaned = data.drop_duplicates(subset=[\"Fever\", \"Cough\", \"Fatigue\", \"Difficulty Breathing\", \"Age\", \"Gender\", \"Blood Pressure\", \"Cholesterol Level\",\"Outcome Variable\"])"
   ]
  },
  {
   "cell_type": "code",
   "execution_count": null,
   "metadata": {},
   "outputs": [],
   "source": [
    "# Checking result\n",
    "df_cleaned.info()"
   ]
  },
  {
   "cell_type": "code",
   "execution_count": 8,
   "metadata": {},
   "outputs": [],
   "source": [
    "# A) Drop the missing values\n",
    "df = df_cleaned.dropna()"
   ]
  },
  {
   "cell_type": "code",
   "execution_count": 9,
   "metadata": {},
   "outputs": [],
   "source": [
    "# Drop Age and Gender (not needed)\n",
    "df.drop ('Age', axis=1, inplace=True)\n",
    "df.drop ('Gender', axis=1, inplace=True)"
   ]
  },
  {
   "cell_type": "code",
   "execution_count": null,
   "metadata": {},
   "outputs": [],
   "source": [
    "# B) Verify distributing disease\n",
    "print(df[\"Disease\"].value_counts())  \n",
    " "
   ]
  },
  {
   "cell_type": "markdown",
   "metadata": {},
   "source": [
    "### Formating data"
   ]
  },
  {
   "cell_type": "code",
   "execution_count": 11,
   "metadata": {},
   "outputs": [],
   "source": [
    "encoder_disease = LabelEncoder()\n",
    "df[\"Disease\"] = encoder_disease.fit_transform(df[\"Disease\"])\n",
    "disease_mapping = dict(zip(encoder_disease.classes_, encoder_disease.transform(encoder_disease.classes_)))\n",
    "\n",
    "encoder_outcome = LabelEncoder()\n",
    "df[\"Outcome Variable\"] = encoder_outcome.fit_transform(df[\"Outcome Variable\"])  # Positive/Negative en 0/1\n",
    "\n",
    "# Convertir Yes/No en 1/0\n",
    "df.replace({\"Yes\": 1, \"No\": 0}, inplace=True)\n",
    "\n",
    "# Convertir Blood Pressure et Cholesterol Level en valeurs numériques\n",
    "df[\"Blood Pressure\"] = df[\"Blood Pressure\"].map({\"Low\": 1, \"Normal\": 2, \"High\": 3})\n",
    "df[\"Cholesterol Level\"] = df[\"Cholesterol Level\"].map({\"Low\": 1, \"Normal\": 2, \"High\": 3})\n"
   ]
  },
  {
   "cell_type": "code",
   "execution_count": null,
   "metadata": {},
   "outputs": [],
   "source": [
    "print(disease_mapping)"
   ]
  },
  {
   "cell_type": "code",
   "execution_count": null,
   "metadata": {},
   "outputs": [],
   "source": [
    "#Vérifying type of data \n",
    "print(df.dtypes)\n"
   ]
  },
  {
   "cell_type": "code",
   "execution_count": null,
   "metadata": {},
   "outputs": [],
   "source": [
    "#Verifying transformation of data\n",
    "df.head(10)"
   ]
  },
  {
   "cell_type": "code",
   "execution_count": 15,
   "metadata": {},
   "outputs": [],
   "source": [
    "# Sépration entre variable cible (target) et explicatives \n",
    "X = df.drop(columns=[\"Disease\"])  # Variables explicatives\n",
    "y = df[\"Disease\"]  # Variable cible\n",
    "\n",
    "X_train, X_test, y_train, y_test = train_test_split(X, y, test_size=0.2, random_state=42)"
   ]
  },
  {
   "cell_type": "code",
   "execution_count": null,
   "metadata": {},
   "outputs": [],
   "source": [
    "\n",
    "# REGRESSION LOGIQUE \n",
    "modelregression = LogisticRegression(class_weight='balanced', max_iter=1000)\n",
    "modelregression.fit(X_train, y_train)\n",
    "\n",
    "# ASSESS\n",
    "y_pred = modelregression.predict(X_test)\n",
    "print(f\"Précision : {accuracy_score(y_test, y_pred):.2f}\")\n",
    "print(f\"Rapport de classification :\\n{classification_report(y_test, y_pred)}\")\n",
    "\n"
   ]
  },
  {
   "cell_type": "code",
   "execution_count": null,
   "metadata": {},
   "outputs": [],
   "source": [
    "# DECISION TREE\n",
    "modeldecisiontree = DecisionTreeClassifier()\n",
    "modeldecisiontree.fit(X_train, y_train)\n",
    "\n",
    "# ASSESS \n",
    "y_pred = modeldecisiontree.predict(X_test)\n",
    "print(classification_report(y_test, y_pred))"
   ]
  },
  {
   "cell_type": "code",
   "execution_count": null,
   "metadata": {},
   "outputs": [],
   "source": [
    "# RANDOM FOREST\n",
    "modelrandomforest = RandomForestClassifier()\n",
    "modelrandomforest.fit(X_train, y_train)\n",
    "\n",
    "# ASSESS \n",
    "y_pred = modelrandomforest.predict(X_test)\n",
    "print(classification_report(y_test, y_pred))\n"
   ]
  },
  {
   "cell_type": "code",
   "execution_count": null,
   "metadata": {},
   "outputs": [],
   "source": [
    "# SVM\n",
    "modelsvm = SVC()\n",
    "modelsvm.fit(X_train, y_train)\n",
    "\n",
    "# ASSESS\n",
    "y_pred = modelsvm.predict(X_test)\n",
    "print(classification_report(y_test, y_pred))\n"
   ]
  }
 ],
 "metadata": {
  "kernelspec": {
   "display_name": "medicale",
   "language": "python",
   "name": "medicale"
  },
  "language_info": {
   "codemirror_mode": {
    "name": "ipython",
    "version": 3
   },
   "file_extension": ".py",
   "mimetype": "text/x-python",
   "name": "python",
   "nbconvert_exporter": "python",
   "pygments_lexer": "ipython3",
   "version": "3.12.6"
  }
 },
 "nbformat": 4,
 "nbformat_minor": 2
}
