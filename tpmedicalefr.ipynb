{
 "cells": [
  {
   "cell_type": "markdown",
   "metadata": {},
   "source": [
    "# TP MEDICAL\n"
   ]
  },
  {
   "cell_type": "markdown",
   "metadata": {},
   "source": [
    "### Init libraries"
   ]
  },
  {
   "cell_type": "code",
   "execution_count": 1,
   "metadata": {},
   "outputs": [],
   "source": [
    "import pandas as pd\n",
    "import numpy as np\n",
    "import matplotlib.pyplot as plt\n",
    "import seaborn as sns\n",
    "from sklearn.preprocessing import LabelEncoder, StandardScaler\n",
    "from sklearn.model_selection import train_test_split\n",
    "from sklearn.ensemble import RandomForestClassifier, GradientBoostingClassifier\n",
    "from sklearn.svm import SVC\n",
    "from sklearn.neighbors import KNeighborsClassifier\n",
    "from sklearn.linear_model import LogisticRegression\n",
    "from sklearn.tree import DecisionTreeClassifier\n",
    "from sklearn.model_selection import GridSearchCV\n",
    "from sklearn.metrics import confusion_matrix, classification_report, precision_recall_fscore_support, accuracy_score\n",
    "import plotly.express as px\n",
    "import plotly.subplots as sp\n",
    "# avoid displaying warnings \n",
    "import warnings\n",
    "warnings.filterwarnings(\"ignore\")\n"
   ]
  },
  {
   "cell_type": "markdown",
   "metadata": {},
   "source": [
    "### Collect data"
   ]
  },
  {
   "cell_type": "code",
   "execution_count": 2,
   "metadata": {},
   "outputs": [],
   "source": [
    "data = pd.read_csv(\"medical.csv\", sep=';')\n"
   ]
  },
  {
   "cell_type": "code",
   "execution_count": 3,
   "metadata": {},
   "outputs": [
    {
     "name": "stdout",
     "output_type": "stream",
     "text": [
      "           Disease Fever Cough Fatigue Difficulty Breathing  Age  Gender  \\\n",
      "0        Influenza   Yes    No     Yes                  Yes   19  Female   \n",
      "1      Common Cold    No   Yes     Yes                   No   25  Female   \n",
      "2           Eczema    No   Yes     Yes                   No   25  Female   \n",
      "3           Asthma   Yes   Yes      No                  Yes   25    Male   \n",
      "4           Asthma   Yes   Yes      No                  Yes   25    Male   \n",
      "5           Eczema   Yes    No      No                   No   25  Female   \n",
      "6        Influenza   Yes   Yes     Yes                  Yes   25  Female   \n",
      "7        Influenza   Yes   Yes     Yes                  Yes   25  Female   \n",
      "8  Hyperthyroidism    No   Yes      No                   No   28  Female   \n",
      "9  Hyperthyroidism    No   Yes      No                   No   28  Female   \n",
      "\n",
      "  Blood Pressure Cholesterol Level Outcome Variable  \n",
      "0            Low            Normal         Positive  \n",
      "1         Normal            Normal         Negative  \n",
      "2         Normal            Normal         Negative  \n",
      "3         Normal            Normal         Positive  \n",
      "4         Normal            Normal         Positive  \n",
      "5         Normal            Normal         Positive  \n",
      "6         Normal            Normal         Positive  \n",
      "7         Normal            Normal         Positive  \n",
      "8         Normal            Normal         Negative  \n",
      "9         Normal            Normal         Negative  \n"
     ]
    }
   ],
   "source": [
    "# Show first lines (head)\n",
    "print(data.head(10))"
   ]
  },
  {
   "cell_type": "code",
   "execution_count": 4,
   "metadata": {},
   "outputs": [
    {
     "name": "stdout",
     "output_type": "stream",
     "text": [
      "<class 'pandas.core.frame.DataFrame'>\n",
      "RangeIndex: 349 entries, 0 to 348\n",
      "Data columns (total 10 columns):\n",
      " #   Column                Non-Null Count  Dtype \n",
      "---  ------                --------------  ----- \n",
      " 0   Disease               349 non-null    object\n",
      " 1   Fever                 349 non-null    object\n",
      " 2   Cough                 349 non-null    object\n",
      " 3   Fatigue               349 non-null    object\n",
      " 4   Difficulty Breathing  349 non-null    object\n",
      " 5   Age                   349 non-null    int64 \n",
      " 6   Gender                349 non-null    object\n",
      " 7   Blood Pressure        349 non-null    object\n",
      " 8   Cholesterol Level     349 non-null    object\n",
      " 9   Outcome Variable      349 non-null    object\n",
      "dtypes: int64(1), object(9)\n",
      "memory usage: 27.4+ KB\n"
     ]
    }
   ],
   "source": [
    "# Informations about data type and length\n",
    "data.info()"
   ]
  },
  {
   "cell_type": "code",
   "execution_count": 5,
   "metadata": {},
   "outputs": [
    {
     "data": {
      "text/plain": [
       "Disease                 0\n",
       "Fever                   0\n",
       "Cough                   0\n",
       "Fatigue                 0\n",
       "Difficulty Breathing    0\n",
       "Age                     0\n",
       "Gender                  0\n",
       "Blood Pressure          0\n",
       "Cholesterol Level       0\n",
       "Outcome Variable        0\n",
       "dtype: int64"
      ]
     },
     "execution_count": 5,
     "metadata": {},
     "output_type": "execute_result"
    }
   ],
   "source": [
    "# Checking all the missing value in the data \n",
    "data.isnull().sum()"
   ]
  },
  {
   "cell_type": "markdown",
   "metadata": {},
   "source": [
    "#### Cleaning data\n",
    "\n"
   ]
  },
  {
   "cell_type": "code",
   "execution_count": 6,
   "metadata": {},
   "outputs": [
    {
     "name": "stdout",
     "output_type": "stream",
     "text": [
      "Nombre de lignes avant suppression des doublons : 349\n",
      "Nombre de lignes après suppression des doublons : 300\n",
      "Nombre de lignes supprimées : 49\n",
      "Pourcentage de données supprimées : 14.04%\n"
     ]
    }
   ],
   "source": [
    "### Delete data\n",
    "print(f\"Nombre de lignes avant suppression des doublons : {len(data)}\")\n",
    "df_cleaned = data.drop_duplicates()\n",
    "\n",
    "print(f\"Nombre de lignes après suppression des doublons : {len(df_cleaned)}\")\n",
    "print(f\"Nombre de lignes supprimées : {len(data) - len(df_cleaned)}\")\n",
    "print(f\"Pourcentage de données supprimées : {((len(data) - len(df_cleaned)) / len(data) * 100):.2f}%\")"
   ]
  },
  {
   "cell_type": "code",
   "execution_count": 7,
   "metadata": {},
   "outputs": [
    {
     "name": "stdout",
     "output_type": "stream",
     "text": [
      "<class 'pandas.core.frame.DataFrame'>\n",
      "Index: 300 entries, 0 to 347\n",
      "Data columns (total 10 columns):\n",
      " #   Column                Non-Null Count  Dtype \n",
      "---  ------                --------------  ----- \n",
      " 0   Disease               300 non-null    object\n",
      " 1   Fever                 300 non-null    object\n",
      " 2   Cough                 300 non-null    object\n",
      " 3   Fatigue               300 non-null    object\n",
      " 4   Difficulty Breathing  300 non-null    object\n",
      " 5   Age                   300 non-null    int64 \n",
      " 6   Gender                300 non-null    object\n",
      " 7   Blood Pressure        300 non-null    object\n",
      " 8   Cholesterol Level     300 non-null    object\n",
      " 9   Outcome Variable      300 non-null    object\n",
      "dtypes: int64(1), object(9)\n",
      "memory usage: 25.8+ KB\n"
     ]
    }
   ],
   "source": [
    "# Checking result\n",
    "df_cleaned.info()"
   ]
  },
  {
   "cell_type": "code",
   "execution_count": 8,
   "metadata": {},
   "outputs": [],
   "source": [
    "# Drop the missing values\n",
    "df = df_cleaned.dropna()"
   ]
  },
  {
   "cell_type": "code",
   "execution_count": 9,
   "metadata": {},
   "outputs": [],
   "source": [
    "# Drop Age and Gender (not needed)\n",
    "df.drop ('Age', axis=1, inplace=True)\n",
    "df.drop ('Gender', axis=1, inplace=True)"
   ]
  },
  {
   "cell_type": "code",
   "execution_count": 10,
   "metadata": {},
   "outputs": [
    {
     "name": "stdout",
     "output_type": "stream",
     "text": [
      "Nombre total de cas: 300\n",
      "Nombre de cas positifs: 157\n",
      "\n",
      "Distribution des maladies dans les cas positifs:\n",
      "Disease\n",
      "Asthma               12\n",
      "Stroke                7\n",
      "Osteoporosis          6\n",
      "Migraine              5\n",
      "Influenza             5\n",
      "                     ..\n",
      "Mumps                 1\n",
      "Gout                  1\n",
      "Testicular Cancer     1\n",
      "Tonsillitis           1\n",
      "Williams Syndrome     1\n",
      "Name: count, Length: 77, dtype: int64\n"
     ]
    }
   ],
   "source": [
    "# Filter to keep positive data (Outcome Variable) where we need to verify only if diease is present \n",
    "df_positive = df[df['Outcome Variable'] == 'Positive'].copy()\n",
    "\n",
    "print(\"Nombre total de cas:\", len(df))\n",
    "print(\"Nombre de cas positifs:\", len(df_positive))\n",
    "print(\"\\nDistribution des maladies dans les cas positifs:\")\n",
    "print(df_positive['Disease'].value_counts())"
   ]
  },
  {
   "cell_type": "code",
   "execution_count": 11,
   "metadata": {},
   "outputs": [
    {
     "name": "stdout",
     "output_type": "stream",
     "text": [
      "\n",
      "=== Distribution des maladies ===\n",
      "Nombre de maladies uniques: 77\n",
      "Nombre moyen d'échantillons par maladie: 2.04\n",
      "\n",
      "Top 10 maladies les plus fréquentes:\n",
      "Disease\n",
      "Asthma          12\n",
      "Stroke           7\n",
      "Osteoporosis     6\n",
      "Migraine         5\n",
      "Influenza        5\n",
      "Pneumonia        5\n",
      "Diabetes         5\n",
      "Hypertension     5\n",
      "Bronchitis       4\n",
      "Liver Cancer     4\n",
      "Name: count, dtype: int64\n"
     ]
    }
   ],
   "source": [
    "# Verify distributing disease\n",
    "print(\"\\n=== Distribution des maladies ===\")\n",
    "disease_counts = df_positive['Disease'].value_counts()\n",
    "print(f\"Nombre de maladies uniques: {len(disease_counts)}\")\n",
    "print(f\"Nombre moyen d'échantillons par maladie: {len(df_positive)/len(disease_counts):.2f}\")\n",
    "print(\"\\nTop 10 maladies les plus fréquentes:\")\n",
    "print(disease_counts.head(10))\n",
    " "
   ]
  },
  {
   "cell_type": "code",
   "execution_count": 12,
   "metadata": {},
   "outputs": [
    {
     "data": {
      "image/png": "[encoded data removed]",
      "text/plain": [
       "<Figure size 1200x600 with 1 Axes>"
      ]
     },
     "metadata": {},
     "output_type": "display_data"
    },
    {
     "name": "stdout",
     "output_type": "stream",
     "text": [
      "\n",
      "Statistiques des maladies sélectionnées (Cas Positifs):\n",
      "Nombre total de maladies: 8\n",
      "\n",
      "Détail par maladie:\n",
      "Asthma: 12 échantillons (7.6%)\n",
      "Stroke: 7 échantillons (4.5%)\n",
      "Osteoporosis: 6 échantillons (3.8%)\n",
      "Migraine: 5 échantillons (3.2%)\n",
      "Influenza: 5 échantillons (3.2%)\n",
      "Pneumonia: 5 échantillons (3.2%)\n",
      "Diabetes: 5 échantillons (3.2%)\n",
      "Hypertension: 5 échantillons (3.2%)\n"
     ]
    }
   ],
   "source": [
    "# Filter to keep diseas with >= 5 samples\n",
    "min_samples = 5\n",
    "disease_counts = df_positive['Disease'].value_counts()\n",
    "disease_percent = disease_counts[disease_counts >= min_samples]\n",
    "\n",
    "# Graphiq\n",
    "plt.figure(figsize=(12, 6))\n",
    "plt.pie(\n",
    "    disease_percent.values,\n",
    "    labels=disease_percent.index,\n",
    "    autopct='%1.1f%%',\n",
    "    colors=sns.color_palette('coolwarm', len(disease_percent))\n",
    ")\n",
    "plt.title(f\"Distribution des maladies - Cas Positifs (≥ {min_samples} échantillons)\")\n",
    "plt.axis('equal')\n",
    "plt.show()\n",
    "\n",
    "# Show value\n",
    "print(\"\\nStatistiques des maladies sélectionnées (Cas Positifs):\")\n",
    "print(f\"Nombre total de maladies: {len(disease_percent)}\")\n",
    "print(\"\\nDétail par maladie:\")\n",
    "for disease, count in disease_counts[disease_counts >= min_samples].items():\n",
    "    print(f\"{disease}: {count} échantillons ({count/len(df_positive)*100:.1f}%)\")"
   ]
  },
  {
   "cell_type": "code",
   "execution_count": 13,
   "metadata": {},
   "outputs": [
    {
     "data": {
      "application/vnd.plotly.v1+json": {
       "config": {
        "plotlyServerURL": "https://plot.ly"
       },
       "data": [
        {
         "bingroup": "x",
         "hovertemplate": "Disease=Influenza<br>Fever=%{x}<br>count=%{y}<extra></extra>",
         "legendgroup": "Influenza",
         "marker": {
          "color": "#636efa",
          "pattern": {
           "shape": ""
          }
         },
         "name": "Influenza",
         "orientation": "v",
         "showlegend": true,
         "type": "histogram",
         "x": [
          "Yes",
          "Yes",
          "Yes",
          "Yes",
          "Yes"
         ],
         "xaxis": "x",
         "yaxis": "y"
        },
        {
         "bingroup": "x",
         "hovertemplate": "Disease=Asthma<br>Fever=%{x}<br>count=%{y}<extra></extra>",
         "legendgroup": "Asthma",
         "marker": {
          "color": "#EF553B",
          "pattern": {
           "shape": ""
          }
         },
         "name": "Asthma",
         "orientation": "v",
         "showlegend": true,
         "type": "histogram",
         "x": [
          "Yes",
          "Yes",
          "Yes",
          "Yes",
          "Yes",
          "Yes",
          "Yes",
          "No",
          "Yes",
          "Yes",
          "Yes",
          "Yes"
         ],
         "xaxis": "x",
         "yaxis": "y"
        },
        {
         "bingroup": "x",
         "hovertemplate": "Disease=Eczema<br>Fever=%{x}<br>count=%{y}<extra></extra>",
         "legendgroup": "Eczema",
         "marker": {
          "color": "#00cc96",
          "pattern": {
           "shape": ""
          }
         },
         "name": "Eczema",
         "orientation": "v",
         "showlegend": true,
         "type": "histogram",
         "x": [
          "Yes",
          "Yes",
          "No"
         ],
         "xaxis": "x",
         "yaxis": "y"
        },
        {
         "bingroup": "x",
         "hovertemplate": "Disease=Depression<br>Fever=%{x}<br>count=%{y}<extra></extra>",
         "legendgroup": "Depression",
         "marker": {
          "color": "#ab63fa",
          "pattern": {
           "shape": ""
          }
         },
         "name": "Depression",
         "orientation": "v",
         "showlegend": true,
         "type": "histogram",
         "x": [
          "Yes",
          "No",
          "No"
         ],
         "xaxis": "x",
         "yaxis": "y"
        },
        {
         "bingroup": "x",
         "hovertemplate": "Disease=Liver Cancer<br>Fever=%{x}<br>count=%{y}<extra></extra>",
         "legendgroup": "Liver Cancer",
         "marker": {
          "color": "#FFA15A",
          "pattern": {
           "shape": ""
          }
         },
         "name": "Liver Cancer",
         "orientation": "v",
         "showlegend": true,
         "type": "histogram",
         "x": [
          "Yes",
          "No",
          "No",
          "Yes"
         ],
         "xaxis": "x",
         "yaxis": "y"
        },
        {
         "bingroup": "x",
         "hovertemplate": "Disease=Stroke<br>Fever=%{x}<br>count=%{y}<extra></extra>",
         "legendgroup": "Stroke",
         "marker": {
          "color": "#19d3f3",
          "pattern": {
           "shape": ""
          }
         },
         "name": "Stroke",
         "orientation": "v",
         "showlegend": true,
         "type": "histogram",
         "x": [
          "Yes",
          "No",
          "Yes",
          "No",
          "Yes",
          "Yes",
          "Yes"
         ],
         "xaxis": "x",
         "yaxis": "y"
        },
        {
         "bingroup": "x",
         "hovertemplate": "Disease=Urinary Tract Infection<br>Fever=%{x}<br>count=%{y}<extra></extra>",
         "legendgroup": "Urinary Tract Infection",
         "marker": {
          "color": "#FF6692",
          "pattern": {
           "shape": ""
          }
         },
         "name": "Urinary Tract Infection",
         "orientation": "v",
         "showlegend": true,
         "type": "histogram",
         "x": [
          "Yes",
          "Yes"
         ],
         "xaxis": "x",
         "yaxis": "y"
        },
        {
         "bingroup": "x",
         "hovertemplate": "Disease=Bipolar Disorder<br>Fever=%{x}<br>count=%{y}<extra></extra>",
         "legendgroup": "Bipolar Disorder",
         "marker": {
          "color": "#B6E880",
          "pattern": {
           "shape": ""
          }
         },
         "name": "Bipolar Disorder",
         "orientation": "v",
         "showlegend": true,
         "type": "histogram",
         "x": [
          "No"
         ],
         "xaxis": "x",
         "yaxis": "y"
        },
        {
         "bingroup": "x",
         "hovertemplate": "Disease=Bronchitis<br>Fever=%{x}<br>count=%{y}<extra></extra>",
         "legendgroup": "Bronchitis",
         "marker": {
          "color": "#FF97FF",
          "pattern": {
           "shape": ""
          }
         },
         "name": "Bronchitis",
         "orientation": "v",
         "showlegend": true,
         "type": "histogram",
         "x": [
          "Yes",
          "Yes",
          "Yes",
          "Yes"
         ],
         "xaxis": "x",
         "yaxis": "y"
        },
        {
         "bingroup": "x",
         "hovertemplate": "Disease=Cerebral Palsy<br>Fever=%{x}<br>count=%{y}<extra></extra>",
         "legendgroup": "Cerebral Palsy",
         "marker": {
          "color": "#FECB52",
          "pattern": {
           "shape": ""
          }
         },
         "name": "Cerebral Palsy",
         "orientation": "v",
         "showlegend": true,
         "type": "histogram",
         "x": [
          "No"
         ],
         "xaxis": "x",
         "yaxis": "y"
        },
        {
         "bingroup": "x",
         "hovertemplate": "Disease=Colorectal Cancer<br>Fever=%{x}<br>count=%{y}<extra></extra>",
         "legendgroup": "Colorectal Cancer",
         "marker": {
          "color": "#636efa",
          "pattern": {
           "shape": ""
          }
         },
         "name": "Colorectal Cancer",
         "orientation": "v",
         "showlegend": true,
         "type": "histogram",
         "x": [
          "No"
         ],
         "xaxis": "x",
         "yaxis": "y"
        },
        {
         "bingroup": "x",
         "hovertemplate": "Disease=Hypertensive Heart Disease<br>Fever=%{x}<br>count=%{y}<extra></extra>",
         "legendgroup": "Hypertensive Heart Disease",
         "marker": {
          "color": "#EF553B",
          "pattern": {
           "shape": ""
          }
         },
         "name": "Hypertensive Heart Disease",
         "orientation": "v",
         "showlegend": true,
         "type": "histogram",
         "x": [
          "No"
         ],
         "xaxis": "x",
         "yaxis": "y"
        },
        {
         "bingroup": "x",
         "hovertemplate": "Disease=Multiple Sclerosis<br>Fever=%{x}<br>count=%{y}<extra></extra>",
         "legendgroup": "Multiple Sclerosis",
         "marker": {
          "color": "#00cc96",
          "pattern": {
           "shape": ""
          }
         },
         "name": "Multiple Sclerosis",
         "orientation": "v",
         "showlegend": true,
         "type": "histogram",
         "x": [
          "No",
          "Yes"
         ],
         "xaxis": "x",
         "yaxis": "y"
        },
        {
         "bingroup": "x",
         "hovertemplate": "Disease=Myocardial Infarction (Heart...)<br>Fever=%{x}<br>count=%{y}<extra></extra>",
         "legendgroup": "Myocardial Infarction (Heart...)",
         "marker": {
          "color": "#ab63fa",
          "pattern": {
           "shape": ""
          }
         },
         "name": "Myocardial Infarction (Heart...)",
         "orientation": "v",
         "showlegend": true,
         "type": "histogram",
         "x": [
          "Yes"
         ],
         "xaxis": "x",
         "yaxis": "y"
        },
        {
         "bingroup": "x",
         "hovertemplate": "Disease=Urinary Tract Infection (UTI)<br>Fever=%{x}<br>count=%{y}<extra></extra>",
         "legendgroup": "Urinary Tract Infection (UTI)",
         "marker": {
          "color": "#FFA15A",
          "pattern": {
           "shape": ""
          }
         },
         "name": "Urinary Tract Infection (UTI)",
         "orientation": "v",
         "showlegend": true,
         "type": "histogram",
         "x": [
          "Yes"
         ],
         "xaxis": "x",
         "yaxis": "y"
        },
        {
         "bingroup": "x",
         "hovertemplate": "Disease=Common Cold<br>Fever=%{x}<br>count=%{y}<extra></extra>",
         "legendgroup": "Common Cold",
         "marker": {
          "color": "#19d3f3",
          "pattern": {
           "shape": ""
          }
         },
         "name": "Common Cold",
         "orientation": "v",
         "showlegend": true,
         "type": "histogram",
         "x": [
          "Yes"
         ],
         "xaxis": "x",
         "yaxis": "y"
        },
        {
         "bingroup": "x",
         "hovertemplate": "Disease=Migraine<br>Fever=%{x}<br>count=%{y}<extra></extra>",
         "legendgroup": "Migraine",
         "marker": {
          "color": "#FF6692",
          "pattern": {
           "shape": ""
          }
         },
         "name": "Migraine",
         "orientation": "v",
         "showlegend": true,
         "type": "histogram",
         "x": [
          "Yes",
          "No",
          "Yes",
          "Yes",
          "No"
         ],
         "xaxis": "x",
         "yaxis": "y"
        },
        {
         "bingroup": "x",
         "hovertemplate": "Disease=Pneumonia<br>Fever=%{x}<br>count=%{y}<extra></extra>",
         "legendgroup": "Pneumonia",
         "marker": {
          "color": "#B6E880",
          "pattern": {
           "shape": ""
          }
         },
         "name": "Pneumonia",
         "orientation": "v",
         "showlegend": true,
         "type": "histogram",
         "x": [
          "Yes",
          "Yes",
          "Yes",
          "No",
          "Yes"
         ],
         "xaxis": "x",
         "yaxis": "y"
        },
        {
         "bingroup": "x",
         "hovertemplate": "Disease=Cirrhosis<br>Fever=%{x}<br>count=%{y}<extra></extra>",
         "legendgroup": "Cirrhosis",
         "marker": {
          "color": "#FF97FF",
          "pattern": {
           "shape": ""
          }
         },
         "name": "Cirrhosis",
         "orientation": "v",
         "showlegend": true,
         "type": "histogram",
         "x": [
          "No"
         ],
         "xaxis": "x",
         "yaxis": "y"
        },
        {
         "bingroup": "x",
         "hovertemplate": "Disease=Conjunctivitis (Pink Eye)<br>Fever=%{x}<br>count=%{y}<extra></extra>",
         "legendgroup": "Conjunctivitis (Pink Eye)",
         "marker": {
          "color": "#FECB52",
          "pattern": {
           "shape": ""
          }
         },
         "name": "Conjunctivitis (Pink Eye)",
         "orientation": "v",
         "showlegend": true,
         "type": "histogram",
         "x": [
          "No"
         ],
         "xaxis": "x",
         "yaxis": "y"
        },
        {
         "bingroup": "x",
         "hovertemplate": "Disease=Gastroenteritis<br>Fever=%{x}<br>count=%{y}<extra></extra>",
         "legendgroup": "Gastroenteritis",
         "marker": {
          "color": "#636efa",
          "pattern": {
           "shape": ""
          }
         },
         "name": "Gastroenteritis",
         "orientation": "v",
         "showlegend": true,
         "type": "histogram",
         "x": [
          "Yes",
          "Yes",
          "Yes"
         ],
         "xaxis": "x",
         "yaxis": "y"
        },
        {
         "bingroup": "x",
         "hovertemplate": "Disease=Hyperthyroidism<br>Fever=%{x}<br>count=%{y}<extra></extra>",
         "legendgroup": "Hyperthyroidism",
         "marker": {
          "color": "#EF553B",
          "pattern": {
           "shape": ""
          }
         },
         "name": "Hyperthyroidism",
         "orientation": "v",
         "showlegend": true,
         "type": "histogram",
         "x": [
          "Yes",
          "No"
         ],
         "xaxis": "x",
         "yaxis": "y"
        },
        {
         "bingroup": "x",
         "hovertemplate": "Disease=Kidney Cancer<br>Fever=%{x}<br>count=%{y}<extra></extra>",
         "legendgroup": "Kidney Cancer",
         "marker": {
          "color": "#00cc96",
          "pattern": {
           "shape": ""
          }
         },
         "name": "Kidney Cancer",
         "orientation": "v",
         "showlegend": true,
         "type": "histogram",
         "x": [
          "No",
          "Yes"
         ],
         "xaxis": "x",
         "yaxis": "y"
        },
        {
         "bingroup": "x",
         "hovertemplate": "Disease=Liver Disease<br>Fever=%{x}<br>count=%{y}<extra></extra>",
         "legendgroup": "Liver Disease",
         "marker": {
          "color": "#ab63fa",
          "pattern": {
           "shape": ""
          }
         },
         "name": "Liver Disease",
         "orientation": "v",
         "showlegend": true,
         "type": "histogram",
         "x": [
          "No",
          "Yes"
         ],
         "xaxis": "x",
         "yaxis": "y"
        },
        {
         "bingroup": "x",
         "hovertemplate": "Disease=Malaria<br>Fever=%{x}<br>count=%{y}<extra></extra>",
         "legendgroup": "Malaria",
         "marker": {
          "color": "#FFA15A",
          "pattern": {
           "shape": ""
          }
         },
         "name": "Malaria",
         "orientation": "v",
         "showlegend": true,
         "type": "histogram",
         "x": [
          "Yes"
         ],
         "xaxis": "x",
         "yaxis": "y"
        },
        {
         "bingroup": "x",
         "hovertemplate": "Disease=Pancreatitis<br>Fever=%{x}<br>count=%{y}<extra></extra>",
         "legendgroup": "Pancreatitis",
         "marker": {
          "color": "#19d3f3",
          "pattern": {
           "shape": ""
          }
         },
         "name": "Pancreatitis",
         "orientation": "v",
         "showlegend": true,
         "type": "histogram",
         "x": [
          "No",
          "Yes"
         ],
         "xaxis": "x",
         "yaxis": "y"
        },
        {
         "bingroup": "x",
         "hovertemplate": "Disease=Rheumatoid Arthritis<br>Fever=%{x}<br>count=%{y}<extra></extra>",
         "legendgroup": "Rheumatoid Arthritis",
         "marker": {
          "color": "#FF6692",
          "pattern": {
           "shape": ""
          }
         },
         "name": "Rheumatoid Arthritis",
         "orientation": "v",
         "showlegend": true,
         "type": "histogram",
         "x": [
          "Yes",
          "No",
          "No"
         ],
         "xaxis": "x",
         "yaxis": "y"
        },
        {
         "bingroup": "x",
         "hovertemplate": "Disease=Spina Bifida<br>Fever=%{x}<br>count=%{y}<extra></extra>",
         "legendgroup": "Spina Bifida",
         "marker": {
          "color": "#B6E880",
          "pattern": {
           "shape": ""
          }
         },
         "name": "Spina Bifida",
         "orientation": "v",
         "showlegend": true,
         "type": "histogram",
         "x": [
          "No"
         ],
         "xaxis": "x",
         "yaxis": "y"
        },
        {
         "bingroup": "x",
         "hovertemplate": "Disease=Ulcerative Colitis<br>Fever=%{x}<br>count=%{y}<extra></extra>",
         "legendgroup": "Ulcerative Colitis",
         "marker": {
          "color": "#FF97FF",
          "pattern": {
           "shape": ""
          }
         },
         "name": "Ulcerative Colitis",
         "orientation": "v",
         "showlegend": true,
         "type": "histogram",
         "x": [
          "No",
          "Yes",
          "No"
         ],
         "xaxis": "x",
         "yaxis": "y"
        },
        {
         "bingroup": "x",
         "hovertemplate": "Disease=Anxiety Disorders<br>Fever=%{x}<br>count=%{y}<extra></extra>",
         "legendgroup": "Anxiety Disorders",
         "marker": {
          "color": "#FECB52",
          "pattern": {
           "shape": ""
          }
         },
         "name": "Anxiety Disorders",
         "orientation": "v",
         "showlegend": true,
         "type": "histogram",
         "x": [
          "Yes",
          "Yes",
          "Yes"
         ],
         "xaxis": "x",
         "yaxis": "y"
        },
        {
         "bingroup": "x",
         "hovertemplate": "Disease=Diabetes<br>Fever=%{x}<br>count=%{y}<extra></extra>",
         "legendgroup": "Diabetes",
         "marker": {
          "color": "#636efa",
          "pattern": {
           "shape": ""
          }
         },
         "name": "Diabetes",
         "orientation": "v",
         "showlegend": true,
         "type": "histogram",
         "x": [
          "Yes",
          "Yes",
          "Yes",
          "No",
          "Yes"
         ],
         "xaxis": "x",
         "yaxis": "y"
        },
        {
         "bingroup": "x",
         "hovertemplate": "Disease=Osteoarthritis<br>Fever=%{x}<br>count=%{y}<extra></extra>",
         "legendgroup": "Osteoarthritis",
         "marker": {
          "color": "#EF553B",
          "pattern": {
           "shape": ""
          }
         },
         "name": "Osteoarthritis",
         "orientation": "v",
         "showlegend": true,
         "type": "histogram",
         "x": [
          "Yes",
          "Yes",
          "Yes"
         ],
         "xaxis": "x",
         "yaxis": "y"
        },
        {
         "bingroup": "x",
         "hovertemplate": "Disease=Klinefelter Syndrome<br>Fever=%{x}<br>count=%{y}<extra></extra>",
         "legendgroup": "Klinefelter Syndrome",
         "marker": {
          "color": "#00cc96",
          "pattern": {
           "shape": ""
          }
         },
         "name": "Klinefelter Syndrome",
         "orientation": "v",
         "showlegend": true,
         "type": "histogram",
         "x": [
          "No",
          "No"
         ],
         "xaxis": "x",
         "yaxis": "y"
        },
        {
         "bingroup": "x",
         "hovertemplate": "Disease=Chickenpox<br>Fever=%{x}<br>count=%{y}<extra></extra>",
         "legendgroup": "Chickenpox",
         "marker": {
          "color": "#ab63fa",
          "pattern": {
           "shape": ""
          }
         },
         "name": "Chickenpox",
         "orientation": "v",
         "showlegend": true,
         "type": "histogram",
         "x": [
          "No"
         ],
         "xaxis": "x",
         "yaxis": "y"
        },
        {
         "bingroup": "x",
         "hovertemplate": "Disease=Coronary Artery Disease<br>Fever=%{x}<br>count=%{y}<extra></extra>",
         "legendgroup": "Coronary Artery Disease",
         "marker": {
          "color": "#FFA15A",
          "pattern": {
           "shape": ""
          }
         },
         "name": "Coronary Artery Disease",
         "orientation": "v",
         "showlegend": true,
         "type": "histogram",
         "x": [
          "No",
          "No"
         ],
         "xaxis": "x",
         "yaxis": "y"
        },
        {
         "bingroup": "x",
         "hovertemplate": "Disease=Eating Disorders (Anorexia,...)<br>Fever=%{x}<br>count=%{y}<extra></extra>",
         "legendgroup": "Eating Disorders (Anorexia,...)",
         "marker": {
          "color": "#19d3f3",
          "pattern": {
           "shape": ""
          }
         },
         "name": "Eating Disorders (Anorexia,...)",
         "orientation": "v",
         "showlegend": true,
         "type": "histogram",
         "x": [
          "No"
         ],
         "xaxis": "x",
         "yaxis": "y"
        },
        {
         "bingroup": "x",
         "hovertemplate": "Disease=Fibromyalgia<br>Fever=%{x}<br>count=%{y}<extra></extra>",
         "legendgroup": "Fibromyalgia",
         "marker": {
          "color": "#FF6692",
          "pattern": {
           "shape": ""
          }
         },
         "name": "Fibromyalgia",
         "orientation": "v",
         "showlegend": true,
         "type": "histogram",
         "x": [
          "No"
         ],
         "xaxis": "x",
         "yaxis": "y"
        },
        {
         "bingroup": "x",
         "hovertemplate": "Disease=Hemophilia<br>Fever=%{x}<br>count=%{y}<extra></extra>",
         "legendgroup": "Hemophilia",
         "marker": {
          "color": "#B6E880",
          "pattern": {
           "shape": ""
          }
         },
         "name": "Hemophilia",
         "orientation": "v",
         "showlegend": true,
         "type": "histogram",
         "x": [
          "No",
          "No"
         ],
         "xaxis": "x",
         "yaxis": "y"
        },
        {
         "bingroup": "x",
         "hovertemplate": "Disease=Hypoglycemia<br>Fever=%{x}<br>count=%{y}<extra></extra>",
         "legendgroup": "Hypoglycemia",
         "marker": {
          "color": "#FF97FF",
          "pattern": {
           "shape": ""
          }
         },
         "name": "Hypoglycemia",
         "orientation": "v",
         "showlegend": true,
         "type": "histogram",
         "x": [
          "No"
         ],
         "xaxis": "x",
         "yaxis": "y"
        },
        {
         "bingroup": "x",
         "hovertemplate": "Disease=Lymphoma<br>Fever=%{x}<br>count=%{y}<extra></extra>",
         "legendgroup": "Lymphoma",
         "marker": {
          "color": "#FECB52",
          "pattern": {
           "shape": ""
          }
         },
         "name": "Lymphoma",
         "orientation": "v",
         "showlegend": true,
         "type": "histogram",
         "x": [
          "No"
         ],
         "xaxis": "x",
         "yaxis": "y"
        },
        {
         "bingroup": "x",
         "hovertemplate": "Disease=Psoriasis<br>Fever=%{x}<br>count=%{y}<extra></extra>",
         "legendgroup": "Psoriasis",
         "marker": {
          "color": "#636efa",
          "pattern": {
           "shape": ""
          }
         },
         "name": "Psoriasis",
         "orientation": "v",
         "showlegend": true,
         "type": "histogram",
         "x": [
          "No",
          "Yes",
          "No"
         ],
         "xaxis": "x",
         "yaxis": "y"
        },
        {
         "bingroup": "x",
         "hovertemplate": "Disease=Tuberculosis<br>Fever=%{x}<br>count=%{y}<extra></extra>",
         "legendgroup": "Tuberculosis",
         "marker": {
          "color": "#EF553B",
          "pattern": {
           "shape": ""
          }
         },
         "name": "Tuberculosis",
         "orientation": "v",
         "showlegend": true,
         "type": "histogram",
         "x": [
          "Yes",
          "Yes"
         ],
         "xaxis": "x",
         "yaxis": "y"
        },
        {
         "bingroup": "x",
         "hovertemplate": "Disease=Hypothyroidism<br>Fever=%{x}<br>count=%{y}<extra></extra>",
         "legendgroup": "Hypothyroidism",
         "marker": {
          "color": "#00cc96",
          "pattern": {
           "shape": ""
          }
         },
         "name": "Hypothyroidism",
         "orientation": "v",
         "showlegend": true,
         "type": "histogram",
         "x": [
          "Yes",
          "No",
          "No"
         ],
         "xaxis": "x",
         "yaxis": "y"
        },
        {
         "bingroup": "x",
         "hovertemplate": "Disease=Kidney Disease<br>Fever=%{x}<br>count=%{y}<extra></extra>",
         "legendgroup": "Kidney Disease",
         "marker": {
          "color": "#ab63fa",
          "pattern": {
           "shape": ""
          }
         },
         "name": "Kidney Disease",
         "orientation": "v",
         "showlegend": true,
         "type": "histogram",
         "x": [
          "Yes",
          "Yes"
         ],
         "xaxis": "x",
         "yaxis": "y"
        },
        {
         "bingroup": "x",
         "hovertemplate": "Disease=Allergic Rhinitis<br>Fever=%{x}<br>count=%{y}<extra></extra>",
         "legendgroup": "Allergic Rhinitis",
         "marker": {
          "color": "#FFA15A",
          "pattern": {
           "shape": ""
          }
         },
         "name": "Allergic Rhinitis",
         "orientation": "v",
         "showlegend": true,
         "type": "histogram",
         "x": [
          "Yes"
         ],
         "xaxis": "x",
         "yaxis": "y"
        },
        {
         "bingroup": "x",
         "hovertemplate": "Disease=Cataracts<br>Fever=%{x}<br>count=%{y}<extra></extra>",
         "legendgroup": "Cataracts",
         "marker": {
          "color": "#19d3f3",
          "pattern": {
           "shape": ""
          }
         },
         "name": "Cataracts",
         "orientation": "v",
         "showlegend": true,
         "type": "histogram",
         "x": [
          "No"
         ],
         "xaxis": "x",
         "yaxis": "y"
        },
        {
         "bingroup": "x",
         "hovertemplate": "Disease=Crohn's Disease<br>Fever=%{x}<br>count=%{y}<extra></extra>",
         "legendgroup": "Crohn's Disease",
         "marker": {
          "color": "#FF6692",
          "pattern": {
           "shape": ""
          }
         },
         "name": "Crohn's Disease",
         "orientation": "v",
         "showlegend": true,
         "type": "histogram",
         "x": [
          "No",
          "Yes"
         ],
         "xaxis": "x",
         "yaxis": "y"
        },
        {
         "bingroup": "x",
         "hovertemplate": "Disease=Hypertension<br>Fever=%{x}<br>count=%{y}<extra></extra>",
         "legendgroup": "Hypertension",
         "marker": {
          "color": "#B6E880",
          "pattern": {
           "shape": ""
          }
         },
         "name": "Hypertension",
         "orientation": "v",
         "showlegend": true,
         "type": "histogram",
         "x": [
          "Yes",
          "Yes",
          "No",
          "Yes",
          "No"
         ],
         "xaxis": "x",
         "yaxis": "y"
        },
        {
         "bingroup": "x",
         "hovertemplate": "Disease=Osteoporosis<br>Fever=%{x}<br>count=%{y}<extra></extra>",
         "legendgroup": "Osteoporosis",
         "marker": {
          "color": "#FF97FF",
          "pattern": {
           "shape": ""
          }
         },
         "name": "Osteoporosis",
         "orientation": "v",
         "showlegend": true,
         "type": "histogram",
         "x": [
          "Yes",
          "Yes",
          "No",
          "Yes",
          "Yes",
          "No"
         ],
         "xaxis": "x",
         "yaxis": "y"
        },
        {
         "bingroup": "x",
         "hovertemplate": "Disease=Pneumocystis Pneumonia (PCP)<br>Fever=%{x}<br>count=%{y}<extra></extra>",
         "legendgroup": "Pneumocystis Pneumonia (PCP)",
         "marker": {
          "color": "#FECB52",
          "pattern": {
           "shape": ""
          }
         },
         "name": "Pneumocystis Pneumonia (PCP)",
         "orientation": "v",
         "showlegend": true,
         "type": "histogram",
         "x": [
          "Yes"
         ],
         "xaxis": "x",
         "yaxis": "y"
        },
        {
         "bingroup": "x",
         "hovertemplate": "Disease=Scoliosis<br>Fever=%{x}<br>count=%{y}<extra></extra>",
         "legendgroup": "Scoliosis",
         "marker": {
          "color": "#636efa",
          "pattern": {
           "shape": ""
          }
         },
         "name": "Scoliosis",
         "orientation": "v",
         "showlegend": true,
         "type": "histogram",
         "x": [
          "No"
         ],
         "xaxis": "x",
         "yaxis": "y"
        },
        {
         "bingroup": "x",
         "hovertemplate": "Disease=Sickle Cell Anemia<br>Fever=%{x}<br>count=%{y}<extra></extra>",
         "legendgroup": "Sickle Cell Anemia",
         "marker": {
          "color": "#EF553B",
          "pattern": {
           "shape": ""
          }
         },
         "name": "Sickle Cell Anemia",
         "orientation": "v",
         "showlegend": true,
         "type": "histogram",
         "x": [
          "No"
         ],
         "xaxis": "x",
         "yaxis": "y"
        },
        {
         "bingroup": "x",
         "hovertemplate": "Disease=Tetanus<br>Fever=%{x}<br>count=%{y}<extra></extra>",
         "legendgroup": "Tetanus",
         "marker": {
          "color": "#00cc96",
          "pattern": {
           "shape": ""
          }
         },
         "name": "Tetanus",
         "orientation": "v",
         "showlegend": true,
         "type": "histogram",
         "x": [
          "No"
         ],
         "xaxis": "x",
         "yaxis": "y"
        },
        {
         "bingroup": "x",
         "hovertemplate": "Disease=Down Syndrome<br>Fever=%{x}<br>count=%{y}<extra></extra>",
         "legendgroup": "Down Syndrome",
         "marker": {
          "color": "#ab63fa",
          "pattern": {
           "shape": ""
          }
         },
         "name": "Down Syndrome",
         "orientation": "v",
         "showlegend": true,
         "type": "histogram",
         "x": [
          "No"
         ],
         "xaxis": "x",
         "yaxis": "y"
        },
        {
         "bingroup": "x",
         "hovertemplate": "Disease=Ebola Virus<br>Fever=%{x}<br>count=%{y}<extra></extra>",
         "legendgroup": "Ebola Virus",
         "marker": {
          "color": "#FFA15A",
          "pattern": {
           "shape": ""
          }
         },
         "name": "Ebola Virus",
         "orientation": "v",
         "showlegend": true,
         "type": "histogram",
         "x": [
          "Yes"
         ],
         "xaxis": "x",
         "yaxis": "y"
        },
        {
         "bingroup": "x",
         "hovertemplate": "Disease=Lyme Disease<br>Fever=%{x}<br>count=%{y}<extra></extra>",
         "legendgroup": "Lyme Disease",
         "marker": {
          "color": "#19d3f3",
          "pattern": {
           "shape": ""
          }
         },
         "name": "Lyme Disease",
         "orientation": "v",
         "showlegend": true,
         "type": "histogram",
         "x": [
          "Yes"
         ],
         "xaxis": "x",
         "yaxis": "y"
        },
        {
         "bingroup": "x",
         "hovertemplate": "Disease=Pancreatic Cancer<br>Fever=%{x}<br>count=%{y}<extra></extra>",
         "legendgroup": "Pancreatic Cancer",
         "marker": {
          "color": "#FF6692",
          "pattern": {
           "shape": ""
          }
         },
         "name": "Pancreatic Cancer",
         "orientation": "v",
         "showlegend": true,
         "type": "histogram",
         "x": [
          "No"
         ],
         "xaxis": "x",
         "yaxis": "y"
        },
        {
         "bingroup": "x",
         "hovertemplate": "Disease=Pneumothorax<br>Fever=%{x}<br>count=%{y}<extra></extra>",
         "legendgroup": "Pneumothorax",
         "marker": {
          "color": "#B6E880",
          "pattern": {
           "shape": ""
          }
         },
         "name": "Pneumothorax",
         "orientation": "v",
         "showlegend": true,
         "type": "histogram",
         "x": [
          "No"
         ],
         "xaxis": "x",
         "yaxis": "y"
        },
        {
         "bingroup": "x",
         "hovertemplate": "Disease=Hemorrhoids<br>Fever=%{x}<br>count=%{y}<extra></extra>",
         "legendgroup": "Hemorrhoids",
         "marker": {
          "color": "#FF97FF",
          "pattern": {
           "shape": ""
          }
         },
         "name": "Hemorrhoids",
         "orientation": "v",
         "showlegend": true,
         "type": "histogram",
         "x": [
          "No"
         ],
         "xaxis": "x",
         "yaxis": "y"
        },
        {
         "bingroup": "x",
         "hovertemplate": "Disease=Polycystic Ovary Syndrome (PCOS)<br>Fever=%{x}<br>count=%{y}<extra></extra>",
         "legendgroup": "Polycystic Ovary Syndrome (PCOS)",
         "marker": {
          "color": "#FECB52",
          "pattern": {
           "shape": ""
          }
         },
         "name": "Polycystic Ovary Syndrome (PCOS)",
         "orientation": "v",
         "showlegend": true,
         "type": "histogram",
         "x": [
          "Yes"
         ],
         "xaxis": "x",
         "yaxis": "y"
        },
        {
         "bingroup": "x",
         "hovertemplate": "Disease=Systemic Lupus Erythematosus...<br>Fever=%{x}<br>count=%{y}<extra></extra>",
         "legendgroup": "Systemic Lupus Erythematosus...",
         "marker": {
          "color": "#636efa",
          "pattern": {
           "shape": ""
          }
         },
         "name": "Systemic Lupus Erythematosus...",
         "orientation": "v",
         "showlegend": true,
         "type": "histogram",
         "x": [
          "No"
         ],
         "xaxis": "x",
         "yaxis": "y"
        },
        {
         "bingroup": "x",
         "hovertemplate": "Disease=Typhoid Fever<br>Fever=%{x}<br>count=%{y}<extra></extra>",
         "legendgroup": "Typhoid Fever",
         "marker": {
          "color": "#EF553B",
          "pattern": {
           "shape": ""
          }
         },
         "name": "Typhoid Fever",
         "orientation": "v",
         "showlegend": true,
         "type": "histogram",
         "x": [
          "No"
         ],
         "xaxis": "x",
         "yaxis": "y"
        },
        {
         "bingroup": "x",
         "hovertemplate": "Disease=Chronic Kidney Disease<br>Fever=%{x}<br>count=%{y}<extra></extra>",
         "legendgroup": "Chronic Kidney Disease",
         "marker": {
          "color": "#00cc96",
          "pattern": {
           "shape": ""
          }
         },
         "name": "Chronic Kidney Disease",
         "orientation": "v",
         "showlegend": true,
         "type": "histogram",
         "x": [
          "No"
         ],
         "xaxis": "x",
         "yaxis": "y"
        },
        {
         "bingroup": "x",
         "hovertemplate": "Disease=Hepatitis B<br>Fever=%{x}<br>count=%{y}<extra></extra>",
         "legendgroup": "Hepatitis B",
         "marker": {
          "color": "#ab63fa",
          "pattern": {
           "shape": ""
          }
         },
         "name": "Hepatitis B",
         "orientation": "v",
         "showlegend": true,
         "type": "histogram",
         "x": [
          "No"
         ],
         "xaxis": "x",
         "yaxis": "y"
        },
        {
         "bingroup": "x",
         "hovertemplate": "Disease=Parkinson's Disease<br>Fever=%{x}<br>count=%{y}<extra></extra>",
         "legendgroup": "Parkinson's Disease",
         "marker": {
          "color": "#FFA15A",
          "pattern": {
           "shape": ""
          }
         },
         "name": "Parkinson's Disease",
         "orientation": "v",
         "showlegend": true,
         "type": "histogram",
         "x": [
          "Yes"
         ],
         "xaxis": "x",
         "yaxis": "y"
        },
        {
         "bingroup": "x",
         "hovertemplate": "Disease=Prader-Willi Syndrome<br>Fever=%{x}<br>count=%{y}<extra></extra>",
         "legendgroup": "Prader-Willi Syndrome",
         "marker": {
          "color": "#19d3f3",
          "pattern": {
           "shape": ""
          }
         },
         "name": "Prader-Willi Syndrome",
         "orientation": "v",
         "showlegend": true,
         "type": "histogram",
         "x": [
          "No"
         ],
         "xaxis": "x",
         "yaxis": "y"
        },
        {
         "bingroup": "x",
         "hovertemplate": "Disease=Thyroid Cancer<br>Fever=%{x}<br>count=%{y}<extra></extra>",
         "legendgroup": "Thyroid Cancer",
         "marker": {
          "color": "#FF6692",
          "pattern": {
           "shape": ""
          }
         },
         "name": "Thyroid Cancer",
         "orientation": "v",
         "showlegend": true,
         "type": "histogram",
         "x": [
          "No"
         ],
         "xaxis": "x",
         "yaxis": "y"
        },
        {
         "bingroup": "x",
         "hovertemplate": "Disease=Alzheimer's Disease<br>Fever=%{x}<br>count=%{y}<extra></extra>",
         "legendgroup": "Alzheimer's Disease",
         "marker": {
          "color": "#B6E880",
          "pattern": {
           "shape": ""
          }
         },
         "name": "Alzheimer's Disease",
         "orientation": "v",
         "showlegend": true,
         "type": "histogram",
         "x": [
          "No",
          "No"
         ],
         "xaxis": "x",
         "yaxis": "y"
        },
        {
         "bingroup": "x",
         "hovertemplate": "Disease=Chronic Obstructive Pulmonary Disease (COPD)<br>Fever=%{x}<br>count=%{y}<extra></extra>",
         "legendgroup": "Chronic Obstructive Pulmonary Disease (COPD)",
         "marker": {
          "color": "#FF97FF",
          "pattern": {
           "shape": ""
          }
         },
         "name": "Chronic Obstructive Pulmonary Disease (COPD)",
         "orientation": "v",
         "showlegend": true,
         "type": "histogram",
         "x": [
          "Yes"
         ],
         "xaxis": "x",
         "yaxis": "y"
        },
        {
         "bingroup": "x",
         "hovertemplate": "Disease=Dementia<br>Fever=%{x}<br>count=%{y}<extra></extra>",
         "legendgroup": "Dementia",
         "marker": {
          "color": "#FECB52",
          "pattern": {
           "shape": ""
          }
         },
         "name": "Dementia",
         "orientation": "v",
         "showlegend": true,
         "type": "histogram",
         "x": [
          "No"
         ],
         "xaxis": "x",
         "yaxis": "y"
        },
        {
         "bingroup": "x",
         "hovertemplate": "Disease=Diverticulitis<br>Fever=%{x}<br>count=%{y}<extra></extra>",
         "legendgroup": "Diverticulitis",
         "marker": {
          "color": "#636efa",
          "pattern": {
           "shape": ""
          }
         },
         "name": "Diverticulitis",
         "orientation": "v",
         "showlegend": true,
         "type": "histogram",
         "x": [
          "No"
         ],
         "xaxis": "x",
         "yaxis": "y"
        },
        {
         "bingroup": "x",
         "hovertemplate": "Disease=Lung Cancer<br>Fever=%{x}<br>count=%{y}<extra></extra>",
         "legendgroup": "Lung Cancer",
         "marker": {
          "color": "#EF553B",
          "pattern": {
           "shape": ""
          }
         },
         "name": "Lung Cancer",
         "orientation": "v",
         "showlegend": true,
         "type": "histogram",
         "x": [
          "Yes",
          "Yes"
         ],
         "xaxis": "x",
         "yaxis": "y"
        },
        {
         "bingroup": "x",
         "hovertemplate": "Disease=Mumps<br>Fever=%{x}<br>count=%{y}<extra></extra>",
         "legendgroup": "Mumps",
         "marker": {
          "color": "#00cc96",
          "pattern": {
           "shape": ""
          }
         },
         "name": "Mumps",
         "orientation": "v",
         "showlegend": true,
         "type": "histogram",
         "x": [
          "No"
         ],
         "xaxis": "x",
         "yaxis": "y"
        },
        {
         "bingroup": "x",
         "hovertemplate": "Disease=Gout<br>Fever=%{x}<br>count=%{y}<extra></extra>",
         "legendgroup": "Gout",
         "marker": {
          "color": "#ab63fa",
          "pattern": {
           "shape": ""
          }
         },
         "name": "Gout",
         "orientation": "v",
         "showlegend": true,
         "type": "histogram",
         "x": [
          "Yes"
         ],
         "xaxis": "x",
         "yaxis": "y"
        },
        {
         "bingroup": "x",
         "hovertemplate": "Disease=Testicular Cancer<br>Fever=%{x}<br>count=%{y}<extra></extra>",
         "legendgroup": "Testicular Cancer",
         "marker": {
          "color": "#FFA15A",
          "pattern": {
           "shape": ""
          }
         },
         "name": "Testicular Cancer",
         "orientation": "v",
         "showlegend": true,
         "type": "histogram",
         "x": [
          "No"
         ],
         "xaxis": "x",
         "yaxis": "y"
        },
        {
         "bingroup": "x",
         "hovertemplate": "Disease=Tonsillitis<br>Fever=%{x}<br>count=%{y}<extra></extra>",
         "legendgroup": "Tonsillitis",
         "marker": {
          "color": "#19d3f3",
          "pattern": {
           "shape": ""
          }
         },
         "name": "Tonsillitis",
         "orientation": "v",
         "showlegend": true,
         "type": "histogram",
         "x": [
          "Yes"
         ],
         "xaxis": "x",
         "yaxis": "y"
        },
        {
         "bingroup": "x",
         "hovertemplate": "Disease=Williams Syndrome<br>Fever=%{x}<br>count=%{y}<extra></extra>",
         "legendgroup": "Williams Syndrome",
         "marker": {
          "color": "#FF6692",
          "pattern": {
           "shape": ""
          }
         },
         "name": "Williams Syndrome",
         "orientation": "v",
         "showlegend": true,
         "type": "histogram",
         "x": [
          "No"
         ],
         "xaxis": "x",
         "yaxis": "y"
        },
        {
         "bingroup": "x",
         "hovertemplate": "Disease=Influenza<br>Cough=%{x}<br>count=%{y}<extra></extra>",
         "legendgroup": "Influenza",
         "marker": {
          "color": "#636efa",
          "pattern": {
           "shape": ""
          }
         },
         "name": "Influenza",
         "orientation": "v",
         "showlegend": true,
         "type": "histogram",
         "x": [
          "No",
          "Yes",
          "Yes",
          "Yes",
          "Yes"
         ],
         "xaxis": "x2",
         "yaxis": "y2"
        },
        {
         "bingroup": "x",
         "hovertemplate": "Disease=Asthma<br>Cough=%{x}<br>count=%{y}<extra></extra>",
         "legendgroup": "Asthma",
         "marker": {
          "color": "#EF553B",
          "pattern": {
           "shape": ""
          }
         },
         "name": "Asthma",
         "orientation": "v",
         "showlegend": true,
         "type": "histogram",
         "x": [
          "Yes",
          "No",
          "Yes",
          "Yes",
          "Yes",
          "No",
          "Yes",
          "No",
          "No",
          "Yes",
          "Yes",
          "Yes"
         ],
         "xaxis": "x2",
         "yaxis": "y2"
        },
        {
         "bingroup": "x",
         "hovertemplate": "Disease=Eczema<br>Cough=%{x}<br>count=%{y}<extra></extra>",
         "legendgroup": "Eczema",
         "marker": {
          "color": "#00cc96",
          "pattern": {
           "shape": ""
          }
         },
         "name": "Eczema",
         "orientation": "v",
         "showlegend": true,
         "type": "histogram",
         "x": [
          "No",
          "No",
          "Yes"
         ],
         "xaxis": "x2",
         "yaxis": "y2"
        },
        {
         "bingroup": "x",
         "hovertemplate": "Disease=Depression<br>Cough=%{x}<br>count=%{y}<extra></extra>",
         "legendgroup": "Depression",
         "marker": {
          "color": "#ab63fa",
          "pattern": {
           "shape": ""
          }
         },
         "name": "Depression",
         "orientation": "v",
         "showlegend": true,
         "type": "histogram",
         "x": [
          "Yes",
          "No",
          "No"
         ],
         "xaxis": "x2",
         "yaxis": "y2"
        },
        {
         "bingroup": "x",
         "hovertemplate": "Disease=Liver Cancer<br>Cough=%{x}<br>count=%{y}<extra></extra>",
         "legendgroup": "Liver Cancer",
         "marker": {
          "color": "#FFA15A",
          "pattern": {
           "shape": ""
          }
         },
         "name": "Liver Cancer",
         "orientation": "v",
         "showlegend": true,
         "type": "histogram",
         "x": [
          "Yes",
          "No",
          "Yes",
          "Yes"
         ],
         "xaxis": "x2",
         "yaxis": "y2"
        },
        {
         "bingroup": "x",
         "hovertemplate": "Disease=Stroke<br>Cough=%{x}<br>count=%{y}<extra></extra>",
         "legendgroup": "Stroke",
         "marker": {
          "color": "#19d3f3",
          "pattern": {
           "shape": ""
          }
         },
         "name": "Stroke",
         "orientation": "v",
         "showlegend": true,
         "type": "histogram",
         "x": [
          "Yes",
          "Yes",
          "Yes",
          "Yes",
          "No",
          "No",
          "No"
         ],
         "xaxis": "x2",
         "yaxis": "y2"
        },
        {
         "bingroup": "x",
         "hovertemplate": "Disease=Urinary Tract Infection<br>Cough=%{x}<br>count=%{y}<extra></extra>",
         "legendgroup": "Urinary Tract Infection",
         "marker": {
          "color": "#FF6692",
          "pattern": {
           "shape": ""
          }
         },
         "name": "Urinary Tract Infection",
         "orientation": "v",
         "showlegend": true,
         "type": "histogram",
         "x": [
          "Yes",
          "No"
         ],
         "xaxis": "x2",
         "yaxis": "y2"
        },
        {
         "bingroup": "x",
         "hovertemplate": "Disease=Bipolar Disorder<br>Cough=%{x}<br>count=%{y}<extra></extra>",
         "legendgroup": "Bipolar Disorder",
         "marker": {
          "color": "#B6E880",
          "pattern": {
           "shape": ""
          }
         },
         "name": "Bipolar Disorder",
         "orientation": "v",
         "showlegend": true,
         "type": "histogram",
         "x": [
          "No"
         ],
         "xaxis": "x2",
         "yaxis": "y2"
        },
        {
         "bingroup": "x",
         "hovertemplate": "Disease=Bronchitis<br>Cough=%{x}<br>count=%{y}<extra></extra>",
         "legendgroup": "Bronchitis",
         "marker": {
          "color": "#FF97FF",
          "pattern": {
           "shape": ""
          }
         },
         "name": "Bronchitis",
         "orientation": "v",
         "showlegend": true,
         "type": "histogram",
         "x": [
          "Yes",
          "Yes",
          "Yes",
          "No"
         ],
         "xaxis": "x2",
         "yaxis": "y2"
        },
        {
         "bingroup": "x",
         "hovertemplate": "Disease=Cerebral Palsy<br>Cough=%{x}<br>count=%{y}<extra></extra>",
         "legendgroup": "Cerebral Palsy",
         "marker": {
          "color": "#FECB52",
          "pattern": {
           "shape": ""
          }
         },
         "name": "Cerebral Palsy",
         "orientation": "v",
         "showlegend": true,
         "type": "histogram",
         "x": [
          "No"
         ],
         "xaxis": "x2",
         "yaxis": "y2"
        },
        {
         "bingroup": "x",
         "hovertemplate": "Disease=Colorectal Cancer<br>Cough=%{x}<br>count=%{y}<extra></extra>",
         "legendgroup": "Colorectal Cancer",
         "marker": {
          "color": "#636efa",
          "pattern": {
           "shape": ""
          }
         },
         "name": "Colorectal Cancer",
         "orientation": "v",
         "showlegend": true,
         "type": "histogram",
         "x": [
          "No"
         ],
         "xaxis": "x2",
         "yaxis": "y2"
        },
        {
         "bingroup": "x",
         "hovertemplate": "Disease=Hypertensive Heart Disease<br>Cough=%{x}<br>count=%{y}<extra></extra>",
         "legendgroup": "Hypertensive Heart Disease",
         "marker": {
          "color": "#EF553B",
          "pattern": {
           "shape": ""
          }
         },
         "name": "Hypertensive Heart Disease",
         "orientation": "v",
         "showlegend": true,
         "type": "histogram",
         "x": [
          "No"
         ],
         "xaxis": "x2",
         "yaxis": "y2"
        },
        {
         "bingroup": "x",
         "hovertemplate": "Disease=Multiple Sclerosis<br>Cough=%{x}<br>count=%{y}<extra></extra>",
         "legendgroup": "Multiple Sclerosis",
         "marker": {
          "color": "#00cc96",
          "pattern": {
           "shape": ""
          }
         },
         "name": "Multiple Sclerosis",
         "orientation": "v",
         "showlegend": true,
         "type": "histogram",
         "x": [
          "No",
          "No"
         ],
         "xaxis": "x2",
         "yaxis": "y2"
        },
        {
         "bingroup": "x",
         "hovertemplate": "Disease=Myocardial Infarction (Heart...)<br>Cough=%{x}<br>count=%{y}<extra></extra>",
         "legendgroup": "Myocardial Infarction (Heart...)",
         "marker": {
          "color": "#ab63fa",
          "pattern": {
           "shape": ""
          }
         },
         "name": "Myocardial Infarction (Heart...)",
         "orientation": "v",
         "showlegend": true,
         "type": "histogram",
         "x": [
          "Yes"
         ],
         "xaxis": "x2",
         "yaxis": "y2"
        },
        {
         "bingroup": "x",
         "hovertemplate": "Disease=Urinary Tract Infection (UTI)<br>Cough=%{x}<br>count=%{y}<extra></extra>",
         "legendgroup": "Urinary Tract Infection (UTI)",
         "marker": {
          "color": "#FFA15A",
          "pattern": {
           "shape": ""
          }
         },
         "name": "Urinary Tract Infection (UTI)",
         "orientation": "v",
         "showlegend": true,
         "type": "histogram",
         "x": [
          "No"
         ],
         "xaxis": "x2",
         "yaxis": "y2"
        },
        {
         "bingroup": "x",
         "hovertemplate": "Disease=Common Cold<br>Cough=%{x}<br>count=%{y}<extra></extra>",
         "legendgroup": "Common Cold",
         "marker": {
          "color": "#19d3f3",
          "pattern": {
           "shape": ""
          }
         },
         "name": "Common Cold",
         "orientation": "v",
         "showlegend": true,
         "type": "histogram",
         "x": [
          "No"
         ],
         "xaxis": "x2",
         "yaxis": "y2"
        },
        {
         "bingroup": "x",
         "hovertemplate": "Disease=Migraine<br>Cough=%{x}<br>count=%{y}<extra></extra>",
         "legendgroup": "Migraine",
         "marker": {
          "color": "#FF6692",
          "pattern": {
           "shape": ""
          }
         },
         "name": "Migraine",
         "orientation": "v",
         "showlegend": true,
         "type": "histogram",
         "x": [
          "No",
          "Yes",
          "No",
          "Yes",
          "No"
         ],
         "xaxis": "x2",
         "yaxis": "y2"
        },
        {
         "bingroup": "x",
         "hovertemplate": "Disease=Pneumonia<br>Cough=%{x}<br>count=%{y}<extra></extra>",
         "legendgroup": "Pneumonia",
         "marker": {
          "color": "#B6E880",
          "pattern": {
           "shape": ""
          }
         },
         "name": "Pneumonia",
         "orientation": "v",
         "showlegend": true,
         "type": "histogram",
         "x": [
          "No",
          "Yes",
          "Yes",
          "Yes",
          "Yes"
         ],
         "xaxis": "x2",
         "yaxis": "y2"
        },
        {
         "bingroup": "x",
         "hovertemplate": "Disease=Cirrhosis<br>Cough=%{x}<br>count=%{y}<extra></extra>",
         "legendgroup": "Cirrhosis",
         "marker": {
          "color": "#FF97FF",
          "pattern": {
           "shape": ""
          }
         },
         "name": "Cirrhosis",
         "orientation": "v",
         "showlegend": true,
         "type": "histogram",
         "x": [
          "No"
         ],
         "xaxis": "x2",
         "yaxis": "y2"
        },
        {
         "bingroup": "x",
         "hovertemplate": "Disease=Conjunctivitis (Pink Eye)<br>Cough=%{x}<br>count=%{y}<extra></extra>",
         "legendgroup": "Conjunctivitis (Pink Eye)",
         "marker": {
          "color": "#FECB52",
          "pattern": {
           "shape": ""
          }
         },
         "name": "Conjunctivitis (Pink Eye)",
         "orientation": "v",
         "showlegend": true,
         "type": "histogram",
         "x": [
          "Yes"
         ],
         "xaxis": "x2",
         "yaxis": "y2"
        },
        {
         "bingroup": "x",
         "hovertemplate": "Disease=Gastroenteritis<br>Cough=%{x}<br>count=%{y}<extra></extra>",
         "legendgroup": "Gastroenteritis",
         "marker": {
          "color": "#636efa",
          "pattern": {
           "shape": ""
          }
         },
         "name": "Gastroenteritis",
         "orientation": "v",
         "showlegend": true,
         "type": "histogram",
         "x": [
          "No",
          "Yes",
          "Yes"
         ],
         "xaxis": "x2",
         "yaxis": "y2"
        },
        {
         "bingroup": "x",
         "hovertemplate": "Disease=Hyperthyroidism<br>Cough=%{x}<br>count=%{y}<extra></extra>",
         "legendgroup": "Hyperthyroidism",
         "marker": {
          "color": "#EF553B",
          "pattern": {
           "shape": ""
          }
         },
         "name": "Hyperthyroidism",
         "orientation": "v",
         "showlegend": true,
         "type": "histogram",
         "x": [
          "Yes",
          "No"
         ],
         "xaxis": "x2",
         "yaxis": "y2"
        },
        {
         "bingroup": "x",
         "hovertemplate": "Disease=Kidney Cancer<br>Cough=%{x}<br>count=%{y}<extra></extra>",
         "legendgroup": "Kidney Cancer",
         "marker": {
          "color": "#00cc96",
          "pattern": {
           "shape": ""
          }
         },
         "name": "Kidney Cancer",
         "orientation": "v",
         "showlegend": true,
         "type": "histogram",
         "x": [
          "No",
          "Yes"
         ],
         "xaxis": "x2",
         "yaxis": "y2"
        },
        {
         "bingroup": "x",
         "hovertemplate": "Disease=Liver Disease<br>Cough=%{x}<br>count=%{y}<extra></extra>",
         "legendgroup": "Liver Disease",
         "marker": {
          "color": "#ab63fa",
          "pattern": {
           "shape": ""
          }
         },
         "name": "Liver Disease",
         "orientation": "v",
         "showlegend": true,
         "type": "histogram",
         "x": [
          "No",
          "Yes"
         ],
         "xaxis": "x2",
         "yaxis": "y2"
        },
        {
         "bingroup": "x",
         "hovertemplate": "Disease=Malaria<br>Cough=%{x}<br>count=%{y}<extra></extra>",
         "legendgroup": "Malaria",
         "marker": {
          "color": "#FFA15A",
          "pattern": {
           "shape": ""
          }
         },
         "name": "Malaria",
         "orientation": "v",
         "showlegend": true,
         "type": "histogram",
         "x": [
          "No"
         ],
         "xaxis": "x2",
         "yaxis": "y2"
        },
        {
         "bingroup": "x",
         "hovertemplate": "Disease=Pancreatitis<br>Cough=%{x}<br>count=%{y}<extra></extra>",
         "legendgroup": "Pancreatitis",
         "marker": {
          "color": "#19d3f3",
          "pattern": {
           "shape": ""
          }
         },
         "name": "Pancreatitis",
         "orientation": "v",
         "showlegend": true,
         "type": "histogram",
         "x": [
          "No",
          "Yes"
         ],
         "xaxis": "x2",
         "yaxis": "y2"
        },
        {
         "bingroup": "x",
         "hovertemplate": "Disease=Rheumatoid Arthritis<br>Cough=%{x}<br>count=%{y}<extra></extra>",
         "legendgroup": "Rheumatoid Arthritis",
         "marker": {
          "color": "#FF6692",
          "pattern": {
           "shape": ""
          }
         },
         "name": "Rheumatoid Arthritis",
         "orientation": "v",
         "showlegend": true,
         "type": "histogram",
         "x": [
          "Yes",
          "No",
          "No"
         ],
         "xaxis": "x2",
         "yaxis": "y2"
        },
        {
         "bingroup": "x",
         "hovertemplate": "Disease=Spina Bifida<br>Cough=%{x}<br>count=%{y}<extra></extra>",
         "legendgroup": "Spina Bifida",
         "marker": {
          "color": "#B6E880",
          "pattern": {
           "shape": ""
          }
         },
         "name": "Spina Bifida",
         "orientation": "v",
         "showlegend": true,
         "type": "histogram",
         "x": [
          "No"
         ],
         "xaxis": "x2",
         "yaxis": "y2"
        },
        {
         "bingroup": "x",
         "hovertemplate": "Disease=Ulcerative Colitis<br>Cough=%{x}<br>count=%{y}<extra></extra>",
         "legendgroup": "Ulcerative Colitis",
         "marker": {
          "color": "#FF97FF",
          "pattern": {
           "shape": ""
          }
         },
         "name": "Ulcerative Colitis",
         "orientation": "v",
         "showlegend": true,
         "type": "histogram",
         "x": [
          "No",
          "No",
          "Yes"
         ],
         "xaxis": "x2",
         "yaxis": "y2"
        },
        {
         "bingroup": "x",
         "hovertemplate": "Disease=Anxiety Disorders<br>Cough=%{x}<br>count=%{y}<extra></extra>",
         "legendgroup": "Anxiety Disorders",
         "marker": {
          "color": "#FECB52",
          "pattern": {
           "shape": ""
          }
         },
         "name": "Anxiety Disorders",
         "orientation": "v",
         "showlegend": true,
         "type": "histogram",
         "x": [
          "No",
          "Yes",
          "Yes"
         ],
         "xaxis": "x2",
         "yaxis": "y2"
        },
        {
         "bingroup": "x",
         "hovertemplate": "Disease=Diabetes<br>Cough=%{x}<br>count=%{y}<extra></extra>",
         "legendgroup": "Diabetes",
         "marker": {
          "color": "#636efa",
          "pattern": {
           "shape": ""
          }
         },
         "name": "Diabetes",
         "orientation": "v",
         "showlegend": true,
         "type": "histogram",
         "x": [
          "No",
          "Yes",
          "No",
          "Yes",
          "Yes"
         ],
         "xaxis": "x2",
         "yaxis": "y2"
        },
        {
         "bingroup": "x",
         "hovertemplate": "Disease=Osteoarthritis<br>Cough=%{x}<br>count=%{y}<extra></extra>",
         "legendgroup": "Osteoarthritis",
         "marker": {
          "color": "#EF553B",
          "pattern": {
           "shape": ""
          }
         },
         "name": "Osteoarthritis",
         "orientation": "v",
         "showlegend": true,
         "type": "histogram",
         "x": [
          "Yes",
          "No",
          "Yes"
         ],
         "xaxis": "x2",
         "yaxis": "y2"
        },
        {
         "bingroup": "x",
         "hovertemplate": "Disease=Klinefelter Syndrome<br>Cough=%{x}<br>count=%{y}<extra></extra>",
         "legendgroup": "Klinefelter Syndrome",
         "marker": {
          "color": "#00cc96",
          "pattern": {
           "shape": ""
          }
         },
         "name": "Klinefelter Syndrome",
         "orientation": "v",
         "showlegend": true,
         "type": "histogram",
         "x": [
          "No",
          "No"
         ],
         "xaxis": "x2",
         "yaxis": "y2"
        },
        {
         "bingroup": "x",
         "hovertemplate": "Disease=Chickenpox<br>Cough=%{x}<br>count=%{y}<extra></extra>",
         "legendgroup": "Chickenpox",
         "marker": {
          "color": "#ab63fa",
          "pattern": {
           "shape": ""
          }
         },
         "name": "Chickenpox",
         "orientation": "v",
         "showlegend": true,
         "type": "histogram",
         "x": [
          "Yes"
         ],
         "xaxis": "x2",
         "yaxis": "y2"
        },
        {
         "bingroup": "x",
         "hovertemplate": "Disease=Coronary Artery Disease<br>Cough=%{x}<br>count=%{y}<extra></extra>",
         "legendgroup": "Coronary Artery Disease",
         "marker": {
          "color": "#FFA15A",
          "pattern": {
           "shape": ""
          }
         },
         "name": "Coronary Artery Disease",
         "orientation": "v",
         "showlegend": true,
         "type": "histogram",
         "x": [
          "No",
          "No"
         ],
         "xaxis": "x2",
         "yaxis": "y2"
        },
        {
         "bingroup": "x",
         "hovertemplate": "Disease=Eating Disorders (Anorexia,...)<br>Cough=%{x}<br>count=%{y}<extra></extra>",
         "legendgroup": "Eating Disorders (Anorexia,...)",
         "marker": {
          "color": "#19d3f3",
          "pattern": {
           "shape": ""
          }
         },
         "name": "Eating Disorders (Anorexia,...)",
         "orientation": "v",
         "showlegend": true,
         "type": "histogram",
         "x": [
          "No"
         ],
         "xaxis": "x2",
         "yaxis": "y2"
        },
        {
         "bingroup": "x",
         "hovertemplate": "Disease=Fibromyalgia<br>Cough=%{x}<br>count=%{y}<extra></extra>",
         "legendgroup": "Fibromyalgia",
         "marker": {
          "color": "#FF6692",
          "pattern": {
           "shape": ""
          }
         },
         "name": "Fibromyalgia",
         "orientation": "v",
         "showlegend": true,
         "type": "histogram",
         "x": [
          "No"
         ],
         "xaxis": "x2",
         "yaxis": "y2"
        },
        {
         "bingroup": "x",
         "hovertemplate": "Disease=Hemophilia<br>Cough=%{x}<br>count=%{y}<extra></extra>",
         "legendgroup": "Hemophilia",
         "marker": {
          "color": "#B6E880",
          "pattern": {
           "shape": ""
          }
         },
         "name": "Hemophilia",
         "orientation": "v",
         "showlegend": true,
         "type": "histogram",
         "x": [
          "No",
          "No"
         ],
         "xaxis": "x2",
         "yaxis": "y2"
        },
        {
         "bingroup": "x",
         "hovertemplate": "Disease=Hypoglycemia<br>Cough=%{x}<br>count=%{y}<extra></extra>",
         "legendgroup": "Hypoglycemia",
         "marker": {
          "color": "#FF97FF",
          "pattern": {
           "shape": ""
          }
         },
         "name": "Hypoglycemia",
         "orientation": "v",
         "showlegend": true,
         "type": "histogram",
         "x": [
          "No"
         ],
         "xaxis": "x2",
         "yaxis": "y2"
        },
        {
         "bingroup": "x",
         "hovertemplate": "Disease=Lymphoma<br>Cough=%{x}<br>count=%{y}<extra></extra>",
         "legendgroup": "Lymphoma",
         "marker": {
          "color": "#FECB52",
          "pattern": {
           "shape": ""
          }
         },
         "name": "Lymphoma",
         "orientation": "v",
         "showlegend": true,
         "type": "histogram",
         "x": [
          "Yes"
         ],
         "xaxis": "x2",
         "yaxis": "y2"
        },
        {
         "bingroup": "x",
         "hovertemplate": "Disease=Psoriasis<br>Cough=%{x}<br>count=%{y}<extra></extra>",
         "legendgroup": "Psoriasis",
         "marker": {
          "color": "#636efa",
          "pattern": {
           "shape": ""
          }
         },
         "name": "Psoriasis",
         "orientation": "v",
         "showlegend": true,
         "type": "histogram",
         "x": [
          "Yes",
          "No",
          "Yes"
         ],
         "xaxis": "x2",
         "yaxis": "y2"
        },
        {
         "bingroup": "x",
         "hovertemplate": "Disease=Tuberculosis<br>Cough=%{x}<br>count=%{y}<extra></extra>",
         "legendgroup": "Tuberculosis",
         "marker": {
          "color": "#EF553B",
          "pattern": {
           "shape": ""
          }
         },
         "name": "Tuberculosis",
         "orientation": "v",
         "showlegend": true,
         "type": "histogram",
         "x": [
          "Yes",
          "Yes"
         ],
         "xaxis": "x2",
         "yaxis": "y2"
        },
        {
         "bingroup": "x",
         "hovertemplate": "Disease=Hypothyroidism<br>Cough=%{x}<br>count=%{y}<extra></extra>",
         "legendgroup": "Hypothyroidism",
         "marker": {
          "color": "#00cc96",
          "pattern": {
           "shape": ""
          }
         },
         "name": "Hypothyroidism",
         "orientation": "v",
         "showlegend": true,
         "type": "histogram",
         "x": [
          "Yes",
          "No",
          "No"
         ],
         "xaxis": "x2",
         "yaxis": "y2"
        },
        {
         "bingroup": "x",
         "hovertemplate": "Disease=Kidney Disease<br>Cough=%{x}<br>count=%{y}<extra></extra>",
         "legendgroup": "Kidney Disease",
         "marker": {
          "color": "#ab63fa",
          "pattern": {
           "shape": ""
          }
         },
         "name": "Kidney Disease",
         "orientation": "v",
         "showlegend": true,
         "type": "histogram",
         "x": [
          "No",
          "Yes"
         ],
         "xaxis": "x2",
         "yaxis": "y2"
        },
        {
         "bingroup": "x",
         "hovertemplate": "Disease=Allergic Rhinitis<br>Cough=%{x}<br>count=%{y}<extra></extra>",
         "legendgroup": "Allergic Rhinitis",
         "marker": {
          "color": "#FFA15A",
          "pattern": {
           "shape": ""
          }
         },
         "name": "Allergic Rhinitis",
         "orientation": "v",
         "showlegend": true,
         "type": "histogram",
         "x": [
          "Yes"
         ],
         "xaxis": "x2",
         "yaxis": "y2"
        },
        {
         "bingroup": "x",
         "hovertemplate": "Disease=Cataracts<br>Cough=%{x}<br>count=%{y}<extra></extra>",
         "legendgroup": "Cataracts",
         "marker": {
          "color": "#19d3f3",
          "pattern": {
           "shape": ""
          }
         },
         "name": "Cataracts",
         "orientation": "v",
         "showlegend": true,
         "type": "histogram",
         "x": [
          "No"
         ],
         "xaxis": "x2",
         "yaxis": "y2"
        },
        {
         "bingroup": "x",
         "hovertemplate": "Disease=Crohn's Disease<br>Cough=%{x}<br>count=%{y}<extra></extra>",
         "legendgroup": "Crohn's Disease",
         "marker": {
          "color": "#FF6692",
          "pattern": {
           "shape": ""
          }
         },
         "name": "Crohn's Disease",
         "orientation": "v",
         "showlegend": true,
         "type": "histogram",
         "x": [
          "No",
          "Yes"
         ],
         "xaxis": "x2",
         "yaxis": "y2"
        },
        {
         "bingroup": "x",
         "hovertemplate": "Disease=Hypertension<br>Cough=%{x}<br>count=%{y}<extra></extra>",
         "legendgroup": "Hypertension",
         "marker": {
          "color": "#B6E880",
          "pattern": {
           "shape": ""
          }
         },
         "name": "Hypertension",
         "orientation": "v",
         "showlegend": true,
         "type": "histogram",
         "x": [
          "No",
          "No",
          "No",
          "No",
          "No"
         ],
         "xaxis": "x2",
         "yaxis": "y2"
        },
        {
         "bingroup": "x",
         "hovertemplate": "Disease=Osteoporosis<br>Cough=%{x}<br>count=%{y}<extra></extra>",
         "legendgroup": "Osteoporosis",
         "marker": {
          "color": "#FF97FF",
          "pattern": {
           "shape": ""
          }
         },
         "name": "Osteoporosis",
         "orientation": "v",
         "showlegend": true,
         "type": "histogram",
         "x": [
          "Yes",
          "No",
          "Yes",
          "No",
          "No",
          "Yes"
         ],
         "xaxis": "x2",
         "yaxis": "y2"
        },
        {
         "bingroup": "x",
         "hovertemplate": "Disease=Pneumocystis Pneumonia (PCP)<br>Cough=%{x}<br>count=%{y}<extra></extra>",
         "legendgroup": "Pneumocystis Pneumonia (PCP)",
         "marker": {
          "color": "#FECB52",
          "pattern": {
           "shape": ""
          }
         },
         "name": "Pneumocystis Pneumonia (PCP)",
         "orientation": "v",
         "showlegend": true,
         "type": "histogram",
         "x": [
          "Yes"
         ],
         "xaxis": "x2",
         "yaxis": "y2"
        },
        {
         "bingroup": "x",
         "hovertemplate": "Disease=Scoliosis<br>Cough=%{x}<br>count=%{y}<extra></extra>",
         "legendgroup": "Scoliosis",
         "marker": {
          "color": "#636efa",
          "pattern": {
           "shape": ""
          }
         },
         "name": "Scoliosis",
         "orientation": "v",
         "showlegend": true,
         "type": "histogram",
         "x": [
          "No"
         ],
         "xaxis": "x2",
         "yaxis": "y2"
        },
        {
         "bingroup": "x",
         "hovertemplate": "Disease=Sickle Cell Anemia<br>Cough=%{x}<br>count=%{y}<extra></extra>",
         "legendgroup": "Sickle Cell Anemia",
         "marker": {
          "color": "#EF553B",
          "pattern": {
           "shape": ""
          }
         },
         "name": "Sickle Cell Anemia",
         "orientation": "v",
         "showlegend": true,
         "type": "histogram",
         "x": [
          "No"
         ],
         "xaxis": "x2",
         "yaxis": "y2"
        },
        {
         "bingroup": "x",
         "hovertemplate": "Disease=Tetanus<br>Cough=%{x}<br>count=%{y}<extra></extra>",
         "legendgroup": "Tetanus",
         "marker": {
          "color": "#00cc96",
          "pattern": {
           "shape": ""
          }
         },
         "name": "Tetanus",
         "orientation": "v",
         "showlegend": true,
         "type": "histogram",
         "x": [
          "No"
         ],
         "xaxis": "x2",
         "yaxis": "y2"
        },
        {
         "bingroup": "x",
         "hovertemplate": "Disease=Down Syndrome<br>Cough=%{x}<br>count=%{y}<extra></extra>",
         "legendgroup": "Down Syndrome",
         "marker": {
          "color": "#ab63fa",
          "pattern": {
           "shape": ""
          }
         },
         "name": "Down Syndrome",
         "orientation": "v",
         "showlegend": true,
         "type": "histogram",
         "x": [
          "No"
         ],
         "xaxis": "x2",
         "yaxis": "y2"
        },
        {
         "bingroup": "x",
         "hovertemplate": "Disease=Ebola Virus<br>Cough=%{x}<br>count=%{y}<extra></extra>",
         "legendgroup": "Ebola Virus",
         "marker": {
          "color": "#FFA15A",
          "pattern": {
           "shape": ""
          }
         },
         "name": "Ebola Virus",
         "orientation": "v",
         "showlegend": true,
         "type": "histogram",
         "x": [
          "Yes"
         ],
         "xaxis": "x2",
         "yaxis": "y2"
        },
        {
         "bingroup": "x",
         "hovertemplate": "Disease=Lyme Disease<br>Cough=%{x}<br>count=%{y}<extra></extra>",
         "legendgroup": "Lyme Disease",
         "marker": {
          "color": "#19d3f3",
          "pattern": {
           "shape": ""
          }
         },
         "name": "Lyme Disease",
         "orientation": "v",
         "showlegend": true,
         "type": "histogram",
         "x": [
          "No"
         ],
         "xaxis": "x2",
         "yaxis": "y2"
        },
        {
         "bingroup": "x",
         "hovertemplate": "Disease=Pancreatic Cancer<br>Cough=%{x}<br>count=%{y}<extra></extra>",
         "legendgroup": "Pancreatic Cancer",
         "marker": {
          "color": "#FF6692",
          "pattern": {
           "shape": ""
          }
         },
         "name": "Pancreatic Cancer",
         "orientation": "v",
         "showlegend": true,
         "type": "histogram",
         "x": [
          "No"
         ],
         "xaxis": "x2",
         "yaxis": "y2"
        },
        {
         "bingroup": "x",
         "hovertemplate": "Disease=Pneumothorax<br>Cough=%{x}<br>count=%{y}<extra></extra>",
         "legendgroup": "Pneumothorax",
         "marker": {
          "color": "#B6E880",
          "pattern": {
           "shape": ""
          }
         },
         "name": "Pneumothorax",
         "orientation": "v",
         "showlegend": true,
         "type": "histogram",
         "x": [
          "No"
         ],
         "xaxis": "x2",
         "yaxis": "y2"
        },
        {
         "bingroup": "x",
         "hovertemplate": "Disease=Hemorrhoids<br>Cough=%{x}<br>count=%{y}<extra></extra>",
         "legendgroup": "Hemorrhoids",
         "marker": {
          "color": "#FF97FF",
          "pattern": {
           "shape": ""
          }
         },
         "name": "Hemorrhoids",
         "orientation": "v",
         "showlegend": true,
         "type": "histogram",
         "x": [
          "No"
         ],
         "xaxis": "x2",
         "yaxis": "y2"
        },
        {
         "bingroup": "x",
         "hovertemplate": "Disease=Polycystic Ovary Syndrome (PCOS)<br>Cough=%{x}<br>count=%{y}<extra></extra>",
         "legendgroup": "Polycystic Ovary Syndrome (PCOS)",
         "marker": {
          "color": "#FECB52",
          "pattern": {
           "shape": ""
          }
         },
         "name": "Polycystic Ovary Syndrome (PCOS)",
         "orientation": "v",
         "showlegend": true,
         "type": "histogram",
         "x": [
          "Yes"
         ],
         "xaxis": "x2",
         "yaxis": "y2"
        },
        {
         "bingroup": "x",
         "hovertemplate": "Disease=Systemic Lupus Erythematosus...<br>Cough=%{x}<br>count=%{y}<extra></extra>",
         "legendgroup": "Systemic Lupus Erythematosus...",
         "marker": {
          "color": "#636efa",
          "pattern": {
           "shape": ""
          }
         },
         "name": "Systemic Lupus Erythematosus...",
         "orientation": "v",
         "showlegend": true,
         "type": "histogram",
         "x": [
          "Yes"
         ],
         "xaxis": "x2",
         "yaxis": "y2"
        },
        {
         "bingroup": "x",
         "hovertemplate": "Disease=Typhoid Fever<br>Cough=%{x}<br>count=%{y}<extra></extra>",
         "legendgroup": "Typhoid Fever",
         "marker": {
          "color": "#EF553B",
          "pattern": {
           "shape": ""
          }
         },
         "name": "Typhoid Fever",
         "orientation": "v",
         "showlegend": true,
         "type": "histogram",
         "x": [
          "Yes"
         ],
         "xaxis": "x2",
         "yaxis": "y2"
        },
        {
         "bingroup": "x",
         "hovertemplate": "Disease=Chronic Kidney Disease<br>Cough=%{x}<br>count=%{y}<extra></extra>",
         "legendgroup": "Chronic Kidney Disease",
         "marker": {
          "color": "#00cc96",
          "pattern": {
           "shape": ""
          }
         },
         "name": "Chronic Kidney Disease",
         "orientation": "v",
         "showlegend": true,
         "type": "histogram",
         "x": [
          "No"
         ],
         "xaxis": "x2",
         "yaxis": "y2"
        },
        {
         "bingroup": "x",
         "hovertemplate": "Disease=Hepatitis B<br>Cough=%{x}<br>count=%{y}<extra></extra>",
         "legendgroup": "Hepatitis B",
         "marker": {
          "color": "#ab63fa",
          "pattern": {
           "shape": ""
          }
         },
         "name": "Hepatitis B",
         "orientation": "v",
         "showlegend": true,
         "type": "histogram",
         "x": [
          "Yes"
         ],
         "xaxis": "x2",
         "yaxis": "y2"
        },
        {
         "bingroup": "x",
         "hovertemplate": "Disease=Parkinson's Disease<br>Cough=%{x}<br>count=%{y}<extra></extra>",
         "legendgroup": "Parkinson's Disease",
         "marker": {
          "color": "#FFA15A",
          "pattern": {
           "shape": ""
          }
         },
         "name": "Parkinson's Disease",
         "orientation": "v",
         "showlegend": true,
         "type": "histogram",
         "x": [
          "Yes"
         ],
         "xaxis": "x2",
         "yaxis": "y2"
        },
        {
         "bingroup": "x",
         "hovertemplate": "Disease=Prader-Willi Syndrome<br>Cough=%{x}<br>count=%{y}<extra></extra>",
         "legendgroup": "Prader-Willi Syndrome",
         "marker": {
          "color": "#19d3f3",
          "pattern": {
           "shape": ""
          }
         },
         "name": "Prader-Willi Syndrome",
         "orientation": "v",
         "showlegend": true,
         "type": "histogram",
         "x": [
          "No"
         ],
         "xaxis": "x2",
         "yaxis": "y2"
        },
        {
         "bingroup": "x",
         "hovertemplate": "Disease=Thyroid Cancer<br>Cough=%{x}<br>count=%{y}<extra></extra>",
         "legendgroup": "Thyroid Cancer",
         "marker": {
          "color": "#FF6692",
          "pattern": {
           "shape": ""
          }
         },
         "name": "Thyroid Cancer",
         "orientation": "v",
         "showlegend": true,
         "type": "histogram",
         "x": [
          "No"
         ],
         "xaxis": "x2",
         "yaxis": "y2"
        },
        {
         "bingroup": "x",
         "hovertemplate": "Disease=Alzheimer's Disease<br>Cough=%{x}<br>count=%{y}<extra></extra>",
         "legendgroup": "Alzheimer's Disease",
         "marker": {
          "color": "#B6E880",
          "pattern": {
           "shape": ""
          }
         },
         "name": "Alzheimer's Disease",
         "orientation": "v",
         "showlegend": true,
         "type": "histogram",
         "x": [
          "Yes",
          "No"
         ],
         "xaxis": "x2",
         "yaxis": "y2"
        },
        {
         "bingroup": "x",
         "hovertemplate": "Disease=Chronic Obstructive Pulmonary Disease (COPD)<br>Cough=%{x}<br>count=%{y}<extra></extra>",
         "legendgroup": "Chronic Obstructive Pulmonary Disease (COPD)",
         "marker": {
          "color": "#FF97FF",
          "pattern": {
           "shape": ""
          }
         },
         "name": "Chronic Obstructive Pulmonary Disease (COPD)",
         "orientation": "v",
         "showlegend": true,
         "type": "histogram",
         "x": [
          "No"
         ],
         "xaxis": "x2",
         "yaxis": "y2"
        },
        {
         "bingroup": "x",
         "hovertemplate": "Disease=Dementia<br>Cough=%{x}<br>count=%{y}<extra></extra>",
         "legendgroup": "Dementia",
         "marker": {
          "color": "#FECB52",
          "pattern": {
           "shape": ""
          }
         },
         "name": "Dementia",
         "orientation": "v",
         "showlegend": true,
         "type": "histogram",
         "x": [
          "No"
         ],
         "xaxis": "x2",
         "yaxis": "y2"
        },
        {
         "bingroup": "x",
         "hovertemplate": "Disease=Diverticulitis<br>Cough=%{x}<br>count=%{y}<extra></extra>",
         "legendgroup": "Diverticulitis",
         "marker": {
          "color": "#636efa",
          "pattern": {
           "shape": ""
          }
         },
         "name": "Diverticulitis",
         "orientation": "v",
         "showlegend": true,
         "type": "histogram",
         "x": [
          "No"
         ],
         "xaxis": "x2",
         "yaxis": "y2"
        },
        {
         "bingroup": "x",
         "hovertemplate": "Disease=Lung Cancer<br>Cough=%{x}<br>count=%{y}<extra></extra>",
         "legendgroup": "Lung Cancer",
         "marker": {
          "color": "#EF553B",
          "pattern": {
           "shape": ""
          }
         },
         "name": "Lung Cancer",
         "orientation": "v",
         "showlegend": true,
         "type": "histogram",
         "x": [
          "Yes",
          "No"
         ],
         "xaxis": "x2",
         "yaxis": "y2"
        },
        {
         "bingroup": "x",
         "hovertemplate": "Disease=Mumps<br>Cough=%{x}<br>count=%{y}<extra></extra>",
         "legendgroup": "Mumps",
         "marker": {
          "color": "#00cc96",
          "pattern": {
           "shape": ""
          }
         },
         "name": "Mumps",
         "orientation": "v",
         "showlegend": true,
         "type": "histogram",
         "x": [
          "No"
         ],
         "xaxis": "x2",
         "yaxis": "y2"
        },
        {
         "bingroup": "x",
         "hovertemplate": "Disease=Gout<br>Cough=%{x}<br>count=%{y}<extra></extra>",
         "legendgroup": "Gout",
         "marker": {
          "color": "#ab63fa",
          "pattern": {
           "shape": ""
          }
         },
         "name": "Gout",
         "orientation": "v",
         "showlegend": true,
         "type": "histogram",
         "x": [
          "No"
         ],
         "xaxis": "x2",
         "yaxis": "y2"
        },
        {
         "bingroup": "x",
         "hovertemplate": "Disease=Testicular Cancer<br>Cough=%{x}<br>count=%{y}<extra></extra>",
         "legendgroup": "Testicular Cancer",
         "marker": {
          "color": "#FFA15A",
          "pattern": {
           "shape": ""
          }
         },
         "name": "Testicular Cancer",
         "orientation": "v",
         "showlegend": true,
         "type": "histogram",
         "x": [
          "No"
         ],
         "xaxis": "x2",
         "yaxis": "y2"
        },
        {
         "bingroup": "x",
         "hovertemplate": "Disease=Tonsillitis<br>Cough=%{x}<br>count=%{y}<extra></extra>",
         "legendgroup": "Tonsillitis",
         "marker": {
          "color": "#19d3f3",
          "pattern": {
           "shape": ""
          }
         },
         "name": "Tonsillitis",
         "orientation": "v",
         "showlegend": true,
         "type": "histogram",
         "x": [
          "Yes"
         ],
         "xaxis": "x2",
         "yaxis": "y2"
        },
        {
         "bingroup": "x",
         "hovertemplate": "Disease=Williams Syndrome<br>Cough=%{x}<br>count=%{y}<extra></extra>",
         "legendgroup": "Williams Syndrome",
         "marker": {
          "color": "#FF6692",
          "pattern": {
           "shape": ""
          }
         },
         "name": "Williams Syndrome",
         "orientation": "v",
         "showlegend": true,
         "type": "histogram",
         "x": [
          "No"
         ],
         "xaxis": "x2",
         "yaxis": "y2"
        },
        {
         "bingroup": "x",
         "hovertemplate": "Disease=Influenza<br>Fatigue=%{x}<br>count=%{y}<extra></extra>",
         "legendgroup": "Influenza",
         "marker": {
          "color": "#636efa",
          "pattern": {
           "shape": ""
          }
         },
         "name": "Influenza",
         "orientation": "v",
         "showlegend": true,
         "type": "histogram",
         "x": [
          "Yes",
          "Yes",
          "Yes",
          "Yes",
          "Yes"
         ],
         "xaxis": "x3",
         "yaxis": "y3"
        },
        {
         "bingroup": "x",
         "hovertemplate": "Disease=Asthma<br>Fatigue=%{x}<br>count=%{y}<extra></extra>",
         "legendgroup": "Asthma",
         "marker": {
          "color": "#EF553B",
          "pattern": {
           "shape": ""
          }
         },
         "name": "Asthma",
         "orientation": "v",
         "showlegend": true,
         "type": "histogram",
         "x": [
          "No",
          "No",
          "No",
          "Yes",
          "No",
          "Yes",
          "No",
          "Yes",
          "Yes",
          "No",
          "Yes",
          "Yes"
         ],
         "xaxis": "x3",
         "yaxis": "y3"
        },
        {
         "bingroup": "x",
         "hovertemplate": "Disease=Eczema<br>Fatigue=%{x}<br>count=%{y}<extra></extra>",
         "legendgroup": "Eczema",
         "marker": {
          "color": "#00cc96",
          "pattern": {
           "shape": ""
          }
         },
         "name": "Eczema",
         "orientation": "v",
         "showlegend": true,
         "type": "histogram",
         "x": [
          "No",
          "No",
          "No"
         ],
         "xaxis": "x3",
         "yaxis": "y3"
        },
        {
         "bingroup": "x",
         "hovertemplate": "Disease=Depression<br>Fatigue=%{x}<br>count=%{y}<extra></extra>",
         "legendgroup": "Depression",
         "marker": {
          "color": "#ab63fa",
          "pattern": {
           "shape": ""
          }
         },
         "name": "Depression",
         "orientation": "v",
         "showlegend": true,
         "type": "histogram",
         "x": [
          "Yes",
          "Yes",
          "Yes"
         ],
         "xaxis": "x3",
         "yaxis": "y3"
        },
        {
         "bingroup": "x",
         "hovertemplate": "Disease=Liver Cancer<br>Fatigue=%{x}<br>count=%{y}<extra></extra>",
         "legendgroup": "Liver Cancer",
         "marker": {
          "color": "#FFA15A",
          "pattern": {
           "shape": ""
          }
         },
         "name": "Liver Cancer",
         "orientation": "v",
         "showlegend": true,
         "type": "histogram",
         "x": [
          "Yes",
          "Yes",
          "Yes",
          "Yes"
         ],
         "xaxis": "x3",
         "yaxis": "y3"
        },
        {
         "bingroup": "x",
         "hovertemplate": "Disease=Stroke<br>Fatigue=%{x}<br>count=%{y}<extra></extra>",
         "legendgroup": "Stroke",
         "marker": {
          "color": "#19d3f3",
          "pattern": {
           "shape": ""
          }
         },
         "name": "Stroke",
         "orientation": "v",
         "showlegend": true,
         "type": "histogram",
         "x": [
          "Yes",
          "Yes",
          "Yes",
          "No",
          "Yes",
          "Yes",
          "Yes"
         ],
         "xaxis": "x3",
         "yaxis": "y3"
        },
        {
         "bingroup": "x",
         "hovertemplate": "Disease=Urinary Tract Infection<br>Fatigue=%{x}<br>count=%{y}<extra></extra>",
         "legendgroup": "Urinary Tract Infection",
         "marker": {
          "color": "#FF6692",
          "pattern": {
           "shape": ""
          }
         },
         "name": "Urinary Tract Infection",
         "orientation": "v",
         "showlegend": true,
         "type": "histogram",
         "x": [
          "Yes",
          "Yes"
         ],
         "xaxis": "x3",
         "yaxis": "y3"
        },
        {
         "bingroup": "x",
         "hovertemplate": "Disease=Bipolar Disorder<br>Fatigue=%{x}<br>count=%{y}<extra></extra>",
         "legendgroup": "Bipolar Disorder",
         "marker": {
          "color": "#B6E880",
          "pattern": {
           "shape": ""
          }
         },
         "name": "Bipolar Disorder",
         "orientation": "v",
         "showlegend": true,
         "type": "histogram",
         "x": [
          "Yes"
         ],
         "xaxis": "x3",
         "yaxis": "y3"
        },
        {
         "bingroup": "x",
         "hovertemplate": "Disease=Bronchitis<br>Fatigue=%{x}<br>count=%{y}<extra></extra>",
         "legendgroup": "Bronchitis",
         "marker": {
          "color": "#FF97FF",
          "pattern": {
           "shape": ""
          }
         },
         "name": "Bronchitis",
         "orientation": "v",
         "showlegend": true,
         "type": "histogram",
         "x": [
          "No",
          "Yes",
          "Yes",
          "Yes"
         ],
         "xaxis": "x3",
         "yaxis": "y3"
        },
        {
         "bingroup": "x",
         "hovertemplate": "Disease=Cerebral Palsy<br>Fatigue=%{x}<br>count=%{y}<extra></extra>",
         "legendgroup": "Cerebral Palsy",
         "marker": {
          "color": "#FECB52",
          "pattern": {
           "shape": ""
          }
         },
         "name": "Cerebral Palsy",
         "orientation": "v",
         "showlegend": true,
         "type": "histogram",
         "x": [
          "Yes"
         ],
         "xaxis": "x3",
         "yaxis": "y3"
        },
        {
         "bingroup": "x",
         "hovertemplate": "Disease=Colorectal Cancer<br>Fatigue=%{x}<br>count=%{y}<extra></extra>",
         "legendgroup": "Colorectal Cancer",
         "marker": {
          "color": "#636efa",
          "pattern": {
           "shape": ""
          }
         },
         "name": "Colorectal Cancer",
         "orientation": "v",
         "showlegend": true,
         "type": "histogram",
         "x": [
          "Yes"
         ],
         "xaxis": "x3",
         "yaxis": "y3"
        },
        {
         "bingroup": "x",
         "hovertemplate": "Disease=Hypertensive Heart Disease<br>Fatigue=%{x}<br>count=%{y}<extra></extra>",
         "legendgroup": "Hypertensive Heart Disease",
         "marker": {
          "color": "#EF553B",
          "pattern": {
           "shape": ""
          }
         },
         "name": "Hypertensive Heart Disease",
         "orientation": "v",
         "showlegend": true,
         "type": "histogram",
         "x": [
          "Yes"
         ],
         "xaxis": "x3",
         "yaxis": "y3"
        },
        {
         "bingroup": "x",
         "hovertemplate": "Disease=Multiple Sclerosis<br>Fatigue=%{x}<br>count=%{y}<extra></extra>",
         "legendgroup": "Multiple Sclerosis",
         "marker": {
          "color": "#00cc96",
          "pattern": {
           "shape": ""
          }
         },
         "name": "Multiple Sclerosis",
         "orientation": "v",
         "showlegend": true,
         "type": "histogram",
         "x": [
          "Yes",
          "No"
         ],
         "xaxis": "x3",
         "yaxis": "y3"
        },
        {
         "bingroup": "x",
         "hovertemplate": "Disease=Myocardial Infarction (Heart...)<br>Fatigue=%{x}<br>count=%{y}<extra></extra>",
         "legendgroup": "Myocardial Infarction (Heart...)",
         "marker": {
          "color": "#ab63fa",
          "pattern": {
           "shape": ""
          }
         },
         "name": "Myocardial Infarction (Heart...)",
         "orientation": "v",
         "showlegend": true,
         "type": "histogram",
         "x": [
          "Yes"
         ],
         "xaxis": "x3",
         "yaxis": "y3"
        },
        {
         "bingroup": "x",
         "hovertemplate": "Disease=Urinary Tract Infection (UTI)<br>Fatigue=%{x}<br>count=%{y}<extra></extra>",
         "legendgroup": "Urinary Tract Infection (UTI)",
         "marker": {
          "color": "#FFA15A",
          "pattern": {
           "shape": ""
          }
         },
         "name": "Urinary Tract Infection (UTI)",
         "orientation": "v",
         "showlegend": true,
         "type": "histogram",
         "x": [
          "No"
         ],
         "xaxis": "x3",
         "yaxis": "y3"
        },
        {
         "bingroup": "x",
         "hovertemplate": "Disease=Common Cold<br>Fatigue=%{x}<br>count=%{y}<extra></extra>",
         "legendgroup": "Common Cold",
         "marker": {
          "color": "#19d3f3",
          "pattern": {
           "shape": ""
          }
         },
         "name": "Common Cold",
         "orientation": "v",
         "showlegend": true,
         "type": "histogram",
         "x": [
          "Yes"
         ],
         "xaxis": "x3",
         "yaxis": "y3"
        },
        {
         "bingroup": "x",
         "hovertemplate": "Disease=Migraine<br>Fatigue=%{x}<br>count=%{y}<extra></extra>",
         "legendgroup": "Migraine",
         "marker": {
          "color": "#FF6692",
          "pattern": {
           "shape": ""
          }
         },
         "name": "Migraine",
         "orientation": "v",
         "showlegend": true,
         "type": "histogram",
         "x": [
          "No",
          "Yes",
          "No",
          "No",
          "Yes"
         ],
         "xaxis": "x3",
         "yaxis": "y3"
        },
        {
         "bingroup": "x",
         "hovertemplate": "Disease=Pneumonia<br>Fatigue=%{x}<br>count=%{y}<extra></extra>",
         "legendgroup": "Pneumonia",
         "marker": {
          "color": "#B6E880",
          "pattern": {
           "shape": ""
          }
         },
         "name": "Pneumonia",
         "orientation": "v",
         "showlegend": true,
         "type": "histogram",
         "x": [
          "Yes",
          "Yes",
          "Yes",
          "Yes",
          "Yes"
         ],
         "xaxis": "x3",
         "yaxis": "y3"
        },
        {
         "bingroup": "x",
         "hovertemplate": "Disease=Cirrhosis<br>Fatigue=%{x}<br>count=%{y}<extra></extra>",
         "legendgroup": "Cirrhosis",
         "marker": {
          "color": "#FF97FF",
          "pattern": {
           "shape": ""
          }
         },
         "name": "Cirrhosis",
         "orientation": "v",
         "showlegend": true,
         "type": "histogram",
         "x": [
          "Yes"
         ],
         "xaxis": "x3",
         "yaxis": "y3"
        },
        {
         "bingroup": "x",
         "hovertemplate": "Disease=Conjunctivitis (Pink Eye)<br>Fatigue=%{x}<br>count=%{y}<extra></extra>",
         "legendgroup": "Conjunctivitis (Pink Eye)",
         "marker": {
          "color": "#FECB52",
          "pattern": {
           "shape": ""
          }
         },
         "name": "Conjunctivitis (Pink Eye)",
         "orientation": "v",
         "showlegend": true,
         "type": "histogram",
         "x": [
          "No"
         ],
         "xaxis": "x3",
         "yaxis": "y3"
        },
        {
         "bingroup": "x",
         "hovertemplate": "Disease=Gastroenteritis<br>Fatigue=%{x}<br>count=%{y}<extra></extra>",
         "legendgroup": "Gastroenteritis",
         "marker": {
          "color": "#636efa",
          "pattern": {
           "shape": ""
          }
         },
         "name": "Gastroenteritis",
         "orientation": "v",
         "showlegend": true,
         "type": "histogram",
         "x": [
          "Yes",
          "Yes",
          "Yes"
         ],
         "xaxis": "x3",
         "yaxis": "y3"
        },
        {
         "bingroup": "x",
         "hovertemplate": "Disease=Hyperthyroidism<br>Fatigue=%{x}<br>count=%{y}<extra></extra>",
         "legendgroup": "Hyperthyroidism",
         "marker": {
          "color": "#EF553B",
          "pattern": {
           "shape": ""
          }
         },
         "name": "Hyperthyroidism",
         "orientation": "v",
         "showlegend": true,
         "type": "histogram",
         "x": [
          "Yes",
          "Yes"
         ],
         "xaxis": "x3",
         "yaxis": "y3"
        },
        {
         "bingroup": "x",
         "hovertemplate": "Disease=Kidney Cancer<br>Fatigue=%{x}<br>count=%{y}<extra></extra>",
         "legendgroup": "Kidney Cancer",
         "marker": {
          "color": "#00cc96",
          "pattern": {
           "shape": ""
          }
         },
         "name": "Kidney Cancer",
         "orientation": "v",
         "showlegend": true,
         "type": "histogram",
         "x": [
          "Yes",
          "Yes"
         ],
         "xaxis": "x3",
         "yaxis": "y3"
        },
        {
         "bingroup": "x",
         "hovertemplate": "Disease=Liver Disease<br>Fatigue=%{x}<br>count=%{y}<extra></extra>",
         "legendgroup": "Liver Disease",
         "marker": {
          "color": "#ab63fa",
          "pattern": {
           "shape": ""
          }
         },
         "name": "Liver Disease",
         "orientation": "v",
         "showlegend": true,
         "type": "histogram",
         "x": [
          "Yes",
          "Yes"
         ],
         "xaxis": "x3",
         "yaxis": "y3"
        },
        {
         "bingroup": "x",
         "hovertemplate": "Disease=Malaria<br>Fatigue=%{x}<br>count=%{y}<extra></extra>",
         "legendgroup": "Malaria",
         "marker": {
          "color": "#FFA15A",
          "pattern": {
           "shape": ""
          }
         },
         "name": "Malaria",
         "orientation": "v",
         "showlegend": true,
         "type": "histogram",
         "x": [
          "No"
         ],
         "xaxis": "x3",
         "yaxis": "y3"
        },
        {
         "bingroup": "x",
         "hovertemplate": "Disease=Pancreatitis<br>Fatigue=%{x}<br>count=%{y}<extra></extra>",
         "legendgroup": "Pancreatitis",
         "marker": {
          "color": "#19d3f3",
          "pattern": {
           "shape": ""
          }
         },
         "name": "Pancreatitis",
         "orientation": "v",
         "showlegend": true,
         "type": "histogram",
         "x": [
          "Yes",
          "Yes"
         ],
         "xaxis": "x3",
         "yaxis": "y3"
        },
        {
         "bingroup": "x",
         "hovertemplate": "Disease=Rheumatoid Arthritis<br>Fatigue=%{x}<br>count=%{y}<extra></extra>",
         "legendgroup": "Rheumatoid Arthritis",
         "marker": {
          "color": "#FF6692",
          "pattern": {
           "shape": ""
          }
         },
         "name": "Rheumatoid Arthritis",
         "orientation": "v",
         "showlegend": true,
         "type": "histogram",
         "x": [
          "Yes",
          "Yes",
          "Yes"
         ],
         "xaxis": "x3",
         "yaxis": "y3"
        },
        {
         "bingroup": "x",
         "hovertemplate": "Disease=Spina Bifida<br>Fatigue=%{x}<br>count=%{y}<extra></extra>",
         "legendgroup": "Spina Bifida",
         "marker": {
          "color": "#B6E880",
          "pattern": {
           "shape": ""
          }
         },
         "name": "Spina Bifida",
         "orientation": "v",
         "showlegend": true,
         "type": "histogram",
         "x": [
          "Yes"
         ],
         "xaxis": "x3",
         "yaxis": "y3"
        },
        {
         "bingroup": "x",
         "hovertemplate": "Disease=Ulcerative Colitis<br>Fatigue=%{x}<br>count=%{y}<extra></extra>",
         "legendgroup": "Ulcerative Colitis",
         "marker": {
          "color": "#FF97FF",
          "pattern": {
           "shape": ""
          }
         },
         "name": "Ulcerative Colitis",
         "orientation": "v",
         "showlegend": true,
         "type": "histogram",
         "x": [
          "Yes",
          "No",
          "Yes"
         ],
         "xaxis": "x3",
         "yaxis": "y3"
        },
        {
         "bingroup": "x",
         "hovertemplate": "Disease=Anxiety Disorders<br>Fatigue=%{x}<br>count=%{y}<extra></extra>",
         "legendgroup": "Anxiety Disorders",
         "marker": {
          "color": "#FECB52",
          "pattern": {
           "shape": ""
          }
         },
         "name": "Anxiety Disorders",
         "orientation": "v",
         "showlegend": true,
         "type": "histogram",
         "x": [
          "Yes",
          "Yes",
          "No"
         ],
         "xaxis": "x3",
         "yaxis": "y3"
        },
        {
         "bingroup": "x",
         "hovertemplate": "Disease=Diabetes<br>Fatigue=%{x}<br>count=%{y}<extra></extra>",
         "legendgroup": "Diabetes",
         "marker": {
          "color": "#636efa",
          "pattern": {
           "shape": ""
          }
         },
         "name": "Diabetes",
         "orientation": "v",
         "showlegend": true,
         "type": "histogram",
         "x": [
          "Yes",
          "Yes",
          "Yes",
          "Yes",
          "Yes"
         ],
         "xaxis": "x3",
         "yaxis": "y3"
        },
        {
         "bingroup": "x",
         "hovertemplate": "Disease=Osteoarthritis<br>Fatigue=%{x}<br>count=%{y}<extra></extra>",
         "legendgroup": "Osteoarthritis",
         "marker": {
          "color": "#EF553B",
          "pattern": {
           "shape": ""
          }
         },
         "name": "Osteoarthritis",
         "orientation": "v",
         "showlegend": true,
         "type": "histogram",
         "x": [
          "Yes",
          "Yes",
          "No"
         ],
         "xaxis": "x3",
         "yaxis": "y3"
        },
        {
         "bingroup": "x",
         "hovertemplate": "Disease=Klinefelter Syndrome<br>Fatigue=%{x}<br>count=%{y}<extra></extra>",
         "legendgroup": "Klinefelter Syndrome",
         "marker": {
          "color": "#00cc96",
          "pattern": {
           "shape": ""
          }
         },
         "name": "Klinefelter Syndrome",
         "orientation": "v",
         "showlegend": true,
         "type": "histogram",
         "x": [
          "Yes",
          "Yes"
         ],
         "xaxis": "x3",
         "yaxis": "y3"
        },
        {
         "bingroup": "x",
         "hovertemplate": "Disease=Chickenpox<br>Fatigue=%{x}<br>count=%{y}<extra></extra>",
         "legendgroup": "Chickenpox",
         "marker": {
          "color": "#ab63fa",
          "pattern": {
           "shape": ""
          }
         },
         "name": "Chickenpox",
         "orientation": "v",
         "showlegend": true,
         "type": "histogram",
         "x": [
          "No"
         ],
         "xaxis": "x3",
         "yaxis": "y3"
        },
        {
         "bingroup": "x",
         "hovertemplate": "Disease=Coronary Artery Disease<br>Fatigue=%{x}<br>count=%{y}<extra></extra>",
         "legendgroup": "Coronary Artery Disease",
         "marker": {
          "color": "#FFA15A",
          "pattern": {
           "shape": ""
          }
         },
         "name": "Coronary Artery Disease",
         "orientation": "v",
         "showlegend": true,
         "type": "histogram",
         "x": [
          "Yes",
          "Yes"
         ],
         "xaxis": "x3",
         "yaxis": "y3"
        },
        {
         "bingroup": "x",
         "hovertemplate": "Disease=Eating Disorders (Anorexia,...)<br>Fatigue=%{x}<br>count=%{y}<extra></extra>",
         "legendgroup": "Eating Disorders (Anorexia,...)",
         "marker": {
          "color": "#19d3f3",
          "pattern": {
           "shape": ""
          }
         },
         "name": "Eating Disorders (Anorexia,...)",
         "orientation": "v",
         "showlegend": true,
         "type": "histogram",
         "x": [
          "Yes"
         ],
         "xaxis": "x3",
         "yaxis": "y3"
        },
        {
         "bingroup": "x",
         "hovertemplate": "Disease=Fibromyalgia<br>Fatigue=%{x}<br>count=%{y}<extra></extra>",
         "legendgroup": "Fibromyalgia",
         "marker": {
          "color": "#FF6692",
          "pattern": {
           "shape": ""
          }
         },
         "name": "Fibromyalgia",
         "orientation": "v",
         "showlegend": true,
         "type": "histogram",
         "x": [
          "Yes"
         ],
         "xaxis": "x3",
         "yaxis": "y3"
        },
        {
         "bingroup": "x",
         "hovertemplate": "Disease=Hemophilia<br>Fatigue=%{x}<br>count=%{y}<extra></extra>",
         "legendgroup": "Hemophilia",
         "marker": {
          "color": "#B6E880",
          "pattern": {
           "shape": ""
          }
         },
         "name": "Hemophilia",
         "orientation": "v",
         "showlegend": true,
         "type": "histogram",
         "x": [
          "Yes",
          "Yes"
         ],
         "xaxis": "x3",
         "yaxis": "y3"
        },
        {
         "bingroup": "x",
         "hovertemplate": "Disease=Hypoglycemia<br>Fatigue=%{x}<br>count=%{y}<extra></extra>",
         "legendgroup": "Hypoglycemia",
         "marker": {
          "color": "#FF97FF",
          "pattern": {
           "shape": ""
          }
         },
         "name": "Hypoglycemia",
         "orientation": "v",
         "showlegend": true,
         "type": "histogram",
         "x": [
          "Yes"
         ],
         "xaxis": "x3",
         "yaxis": "y3"
        },
        {
         "bingroup": "x",
         "hovertemplate": "Disease=Lymphoma<br>Fatigue=%{x}<br>count=%{y}<extra></extra>",
         "legendgroup": "Lymphoma",
         "marker": {
          "color": "#FECB52",
          "pattern": {
           "shape": ""
          }
         },
         "name": "Lymphoma",
         "orientation": "v",
         "showlegend": true,
         "type": "histogram",
         "x": [
          "No"
         ],
         "xaxis": "x3",
         "yaxis": "y3"
        },
        {
         "bingroup": "x",
         "hovertemplate": "Disease=Psoriasis<br>Fatigue=%{x}<br>count=%{y}<extra></extra>",
         "legendgroup": "Psoriasis",
         "marker": {
          "color": "#636efa",
          "pattern": {
           "shape": ""
          }
         },
         "name": "Psoriasis",
         "orientation": "v",
         "showlegend": true,
         "type": "histogram",
         "x": [
          "Yes",
          "No",
          "No"
         ],
         "xaxis": "x3",
         "yaxis": "y3"
        },
        {
         "bingroup": "x",
         "hovertemplate": "Disease=Tuberculosis<br>Fatigue=%{x}<br>count=%{y}<extra></extra>",
         "legendgroup": "Tuberculosis",
         "marker": {
          "color": "#EF553B",
          "pattern": {
           "shape": ""
          }
         },
         "name": "Tuberculosis",
         "orientation": "v",
         "showlegend": true,
         "type": "histogram",
         "x": [
          "Yes",
          "Yes"
         ],
         "xaxis": "x3",
         "yaxis": "y3"
        },
        {
         "bingroup": "x",
         "hovertemplate": "Disease=Hypothyroidism<br>Fatigue=%{x}<br>count=%{y}<extra></extra>",
         "legendgroup": "Hypothyroidism",
         "marker": {
          "color": "#00cc96",
          "pattern": {
           "shape": ""
          }
         },
         "name": "Hypothyroidism",
         "orientation": "v",
         "showlegend": true,
         "type": "histogram",
         "x": [
          "Yes",
          "Yes",
          "Yes"
         ],
         "xaxis": "x3",
         "yaxis": "y3"
        },
        {
         "bingroup": "x",
         "hovertemplate": "Disease=Kidney Disease<br>Fatigue=%{x}<br>count=%{y}<extra></extra>",
         "legendgroup": "Kidney Disease",
         "marker": {
          "color": "#ab63fa",
          "pattern": {
           "shape": ""
          }
         },
         "name": "Kidney Disease",
         "orientation": "v",
         "showlegend": true,
         "type": "histogram",
         "x": [
          "Yes",
          "Yes"
         ],
         "xaxis": "x3",
         "yaxis": "y3"
        },
        {
         "bingroup": "x",
         "hovertemplate": "Disease=Allergic Rhinitis<br>Fatigue=%{x}<br>count=%{y}<extra></extra>",
         "legendgroup": "Allergic Rhinitis",
         "marker": {
          "color": "#FFA15A",
          "pattern": {
           "shape": ""
          }
         },
         "name": "Allergic Rhinitis",
         "orientation": "v",
         "showlegend": true,
         "type": "histogram",
         "x": [
          "Yes"
         ],
         "xaxis": "x3",
         "yaxis": "y3"
        },
        {
         "bingroup": "x",
         "hovertemplate": "Disease=Cataracts<br>Fatigue=%{x}<br>count=%{y}<extra></extra>",
         "legendgroup": "Cataracts",
         "marker": {
          "color": "#19d3f3",
          "pattern": {
           "shape": ""
          }
         },
         "name": "Cataracts",
         "orientation": "v",
         "showlegend": true,
         "type": "histogram",
         "x": [
          "Yes"
         ],
         "xaxis": "x3",
         "yaxis": "y3"
        },
        {
         "bingroup": "x",
         "hovertemplate": "Disease=Crohn's Disease<br>Fatigue=%{x}<br>count=%{y}<extra></extra>",
         "legendgroup": "Crohn's Disease",
         "marker": {
          "color": "#FF6692",
          "pattern": {
           "shape": ""
          }
         },
         "name": "Crohn's Disease",
         "orientation": "v",
         "showlegend": true,
         "type": "histogram",
         "x": [
          "Yes",
          "Yes"
         ],
         "xaxis": "x3",
         "yaxis": "y3"
        },
        {
         "bingroup": "x",
         "hovertemplate": "Disease=Hypertension<br>Fatigue=%{x}<br>count=%{y}<extra></extra>",
         "legendgroup": "Hypertension",
         "marker": {
          "color": "#B6E880",
          "pattern": {
           "shape": ""
          }
         },
         "name": "Hypertension",
         "orientation": "v",
         "showlegend": true,
         "type": "histogram",
         "x": [
          "Yes",
          "Yes",
          "Yes",
          "Yes",
          "No"
         ],
         "xaxis": "x3",
         "yaxis": "y3"
        },
        {
         "bingroup": "x",
         "hovertemplate": "Disease=Osteoporosis<br>Fatigue=%{x}<br>count=%{y}<extra></extra>",
         "legendgroup": "Osteoporosis",
         "marker": {
          "color": "#FF97FF",
          "pattern": {
           "shape": ""
          }
         },
         "name": "Osteoporosis",
         "orientation": "v",
         "showlegend": true,
         "type": "histogram",
         "x": [
          "Yes",
          "Yes",
          "Yes",
          "Yes",
          "Yes",
          "Yes"
         ],
         "xaxis": "x3",
         "yaxis": "y3"
        },
        {
         "bingroup": "x",
         "hovertemplate": "Disease=Pneumocystis Pneumonia (PCP)<br>Fatigue=%{x}<br>count=%{y}<extra></extra>",
         "legendgroup": "Pneumocystis Pneumonia (PCP)",
         "marker": {
          "color": "#FECB52",
          "pattern": {
           "shape": ""
          }
         },
         "name": "Pneumocystis Pneumonia (PCP)",
         "orientation": "v",
         "showlegend": true,
         "type": "histogram",
         "x": [
          "Yes"
         ],
         "xaxis": "x3",
         "yaxis": "y3"
        },
        {
         "bingroup": "x",
         "hovertemplate": "Disease=Scoliosis<br>Fatigue=%{x}<br>count=%{y}<extra></extra>",
         "legendgroup": "Scoliosis",
         "marker": {
          "color": "#636efa",
          "pattern": {
           "shape": ""
          }
         },
         "name": "Scoliosis",
         "orientation": "v",
         "showlegend": true,
         "type": "histogram",
         "x": [
          "No"
         ],
         "xaxis": "x3",
         "yaxis": "y3"
        },
        {
         "bingroup": "x",
         "hovertemplate": "Disease=Sickle Cell Anemia<br>Fatigue=%{x}<br>count=%{y}<extra></extra>",
         "legendgroup": "Sickle Cell Anemia",
         "marker": {
          "color": "#EF553B",
          "pattern": {
           "shape": ""
          }
         },
         "name": "Sickle Cell Anemia",
         "orientation": "v",
         "showlegend": true,
         "type": "histogram",
         "x": [
          "Yes"
         ],
         "xaxis": "x3",
         "yaxis": "y3"
        },
        {
         "bingroup": "x",
         "hovertemplate": "Disease=Tetanus<br>Fatigue=%{x}<br>count=%{y}<extra></extra>",
         "legendgroup": "Tetanus",
         "marker": {
          "color": "#00cc96",
          "pattern": {
           "shape": ""
          }
         },
         "name": "Tetanus",
         "orientation": "v",
         "showlegend": true,
         "type": "histogram",
         "x": [
          "Yes"
         ],
         "xaxis": "x3",
         "yaxis": "y3"
        },
        {
         "bingroup": "x",
         "hovertemplate": "Disease=Down Syndrome<br>Fatigue=%{x}<br>count=%{y}<extra></extra>",
         "legendgroup": "Down Syndrome",
         "marker": {
          "color": "#ab63fa",
          "pattern": {
           "shape": ""
          }
         },
         "name": "Down Syndrome",
         "orientation": "v",
         "showlegend": true,
         "type": "histogram",
         "x": [
          "Yes"
         ],
         "xaxis": "x3",
         "yaxis": "y3"
        },
        {
         "bingroup": "x",
         "hovertemplate": "Disease=Ebola Virus<br>Fatigue=%{x}<br>count=%{y}<extra></extra>",
         "legendgroup": "Ebola Virus",
         "marker": {
          "color": "#FFA15A",
          "pattern": {
           "shape": ""
          }
         },
         "name": "Ebola Virus",
         "orientation": "v",
         "showlegend": true,
         "type": "histogram",
         "x": [
          "Yes"
         ],
         "xaxis": "x3",
         "yaxis": "y3"
        },
        {
         "bingroup": "x",
         "hovertemplate": "Disease=Lyme Disease<br>Fatigue=%{x}<br>count=%{y}<extra></extra>",
         "legendgroup": "Lyme Disease",
         "marker": {
          "color": "#19d3f3",
          "pattern": {
           "shape": ""
          }
         },
         "name": "Lyme Disease",
         "orientation": "v",
         "showlegend": true,
         "type": "histogram",
         "x": [
          "No"
         ],
         "xaxis": "x3",
         "yaxis": "y3"
        },
        {
         "bingroup": "x",
         "hovertemplate": "Disease=Pancreatic Cancer<br>Fatigue=%{x}<br>count=%{y}<extra></extra>",
         "legendgroup": "Pancreatic Cancer",
         "marker": {
          "color": "#FF6692",
          "pattern": {
           "shape": ""
          }
         },
         "name": "Pancreatic Cancer",
         "orientation": "v",
         "showlegend": true,
         "type": "histogram",
         "x": [
          "Yes"
         ],
         "xaxis": "x3",
         "yaxis": "y3"
        },
        {
         "bingroup": "x",
         "hovertemplate": "Disease=Pneumothorax<br>Fatigue=%{x}<br>count=%{y}<extra></extra>",
         "legendgroup": "Pneumothorax",
         "marker": {
          "color": "#B6E880",
          "pattern": {
           "shape": ""
          }
         },
         "name": "Pneumothorax",
         "orientation": "v",
         "showlegend": true,
         "type": "histogram",
         "x": [
          "Yes"
         ],
         "xaxis": "x3",
         "yaxis": "y3"
        },
        {
         "bingroup": "x",
         "hovertemplate": "Disease=Hemorrhoids<br>Fatigue=%{x}<br>count=%{y}<extra></extra>",
         "legendgroup": "Hemorrhoids",
         "marker": {
          "color": "#FF97FF",
          "pattern": {
           "shape": ""
          }
         },
         "name": "Hemorrhoids",
         "orientation": "v",
         "showlegend": true,
         "type": "histogram",
         "x": [
          "No"
         ],
         "xaxis": "x3",
         "yaxis": "y3"
        },
        {
         "bingroup": "x",
         "hovertemplate": "Disease=Polycystic Ovary Syndrome (PCOS)<br>Fatigue=%{x}<br>count=%{y}<extra></extra>",
         "legendgroup": "Polycystic Ovary Syndrome (PCOS)",
         "marker": {
          "color": "#FECB52",
          "pattern": {
           "shape": ""
          }
         },
         "name": "Polycystic Ovary Syndrome (PCOS)",
         "orientation": "v",
         "showlegend": true,
         "type": "histogram",
         "x": [
          "No"
         ],
         "xaxis": "x3",
         "yaxis": "y3"
        },
        {
         "bingroup": "x",
         "hovertemplate": "Disease=Systemic Lupus Erythematosus...<br>Fatigue=%{x}<br>count=%{y}<extra></extra>",
         "legendgroup": "Systemic Lupus Erythematosus...",
         "marker": {
          "color": "#636efa",
          "pattern": {
           "shape": ""
          }
         },
         "name": "Systemic Lupus Erythematosus...",
         "orientation": "v",
         "showlegend": true,
         "type": "histogram",
         "x": [
          "Yes"
         ],
         "xaxis": "x3",
         "yaxis": "y3"
        },
        {
         "bingroup": "x",
         "hovertemplate": "Disease=Typhoid Fever<br>Fatigue=%{x}<br>count=%{y}<extra></extra>",
         "legendgroup": "Typhoid Fever",
         "marker": {
          "color": "#EF553B",
          "pattern": {
           "shape": ""
          }
         },
         "name": "Typhoid Fever",
         "orientation": "v",
         "showlegend": true,
         "type": "histogram",
         "x": [
          "No"
         ],
         "xaxis": "x3",
         "yaxis": "y3"
        },
        {
         "bingroup": "x",
         "hovertemplate": "Disease=Chronic Kidney Disease<br>Fatigue=%{x}<br>count=%{y}<extra></extra>",
         "legendgroup": "Chronic Kidney Disease",
         "marker": {
          "color": "#00cc96",
          "pattern": {
           "shape": ""
          }
         },
         "name": "Chronic Kidney Disease",
         "orientation": "v",
         "showlegend": true,
         "type": "histogram",
         "x": [
          "Yes"
         ],
         "xaxis": "x3",
         "yaxis": "y3"
        },
        {
         "bingroup": "x",
         "hovertemplate": "Disease=Hepatitis B<br>Fatigue=%{x}<br>count=%{y}<extra></extra>",
         "legendgroup": "Hepatitis B",
         "marker": {
          "color": "#ab63fa",
          "pattern": {
           "shape": ""
          }
         },
         "name": "Hepatitis B",
         "orientation": "v",
         "showlegend": true,
         "type": "histogram",
         "x": [
          "Yes"
         ],
         "xaxis": "x3",
         "yaxis": "y3"
        },
        {
         "bingroup": "x",
         "hovertemplate": "Disease=Parkinson's Disease<br>Fatigue=%{x}<br>count=%{y}<extra></extra>",
         "legendgroup": "Parkinson's Disease",
         "marker": {
          "color": "#FFA15A",
          "pattern": {
           "shape": ""
          }
         },
         "name": "Parkinson's Disease",
         "orientation": "v",
         "showlegend": true,
         "type": "histogram",
         "x": [
          "No"
         ],
         "xaxis": "x3",
         "yaxis": "y3"
        },
        {
         "bingroup": "x",
         "hovertemplate": "Disease=Prader-Willi Syndrome<br>Fatigue=%{x}<br>count=%{y}<extra></extra>",
         "legendgroup": "Prader-Willi Syndrome",
         "marker": {
          "color": "#19d3f3",
          "pattern": {
           "shape": ""
          }
         },
         "name": "Prader-Willi Syndrome",
         "orientation": "v",
         "showlegend": true,
         "type": "histogram",
         "x": [
          "Yes"
         ],
         "xaxis": "x3",
         "yaxis": "y3"
        },
        {
         "bingroup": "x",
         "hovertemplate": "Disease=Thyroid Cancer<br>Fatigue=%{x}<br>count=%{y}<extra></extra>",
         "legendgroup": "Thyroid Cancer",
         "marker": {
          "color": "#FF6692",
          "pattern": {
           "shape": ""
          }
         },
         "name": "Thyroid Cancer",
         "orientation": "v",
         "showlegend": true,
         "type": "histogram",
         "x": [
          "Yes"
         ],
         "xaxis": "x3",
         "yaxis": "y3"
        },
        {
         "bingroup": "x",
         "hovertemplate": "Disease=Alzheimer's Disease<br>Fatigue=%{x}<br>count=%{y}<extra></extra>",
         "legendgroup": "Alzheimer's Disease",
         "marker": {
          "color": "#B6E880",
          "pattern": {
           "shape": ""
          }
         },
         "name": "Alzheimer's Disease",
         "orientation": "v",
         "showlegend": true,
         "type": "histogram",
         "x": [
          "No",
          "Yes"
         ],
         "xaxis": "x3",
         "yaxis": "y3"
        },
        {
         "bingroup": "x",
         "hovertemplate": "Disease=Chronic Obstructive Pulmonary Disease (COPD)<br>Fatigue=%{x}<br>count=%{y}<extra></extra>",
         "legendgroup": "Chronic Obstructive Pulmonary Disease (COPD)",
         "marker": {
          "color": "#FF97FF",
          "pattern": {
           "shape": ""
          }
         },
         "name": "Chronic Obstructive Pulmonary Disease (COPD)",
         "orientation": "v",
         "showlegend": true,
         "type": "histogram",
         "x": [
          "Yes"
         ],
         "xaxis": "x3",
         "yaxis": "y3"
        },
        {
         "bingroup": "x",
         "hovertemplate": "Disease=Dementia<br>Fatigue=%{x}<br>count=%{y}<extra></extra>",
         "legendgroup": "Dementia",
         "marker": {
          "color": "#FECB52",
          "pattern": {
           "shape": ""
          }
         },
         "name": "Dementia",
         "orientation": "v",
         "showlegend": true,
         "type": "histogram",
         "x": [
          "Yes"
         ],
         "xaxis": "x3",
         "yaxis": "y3"
        },
        {
         "bingroup": "x",
         "hovertemplate": "Disease=Diverticulitis<br>Fatigue=%{x}<br>count=%{y}<extra></extra>",
         "legendgroup": "Diverticulitis",
         "marker": {
          "color": "#636efa",
          "pattern": {
           "shape": ""
          }
         },
         "name": "Diverticulitis",
         "orientation": "v",
         "showlegend": true,
         "type": "histogram",
         "x": [
          "Yes"
         ],
         "xaxis": "x3",
         "yaxis": "y3"
        },
        {
         "bingroup": "x",
         "hovertemplate": "Disease=Lung Cancer<br>Fatigue=%{x}<br>count=%{y}<extra></extra>",
         "legendgroup": "Lung Cancer",
         "marker": {
          "color": "#EF553B",
          "pattern": {
           "shape": ""
          }
         },
         "name": "Lung Cancer",
         "orientation": "v",
         "showlegend": true,
         "type": "histogram",
         "x": [
          "Yes",
          "Yes"
         ],
         "xaxis": "x3",
         "yaxis": "y3"
        },
        {
         "bingroup": "x",
         "hovertemplate": "Disease=Mumps<br>Fatigue=%{x}<br>count=%{y}<extra></extra>",
         "legendgroup": "Mumps",
         "marker": {
          "color": "#00cc96",
          "pattern": {
           "shape": ""
          }
         },
         "name": "Mumps",
         "orientation": "v",
         "showlegend": true,
         "type": "histogram",
         "x": [
          "Yes"
         ],
         "xaxis": "x3",
         "yaxis": "y3"
        },
        {
         "bingroup": "x",
         "hovertemplate": "Disease=Gout<br>Fatigue=%{x}<br>count=%{y}<extra></extra>",
         "legendgroup": "Gout",
         "marker": {
          "color": "#ab63fa",
          "pattern": {
           "shape": ""
          }
         },
         "name": "Gout",
         "orientation": "v",
         "showlegend": true,
         "type": "histogram",
         "x": [
          "Yes"
         ],
         "xaxis": "x3",
         "yaxis": "y3"
        },
        {
         "bingroup": "x",
         "hovertemplate": "Disease=Testicular Cancer<br>Fatigue=%{x}<br>count=%{y}<extra></extra>",
         "legendgroup": "Testicular Cancer",
         "marker": {
          "color": "#FFA15A",
          "pattern": {
           "shape": ""
          }
         },
         "name": "Testicular Cancer",
         "orientation": "v",
         "showlegend": true,
         "type": "histogram",
         "x": [
          "Yes"
         ],
         "xaxis": "x3",
         "yaxis": "y3"
        },
        {
         "bingroup": "x",
         "hovertemplate": "Disease=Tonsillitis<br>Fatigue=%{x}<br>count=%{y}<extra></extra>",
         "legendgroup": "Tonsillitis",
         "marker": {
          "color": "#19d3f3",
          "pattern": {
           "shape": ""
          }
         },
         "name": "Tonsillitis",
         "orientation": "v",
         "showlegend": true,
         "type": "histogram",
         "x": [
          "Yes"
         ],
         "xaxis": "x3",
         "yaxis": "y3"
        },
        {
         "bingroup": "x",
         "hovertemplate": "Disease=Williams Syndrome<br>Fatigue=%{x}<br>count=%{y}<extra></extra>",
         "legendgroup": "Williams Syndrome",
         "marker": {
          "color": "#FF6692",
          "pattern": {
           "shape": ""
          }
         },
         "name": "Williams Syndrome",
         "orientation": "v",
         "showlegend": true,
         "type": "histogram",
         "x": [
          "Yes"
         ],
         "xaxis": "x3",
         "yaxis": "y3"
        },
        {
         "bingroup": "x",
         "hovertemplate": "Disease=Influenza<br>Difficulty Breathing=%{x}<br>count=%{y}<extra></extra>",
         "legendgroup": "Influenza",
         "marker": {
          "color": "#636efa",
          "pattern": {
           "shape": ""
          }
         },
         "name": "Influenza",
         "orientation": "v",
         "showlegend": true,
         "type": "histogram",
         "x": [
          "Yes",
          "Yes",
          "No",
          "Yes",
          "Yes"
         ],
         "xaxis": "x4",
         "yaxis": "y4"
        },
        {
         "bingroup": "x",
         "hovertemplate": "Disease=Asthma<br>Difficulty Breathing=%{x}<br>count=%{y}<extra></extra>",
         "legendgroup": "Asthma",
         "marker": {
          "color": "#EF553B",
          "pattern": {
           "shape": ""
          }
         },
         "name": "Asthma",
         "orientation": "v",
         "showlegend": true,
         "type": "histogram",
         "x": [
          "Yes",
          "Yes",
          "Yes",
          "Yes",
          "Yes",
          "No",
          "Yes",
          "Yes",
          "Yes",
          "Yes",
          "Yes",
          "Yes"
         ],
         "xaxis": "x4",
         "yaxis": "y4"
        },
        {
         "bingroup": "x",
         "hovertemplate": "Disease=Eczema<br>Difficulty Breathing=%{x}<br>count=%{y}<extra></extra>",
         "legendgroup": "Eczema",
         "marker": {
          "color": "#00cc96",
          "pattern": {
           "shape": ""
          }
         },
         "name": "Eczema",
         "orientation": "v",
         "showlegend": true,
         "type": "histogram",
         "x": [
          "No",
          "No",
          "No"
         ],
         "xaxis": "x4",
         "yaxis": "y4"
        },
        {
         "bingroup": "x",
         "hovertemplate": "Disease=Depression<br>Difficulty Breathing=%{x}<br>count=%{y}<extra></extra>",
         "legendgroup": "Depression",
         "marker": {
          "color": "#ab63fa",
          "pattern": {
           "shape": ""
          }
         },
         "name": "Depression",
         "orientation": "v",
         "showlegend": true,
         "type": "histogram",
         "x": [
          "Yes",
          "No",
          "No"
         ],
         "xaxis": "x4",
         "yaxis": "y4"
        },
        {
         "bingroup": "x",
         "hovertemplate": "Disease=Liver Cancer<br>Difficulty Breathing=%{x}<br>count=%{y}<extra></extra>",
         "legendgroup": "Liver Cancer",
         "marker": {
          "color": "#FFA15A",
          "pattern": {
           "shape": ""
          }
         },
         "name": "Liver Cancer",
         "orientation": "v",
         "showlegend": true,
         "type": "histogram",
         "x": [
          "Yes",
          "No",
          "Yes",
          "No"
         ],
         "xaxis": "x4",
         "yaxis": "y4"
        },
        {
         "bingroup": "x",
         "hovertemplate": "Disease=Stroke<br>Difficulty Breathing=%{x}<br>count=%{y}<extra></extra>",
         "legendgroup": "Stroke",
         "marker": {
          "color": "#19d3f3",
          "pattern": {
           "shape": ""
          }
         },
         "name": "Stroke",
         "orientation": "v",
         "showlegend": true,
         "type": "histogram",
         "x": [
          "Yes",
          "Yes",
          "No",
          "No",
          "No",
          "No",
          "No"
         ],
         "xaxis": "x4",
         "yaxis": "y4"
        },
        {
         "bingroup": "x",
         "hovertemplate": "Disease=Urinary Tract Infection<br>Difficulty Breathing=%{x}<br>count=%{y}<extra></extra>",
         "legendgroup": "Urinary Tract Infection",
         "marker": {
          "color": "#FF6692",
          "pattern": {
           "shape": ""
          }
         },
         "name": "Urinary Tract Infection",
         "orientation": "v",
         "showlegend": true,
         "type": "histogram",
         "x": [
          "No",
          "No"
         ],
         "xaxis": "x4",
         "yaxis": "y4"
        },
        {
         "bingroup": "x",
         "hovertemplate": "Disease=Bipolar Disorder<br>Difficulty Breathing=%{x}<br>count=%{y}<extra></extra>",
         "legendgroup": "Bipolar Disorder",
         "marker": {
          "color": "#B6E880",
          "pattern": {
           "shape": ""
          }
         },
         "name": "Bipolar Disorder",
         "orientation": "v",
         "showlegend": true,
         "type": "histogram",
         "x": [
          "No"
         ],
         "xaxis": "x4",
         "yaxis": "y4"
        },
        {
         "bingroup": "x",
         "hovertemplate": "Disease=Bronchitis<br>Difficulty Breathing=%{x}<br>count=%{y}<extra></extra>",
         "legendgroup": "Bronchitis",
         "marker": {
          "color": "#FF97FF",
          "pattern": {
           "shape": ""
          }
         },
         "name": "Bronchitis",
         "orientation": "v",
         "showlegend": true,
         "type": "histogram",
         "x": [
          "Yes",
          "Yes",
          "Yes",
          "Yes"
         ],
         "xaxis": "x4",
         "yaxis": "y4"
        },
        {
         "bingroup": "x",
         "hovertemplate": "Disease=Cerebral Palsy<br>Difficulty Breathing=%{x}<br>count=%{y}<extra></extra>",
         "legendgroup": "Cerebral Palsy",
         "marker": {
          "color": "#FECB52",
          "pattern": {
           "shape": ""
          }
         },
         "name": "Cerebral Palsy",
         "orientation": "v",
         "showlegend": true,
         "type": "histogram",
         "x": [
          "Yes"
         ],
         "xaxis": "x4",
         "yaxis": "y4"
        },
        {
         "bingroup": "x",
         "hovertemplate": "Disease=Colorectal Cancer<br>Difficulty Breathing=%{x}<br>count=%{y}<extra></extra>",
         "legendgroup": "Colorectal Cancer",
         "marker": {
          "color": "#636efa",
          "pattern": {
           "shape": ""
          }
         },
         "name": "Colorectal Cancer",
         "orientation": "v",
         "showlegend": true,
         "type": "histogram",
         "x": [
          "No"
         ],
         "xaxis": "x4",
         "yaxis": "y4"
        },
        {
         "bingroup": "x",
         "hovertemplate": "Disease=Hypertensive Heart Disease<br>Difficulty Breathing=%{x}<br>count=%{y}<extra></extra>",
         "legendgroup": "Hypertensive Heart Disease",
         "marker": {
          "color": "#EF553B",
          "pattern": {
           "shape": ""
          }
         },
         "name": "Hypertensive Heart Disease",
         "orientation": "v",
         "showlegend": true,
         "type": "histogram",
         "x": [
          "No"
         ],
         "xaxis": "x4",
         "yaxis": "y4"
        },
        {
         "bingroup": "x",
         "hovertemplate": "Disease=Multiple Sclerosis<br>Difficulty Breathing=%{x}<br>count=%{y}<extra></extra>",
         "legendgroup": "Multiple Sclerosis",
         "marker": {
          "color": "#00cc96",
          "pattern": {
           "shape": ""
          }
         },
         "name": "Multiple Sclerosis",
         "orientation": "v",
         "showlegend": true,
         "type": "histogram",
         "x": [
          "No",
          "No"
         ],
         "xaxis": "x4",
         "yaxis": "y4"
        },
        {
         "bingroup": "x",
         "hovertemplate": "Disease=Myocardial Infarction (Heart...)<br>Difficulty Breathing=%{x}<br>count=%{y}<extra></extra>",
         "legendgroup": "Myocardial Infarction (Heart...)",
         "marker": {
          "color": "#ab63fa",
          "pattern": {
           "shape": ""
          }
         },
         "name": "Myocardial Infarction (Heart...)",
         "orientation": "v",
         "showlegend": true,
         "type": "histogram",
         "x": [
          "Yes"
         ],
         "xaxis": "x4",
         "yaxis": "y4"
        },
        {
         "bingroup": "x",
         "hovertemplate": "Disease=Urinary Tract Infection (UTI)<br>Difficulty Breathing=%{x}<br>count=%{y}<extra></extra>",
         "legendgroup": "Urinary Tract Infection (UTI)",
         "marker": {
          "color": "#FFA15A",
          "pattern": {
           "shape": ""
          }
         },
         "name": "Urinary Tract Infection (UTI)",
         "orientation": "v",
         "showlegend": true,
         "type": "histogram",
         "x": [
          "No"
         ],
         "xaxis": "x4",
         "yaxis": "y4"
        },
        {
         "bingroup": "x",
         "hovertemplate": "Disease=Common Cold<br>Difficulty Breathing=%{x}<br>count=%{y}<extra></extra>",
         "legendgroup": "Common Cold",
         "marker": {
          "color": "#19d3f3",
          "pattern": {
           "shape": ""
          }
         },
         "name": "Common Cold",
         "orientation": "v",
         "showlegend": true,
         "type": "histogram",
         "x": [
          "Yes"
         ],
         "xaxis": "x4",
         "yaxis": "y4"
        },
        {
         "bingroup": "x",
         "hovertemplate": "Disease=Migraine<br>Difficulty Breathing=%{x}<br>count=%{y}<extra></extra>",
         "legendgroup": "Migraine",
         "marker": {
          "color": "#FF6692",
          "pattern": {
           "shape": ""
          }
         },
         "name": "Migraine",
         "orientation": "v",
         "showlegend": true,
         "type": "histogram",
         "x": [
          "No",
          "No",
          "No",
          "No",
          "No"
         ],
         "xaxis": "x4",
         "yaxis": "y4"
        },
        {
         "bingroup": "x",
         "hovertemplate": "Disease=Pneumonia<br>Difficulty Breathing=%{x}<br>count=%{y}<extra></extra>",
         "legendgroup": "Pneumonia",
         "marker": {
          "color": "#B6E880",
          "pattern": {
           "shape": ""
          }
         },
         "name": "Pneumonia",
         "orientation": "v",
         "showlegend": true,
         "type": "histogram",
         "x": [
          "Yes",
          "Yes",
          "Yes",
          "Yes",
          "Yes"
         ],
         "xaxis": "x4",
         "yaxis": "y4"
        },
        {
         "bingroup": "x",
         "hovertemplate": "Disease=Cirrhosis<br>Difficulty Breathing=%{x}<br>count=%{y}<extra></extra>",
         "legendgroup": "Cirrhosis",
         "marker": {
          "color": "#FF97FF",
          "pattern": {
           "shape": ""
          }
         },
         "name": "Cirrhosis",
         "orientation": "v",
         "showlegend": true,
         "type": "histogram",
         "x": [
          "No"
         ],
         "xaxis": "x4",
         "yaxis": "y4"
        },
        {
         "bingroup": "x",
         "hovertemplate": "Disease=Conjunctivitis (Pink Eye)<br>Difficulty Breathing=%{x}<br>count=%{y}<extra></extra>",
         "legendgroup": "Conjunctivitis (Pink Eye)",
         "marker": {
          "color": "#FECB52",
          "pattern": {
           "shape": ""
          }
         },
         "name": "Conjunctivitis (Pink Eye)",
         "orientation": "v",
         "showlegend": true,
         "type": "histogram",
         "x": [
          "No"
         ],
         "xaxis": "x4",
         "yaxis": "y4"
        },
        {
         "bingroup": "x",
         "hovertemplate": "Disease=Gastroenteritis<br>Difficulty Breathing=%{x}<br>count=%{y}<extra></extra>",
         "legendgroup": "Gastroenteritis",
         "marker": {
          "color": "#636efa",
          "pattern": {
           "shape": ""
          }
         },
         "name": "Gastroenteritis",
         "orientation": "v",
         "showlegend": true,
         "type": "histogram",
         "x": [
          "Yes",
          "No",
          "Yes"
         ],
         "xaxis": "x4",
         "yaxis": "y4"
        },
        {
         "bingroup": "x",
         "hovertemplate": "Disease=Hyperthyroidism<br>Difficulty Breathing=%{x}<br>count=%{y}<extra></extra>",
         "legendgroup": "Hyperthyroidism",
         "marker": {
          "color": "#EF553B",
          "pattern": {
           "shape": ""
          }
         },
         "name": "Hyperthyroidism",
         "orientation": "v",
         "showlegend": true,
         "type": "histogram",
         "x": [
          "No",
          "No"
         ],
         "xaxis": "x4",
         "yaxis": "y4"
        },
        {
         "bingroup": "x",
         "hovertemplate": "Disease=Kidney Cancer<br>Difficulty Breathing=%{x}<br>count=%{y}<extra></extra>",
         "legendgroup": "Kidney Cancer",
         "marker": {
          "color": "#00cc96",
          "pattern": {
           "shape": ""
          }
         },
         "name": "Kidney Cancer",
         "orientation": "v",
         "showlegend": true,
         "type": "histogram",
         "x": [
          "No",
          "No"
         ],
         "xaxis": "x4",
         "yaxis": "y4"
        },
        {
         "bingroup": "x",
         "hovertemplate": "Disease=Liver Disease<br>Difficulty Breathing=%{x}<br>count=%{y}<extra></extra>",
         "legendgroup": "Liver Disease",
         "marker": {
          "color": "#ab63fa",
          "pattern": {
           "shape": ""
          }
         },
         "name": "Liver Disease",
         "orientation": "v",
         "showlegend": true,
         "type": "histogram",
         "x": [
          "No",
          "No"
         ],
         "xaxis": "x4",
         "yaxis": "y4"
        },
        {
         "bingroup": "x",
         "hovertemplate": "Disease=Malaria<br>Difficulty Breathing=%{x}<br>count=%{y}<extra></extra>",
         "legendgroup": "Malaria",
         "marker": {
          "color": "#FFA15A",
          "pattern": {
           "shape": ""
          }
         },
         "name": "Malaria",
         "orientation": "v",
         "showlegend": true,
         "type": "histogram",
         "x": [
          "No"
         ],
         "xaxis": "x4",
         "yaxis": "y4"
        },
        {
         "bingroup": "x",
         "hovertemplate": "Disease=Pancreatitis<br>Difficulty Breathing=%{x}<br>count=%{y}<extra></extra>",
         "legendgroup": "Pancreatitis",
         "marker": {
          "color": "#19d3f3",
          "pattern": {
           "shape": ""
          }
         },
         "name": "Pancreatitis",
         "orientation": "v",
         "showlegend": true,
         "type": "histogram",
         "x": [
          "No",
          "No"
         ],
         "xaxis": "x4",
         "yaxis": "y4"
        },
        {
         "bingroup": "x",
         "hovertemplate": "Disease=Rheumatoid Arthritis<br>Difficulty Breathing=%{x}<br>count=%{y}<extra></extra>",
         "legendgroup": "Rheumatoid Arthritis",
         "marker": {
          "color": "#FF6692",
          "pattern": {
           "shape": ""
          }
         },
         "name": "Rheumatoid Arthritis",
         "orientation": "v",
         "showlegend": true,
         "type": "histogram",
         "x": [
          "No",
          "No",
          "No"
         ],
         "xaxis": "x4",
         "yaxis": "y4"
        },
        {
         "bingroup": "x",
         "hovertemplate": "Disease=Spina Bifida<br>Difficulty Breathing=%{x}<br>count=%{y}<extra></extra>",
         "legendgroup": "Spina Bifida",
         "marker": {
          "color": "#B6E880",
          "pattern": {
           "shape": ""
          }
         },
         "name": "Spina Bifida",
         "orientation": "v",
         "showlegend": true,
         "type": "histogram",
         "x": [
          "No"
         ],
         "xaxis": "x4",
         "yaxis": "y4"
        },
        {
         "bingroup": "x",
         "hovertemplate": "Disease=Ulcerative Colitis<br>Difficulty Breathing=%{x}<br>count=%{y}<extra></extra>",
         "legendgroup": "Ulcerative Colitis",
         "marker": {
          "color": "#FF97FF",
          "pattern": {
           "shape": ""
          }
         },
         "name": "Ulcerative Colitis",
         "orientation": "v",
         "showlegend": true,
         "type": "histogram",
         "x": [
          "No",
          "No",
          "No"
         ],
         "xaxis": "x4",
         "yaxis": "y4"
        },
        {
         "bingroup": "x",
         "hovertemplate": "Disease=Anxiety Disorders<br>Difficulty Breathing=%{x}<br>count=%{y}<extra></extra>",
         "legendgroup": "Anxiety Disorders",
         "marker": {
          "color": "#FECB52",
          "pattern": {
           "shape": ""
          }
         },
         "name": "Anxiety Disorders",
         "orientation": "v",
         "showlegend": true,
         "type": "histogram",
         "x": [
          "Yes",
          "No",
          "No"
         ],
         "xaxis": "x4",
         "yaxis": "y4"
        },
        {
         "bingroup": "x",
         "hovertemplate": "Disease=Diabetes<br>Difficulty Breathing=%{x}<br>count=%{y}<extra></extra>",
         "legendgroup": "Diabetes",
         "marker": {
          "color": "#636efa",
          "pattern": {
           "shape": ""
          }
         },
         "name": "Diabetes",
         "orientation": "v",
         "showlegend": true,
         "type": "histogram",
         "x": [
          "Yes",
          "No",
          "No",
          "No",
          "No"
         ],
         "xaxis": "x4",
         "yaxis": "y4"
        },
        {
         "bingroup": "x",
         "hovertemplate": "Disease=Osteoarthritis<br>Difficulty Breathing=%{x}<br>count=%{y}<extra></extra>",
         "legendgroup": "Osteoarthritis",
         "marker": {
          "color": "#EF553B",
          "pattern": {
           "shape": ""
          }
         },
         "name": "Osteoarthritis",
         "orientation": "v",
         "showlegend": true,
         "type": "histogram",
         "x": [
          "No",
          "Yes",
          "No"
         ],
         "xaxis": "x4",
         "yaxis": "y4"
        },
        {
         "bingroup": "x",
         "hovertemplate": "Disease=Klinefelter Syndrome<br>Difficulty Breathing=%{x}<br>count=%{y}<extra></extra>",
         "legendgroup": "Klinefelter Syndrome",
         "marker": {
          "color": "#00cc96",
          "pattern": {
           "shape": ""
          }
         },
         "name": "Klinefelter Syndrome",
         "orientation": "v",
         "showlegend": true,
         "type": "histogram",
         "x": [
          "No",
          "No"
         ],
         "xaxis": "x4",
         "yaxis": "y4"
        },
        {
         "bingroup": "x",
         "hovertemplate": "Disease=Chickenpox<br>Difficulty Breathing=%{x}<br>count=%{y}<extra></extra>",
         "legendgroup": "Chickenpox",
         "marker": {
          "color": "#ab63fa",
          "pattern": {
           "shape": ""
          }
         },
         "name": "Chickenpox",
         "orientation": "v",
         "showlegend": true,
         "type": "histogram",
         "x": [
          "No"
         ],
         "xaxis": "x4",
         "yaxis": "y4"
        },
        {
         "bingroup": "x",
         "hovertemplate": "Disease=Coronary Artery Disease<br>Difficulty Breathing=%{x}<br>count=%{y}<extra></extra>",
         "legendgroup": "Coronary Artery Disease",
         "marker": {
          "color": "#FFA15A",
          "pattern": {
           "shape": ""
          }
         },
         "name": "Coronary Artery Disease",
         "orientation": "v",
         "showlegend": true,
         "type": "histogram",
         "x": [
          "No",
          "No"
         ],
         "xaxis": "x4",
         "yaxis": "y4"
        },
        {
         "bingroup": "x",
         "hovertemplate": "Disease=Eating Disorders (Anorexia,...)<br>Difficulty Breathing=%{x}<br>count=%{y}<extra></extra>",
         "legendgroup": "Eating Disorders (Anorexia,...)",
         "marker": {
          "color": "#19d3f3",
          "pattern": {
           "shape": ""
          }
         },
         "name": "Eating Disorders (Anorexia,...)",
         "orientation": "v",
         "showlegend": true,
         "type": "histogram",
         "x": [
          "No"
         ],
         "xaxis": "x4",
         "yaxis": "y4"
        },
        {
         "bingroup": "x",
         "hovertemplate": "Disease=Fibromyalgia<br>Difficulty Breathing=%{x}<br>count=%{y}<extra></extra>",
         "legendgroup": "Fibromyalgia",
         "marker": {
          "color": "#FF6692",
          "pattern": {
           "shape": ""
          }
         },
         "name": "Fibromyalgia",
         "orientation": "v",
         "showlegend": true,
         "type": "histogram",
         "x": [
          "No"
         ],
         "xaxis": "x4",
         "yaxis": "y4"
        },
        {
         "bingroup": "x",
         "hovertemplate": "Disease=Hemophilia<br>Difficulty Breathing=%{x}<br>count=%{y}<extra></extra>",
         "legendgroup": "Hemophilia",
         "marker": {
          "color": "#B6E880",
          "pattern": {
           "shape": ""
          }
         },
         "name": "Hemophilia",
         "orientation": "v",
         "showlegend": true,
         "type": "histogram",
         "x": [
          "No",
          "No"
         ],
         "xaxis": "x4",
         "yaxis": "y4"
        },
        {
         "bingroup": "x",
         "hovertemplate": "Disease=Hypoglycemia<br>Difficulty Breathing=%{x}<br>count=%{y}<extra></extra>",
         "legendgroup": "Hypoglycemia",
         "marker": {
          "color": "#FF97FF",
          "pattern": {
           "shape": ""
          }
         },
         "name": "Hypoglycemia",
         "orientation": "v",
         "showlegend": true,
         "type": "histogram",
         "x": [
          "No"
         ],
         "xaxis": "x4",
         "yaxis": "y4"
        },
        {
         "bingroup": "x",
         "hovertemplate": "Disease=Lymphoma<br>Difficulty Breathing=%{x}<br>count=%{y}<extra></extra>",
         "legendgroup": "Lymphoma",
         "marker": {
          "color": "#FECB52",
          "pattern": {
           "shape": ""
          }
         },
         "name": "Lymphoma",
         "orientation": "v",
         "showlegend": true,
         "type": "histogram",
         "x": [
          "No"
         ],
         "xaxis": "x4",
         "yaxis": "y4"
        },
        {
         "bingroup": "x",
         "hovertemplate": "Disease=Psoriasis<br>Difficulty Breathing=%{x}<br>count=%{y}<extra></extra>",
         "legendgroup": "Psoriasis",
         "marker": {
          "color": "#636efa",
          "pattern": {
           "shape": ""
          }
         },
         "name": "Psoriasis",
         "orientation": "v",
         "showlegend": true,
         "type": "histogram",
         "x": [
          "No",
          "No",
          "No"
         ],
         "xaxis": "x4",
         "yaxis": "y4"
        },
        {
         "bingroup": "x",
         "hovertemplate": "Disease=Tuberculosis<br>Difficulty Breathing=%{x}<br>count=%{y}<extra></extra>",
         "legendgroup": "Tuberculosis",
         "marker": {
          "color": "#EF553B",
          "pattern": {
           "shape": ""
          }
         },
         "name": "Tuberculosis",
         "orientation": "v",
         "showlegend": true,
         "type": "histogram",
         "x": [
          "Yes",
          "No"
         ],
         "xaxis": "x4",
         "yaxis": "y4"
        },
        {
         "bingroup": "x",
         "hovertemplate": "Disease=Hypothyroidism<br>Difficulty Breathing=%{x}<br>count=%{y}<extra></extra>",
         "legendgroup": "Hypothyroidism",
         "marker": {
          "color": "#00cc96",
          "pattern": {
           "shape": ""
          }
         },
         "name": "Hypothyroidism",
         "orientation": "v",
         "showlegend": true,
         "type": "histogram",
         "x": [
          "No",
          "No",
          "No"
         ],
         "xaxis": "x4",
         "yaxis": "y4"
        },
        {
         "bingroup": "x",
         "hovertemplate": "Disease=Kidney Disease<br>Difficulty Breathing=%{x}<br>count=%{y}<extra></extra>",
         "legendgroup": "Kidney Disease",
         "marker": {
          "color": "#ab63fa",
          "pattern": {
           "shape": ""
          }
         },
         "name": "Kidney Disease",
         "orientation": "v",
         "showlegend": true,
         "type": "histogram",
         "x": [
          "No",
          "Yes"
         ],
         "xaxis": "x4",
         "yaxis": "y4"
        },
        {
         "bingroup": "x",
         "hovertemplate": "Disease=Allergic Rhinitis<br>Difficulty Breathing=%{x}<br>count=%{y}<extra></extra>",
         "legendgroup": "Allergic Rhinitis",
         "marker": {
          "color": "#FFA15A",
          "pattern": {
           "shape": ""
          }
         },
         "name": "Allergic Rhinitis",
         "orientation": "v",
         "showlegend": true,
         "type": "histogram",
         "x": [
          "No"
         ],
         "xaxis": "x4",
         "yaxis": "y4"
        },
        {
         "bingroup": "x",
         "hovertemplate": "Disease=Cataracts<br>Difficulty Breathing=%{x}<br>count=%{y}<extra></extra>",
         "legendgroup": "Cataracts",
         "marker": {
          "color": "#19d3f3",
          "pattern": {
           "shape": ""
          }
         },
         "name": "Cataracts",
         "orientation": "v",
         "showlegend": true,
         "type": "histogram",
         "x": [
          "No"
         ],
         "xaxis": "x4",
         "yaxis": "y4"
        },
        {
         "bingroup": "x",
         "hovertemplate": "Disease=Crohn's Disease<br>Difficulty Breathing=%{x}<br>count=%{y}<extra></extra>",
         "legendgroup": "Crohn's Disease",
         "marker": {
          "color": "#FF6692",
          "pattern": {
           "shape": ""
          }
         },
         "name": "Crohn's Disease",
         "orientation": "v",
         "showlegend": true,
         "type": "histogram",
         "x": [
          "No",
          "No"
         ],
         "xaxis": "x4",
         "yaxis": "y4"
        },
        {
         "bingroup": "x",
         "hovertemplate": "Disease=Hypertension<br>Difficulty Breathing=%{x}<br>count=%{y}<extra></extra>",
         "legendgroup": "Hypertension",
         "marker": {
          "color": "#B6E880",
          "pattern": {
           "shape": ""
          }
         },
         "name": "Hypertension",
         "orientation": "v",
         "showlegend": true,
         "type": "histogram",
         "x": [
          "No",
          "No",
          "No",
          "No",
          "No"
         ],
         "xaxis": "x4",
         "yaxis": "y4"
        },
        {
         "bingroup": "x",
         "hovertemplate": "Disease=Osteoporosis<br>Difficulty Breathing=%{x}<br>count=%{y}<extra></extra>",
         "legendgroup": "Osteoporosis",
         "marker": {
          "color": "#FF97FF",
          "pattern": {
           "shape": ""
          }
         },
         "name": "Osteoporosis",
         "orientation": "v",
         "showlegend": true,
         "type": "histogram",
         "x": [
          "No",
          "Yes",
          "No",
          "No",
          "No",
          "No"
         ],
         "xaxis": "x4",
         "yaxis": "y4"
        },
        {
         "bingroup": "x",
         "hovertemplate": "Disease=Pneumocystis Pneumonia (PCP)<br>Difficulty Breathing=%{x}<br>count=%{y}<extra></extra>",
         "legendgroup": "Pneumocystis Pneumonia (PCP)",
         "marker": {
          "color": "#FECB52",
          "pattern": {
           "shape": ""
          }
         },
         "name": "Pneumocystis Pneumonia (PCP)",
         "orientation": "v",
         "showlegend": true,
         "type": "histogram",
         "x": [
          "No"
         ],
         "xaxis": "x4",
         "yaxis": "y4"
        },
        {
         "bingroup": "x",
         "hovertemplate": "Disease=Scoliosis<br>Difficulty Breathing=%{x}<br>count=%{y}<extra></extra>",
         "legendgroup": "Scoliosis",
         "marker": {
          "color": "#636efa",
          "pattern": {
           "shape": ""
          }
         },
         "name": "Scoliosis",
         "orientation": "v",
         "showlegend": true,
         "type": "histogram",
         "x": [
          "No"
         ],
         "xaxis": "x4",
         "yaxis": "y4"
        },
        {
         "bingroup": "x",
         "hovertemplate": "Disease=Sickle Cell Anemia<br>Difficulty Breathing=%{x}<br>count=%{y}<extra></extra>",
         "legendgroup": "Sickle Cell Anemia",
         "marker": {
          "color": "#EF553B",
          "pattern": {
           "shape": ""
          }
         },
         "name": "Sickle Cell Anemia",
         "orientation": "v",
         "showlegend": true,
         "type": "histogram",
         "x": [
          "No"
         ],
         "xaxis": "x4",
         "yaxis": "y4"
        },
        {
         "bingroup": "x",
         "hovertemplate": "Disease=Tetanus<br>Difficulty Breathing=%{x}<br>count=%{y}<extra></extra>",
         "legendgroup": "Tetanus",
         "marker": {
          "color": "#00cc96",
          "pattern": {
           "shape": ""
          }
         },
         "name": "Tetanus",
         "orientation": "v",
         "showlegend": true,
         "type": "histogram",
         "x": [
          "No"
         ],
         "xaxis": "x4",
         "yaxis": "y4"
        },
        {
         "bingroup": "x",
         "hovertemplate": "Disease=Down Syndrome<br>Difficulty Breathing=%{x}<br>count=%{y}<extra></extra>",
         "legendgroup": "Down Syndrome",
         "marker": {
          "color": "#ab63fa",
          "pattern": {
           "shape": ""
          }
         },
         "name": "Down Syndrome",
         "orientation": "v",
         "showlegend": true,
         "type": "histogram",
         "x": [
          "No"
         ],
         "xaxis": "x4",
         "yaxis": "y4"
        },
        {
         "bingroup": "x",
         "hovertemplate": "Disease=Ebola Virus<br>Difficulty Breathing=%{x}<br>count=%{y}<extra></extra>",
         "legendgroup": "Ebola Virus",
         "marker": {
          "color": "#FFA15A",
          "pattern": {
           "shape": ""
          }
         },
         "name": "Ebola Virus",
         "orientation": "v",
         "showlegend": true,
         "type": "histogram",
         "x": [
          "Yes"
         ],
         "xaxis": "x4",
         "yaxis": "y4"
        },
        {
         "bingroup": "x",
         "hovertemplate": "Disease=Lyme Disease<br>Difficulty Breathing=%{x}<br>count=%{y}<extra></extra>",
         "legendgroup": "Lyme Disease",
         "marker": {
          "color": "#19d3f3",
          "pattern": {
           "shape": ""
          }
         },
         "name": "Lyme Disease",
         "orientation": "v",
         "showlegend": true,
         "type": "histogram",
         "x": [
          "No"
         ],
         "xaxis": "x4",
         "yaxis": "y4"
        },
        {
         "bingroup": "x",
         "hovertemplate": "Disease=Pancreatic Cancer<br>Difficulty Breathing=%{x}<br>count=%{y}<extra></extra>",
         "legendgroup": "Pancreatic Cancer",
         "marker": {
          "color": "#FF6692",
          "pattern": {
           "shape": ""
          }
         },
         "name": "Pancreatic Cancer",
         "orientation": "v",
         "showlegend": true,
         "type": "histogram",
         "x": [
          "No"
         ],
         "xaxis": "x4",
         "yaxis": "y4"
        },
        {
         "bingroup": "x",
         "hovertemplate": "Disease=Pneumothorax<br>Difficulty Breathing=%{x}<br>count=%{y}<extra></extra>",
         "legendgroup": "Pneumothorax",
         "marker": {
          "color": "#B6E880",
          "pattern": {
           "shape": ""
          }
         },
         "name": "Pneumothorax",
         "orientation": "v",
         "showlegend": true,
         "type": "histogram",
         "x": [
          "Yes"
         ],
         "xaxis": "x4",
         "yaxis": "y4"
        },
        {
         "bingroup": "x",
         "hovertemplate": "Disease=Hemorrhoids<br>Difficulty Breathing=%{x}<br>count=%{y}<extra></extra>",
         "legendgroup": "Hemorrhoids",
         "marker": {
          "color": "#FF97FF",
          "pattern": {
           "shape": ""
          }
         },
         "name": "Hemorrhoids",
         "orientation": "v",
         "showlegend": true,
         "type": "histogram",
         "x": [
          "No"
         ],
         "xaxis": "x4",
         "yaxis": "y4"
        },
        {
         "bingroup": "x",
         "hovertemplate": "Disease=Polycystic Ovary Syndrome (PCOS)<br>Difficulty Breathing=%{x}<br>count=%{y}<extra></extra>",
         "legendgroup": "Polycystic Ovary Syndrome (PCOS)",
         "marker": {
          "color": "#FECB52",
          "pattern": {
           "shape": ""
          }
         },
         "name": "Polycystic Ovary Syndrome (PCOS)",
         "orientation": "v",
         "showlegend": true,
         "type": "histogram",
         "x": [
          "No"
         ],
         "xaxis": "x4",
         "yaxis": "y4"
        },
        {
         "bingroup": "x",
         "hovertemplate": "Disease=Systemic Lupus Erythematosus...<br>Difficulty Breathing=%{x}<br>count=%{y}<extra></extra>",
         "legendgroup": "Systemic Lupus Erythematosus...",
         "marker": {
          "color": "#636efa",
          "pattern": {
           "shape": ""
          }
         },
         "name": "Systemic Lupus Erythematosus...",
         "orientation": "v",
         "showlegend": true,
         "type": "histogram",
         "x": [
          "No"
         ],
         "xaxis": "x4",
         "yaxis": "y4"
        },
        {
         "bingroup": "x",
         "hovertemplate": "Disease=Typhoid Fever<br>Difficulty Breathing=%{x}<br>count=%{y}<extra></extra>",
         "legendgroup": "Typhoid Fever",
         "marker": {
          "color": "#EF553B",
          "pattern": {
           "shape": ""
          }
         },
         "name": "Typhoid Fever",
         "orientation": "v",
         "showlegend": true,
         "type": "histogram",
         "x": [
          "No"
         ],
         "xaxis": "x4",
         "yaxis": "y4"
        },
        {
         "bingroup": "x",
         "hovertemplate": "Disease=Chronic Kidney Disease<br>Difficulty Breathing=%{x}<br>count=%{y}<extra></extra>",
         "legendgroup": "Chronic Kidney Disease",
         "marker": {
          "color": "#00cc96",
          "pattern": {
           "shape": ""
          }
         },
         "name": "Chronic Kidney Disease",
         "orientation": "v",
         "showlegend": true,
         "type": "histogram",
         "x": [
          "No"
         ],
         "xaxis": "x4",
         "yaxis": "y4"
        },
        {
         "bingroup": "x",
         "hovertemplate": "Disease=Hepatitis B<br>Difficulty Breathing=%{x}<br>count=%{y}<extra></extra>",
         "legendgroup": "Hepatitis B",
         "marker": {
          "color": "#ab63fa",
          "pattern": {
           "shape": ""
          }
         },
         "name": "Hepatitis B",
         "orientation": "v",
         "showlegend": true,
         "type": "histogram",
         "x": [
          "No"
         ],
         "xaxis": "x4",
         "yaxis": "y4"
        },
        {
         "bingroup": "x",
         "hovertemplate": "Disease=Parkinson's Disease<br>Difficulty Breathing=%{x}<br>count=%{y}<extra></extra>",
         "legendgroup": "Parkinson's Disease",
         "marker": {
          "color": "#FFA15A",
          "pattern": {
           "shape": ""
          }
         },
         "name": "Parkinson's Disease",
         "orientation": "v",
         "showlegend": true,
         "type": "histogram",
         "x": [
          "No"
         ],
         "xaxis": "x4",
         "yaxis": "y4"
        },
        {
         "bingroup": "x",
         "hovertemplate": "Disease=Prader-Willi Syndrome<br>Difficulty Breathing=%{x}<br>count=%{y}<extra></extra>",
         "legendgroup": "Prader-Willi Syndrome",
         "marker": {
          "color": "#19d3f3",
          "pattern": {
           "shape": ""
          }
         },
         "name": "Prader-Willi Syndrome",
         "orientation": "v",
         "showlegend": true,
         "type": "histogram",
         "x": [
          "No"
         ],
         "xaxis": "x4",
         "yaxis": "y4"
        },
        {
         "bingroup": "x",
         "hovertemplate": "Disease=Thyroid Cancer<br>Difficulty Breathing=%{x}<br>count=%{y}<extra></extra>",
         "legendgroup": "Thyroid Cancer",
         "marker": {
          "color": "#FF6692",
          "pattern": {
           "shape": ""
          }
         },
         "name": "Thyroid Cancer",
         "orientation": "v",
         "showlegend": true,
         "type": "histogram",
         "x": [
          "No"
         ],
         "xaxis": "x4",
         "yaxis": "y4"
        },
        {
         "bingroup": "x",
         "hovertemplate": "Disease=Alzheimer's Disease<br>Difficulty Breathing=%{x}<br>count=%{y}<extra></extra>",
         "legendgroup": "Alzheimer's Disease",
         "marker": {
          "color": "#B6E880",
          "pattern": {
           "shape": ""
          }
         },
         "name": "Alzheimer's Disease",
         "orientation": "v",
         "showlegend": true,
         "type": "histogram",
         "x": [
          "No",
          "No"
         ],
         "xaxis": "x4",
         "yaxis": "y4"
        },
        {
         "bingroup": "x",
         "hovertemplate": "Disease=Chronic Obstructive Pulmonary Disease (COPD)<br>Difficulty Breathing=%{x}<br>count=%{y}<extra></extra>",
         "legendgroup": "Chronic Obstructive Pulmonary Disease (COPD)",
         "marker": {
          "color": "#FF97FF",
          "pattern": {
           "shape": ""
          }
         },
         "name": "Chronic Obstructive Pulmonary Disease (COPD)",
         "orientation": "v",
         "showlegend": true,
         "type": "histogram",
         "x": [
          "Yes"
         ],
         "xaxis": "x4",
         "yaxis": "y4"
        },
        {
         "bingroup": "x",
         "hovertemplate": "Disease=Dementia<br>Difficulty Breathing=%{x}<br>count=%{y}<extra></extra>",
         "legendgroup": "Dementia",
         "marker": {
          "color": "#FECB52",
          "pattern": {
           "shape": ""
          }
         },
         "name": "Dementia",
         "orientation": "v",
         "showlegend": true,
         "type": "histogram",
         "x": [
          "No"
         ],
         "xaxis": "x4",
         "yaxis": "y4"
        },
        {
         "bingroup": "x",
         "hovertemplate": "Disease=Diverticulitis<br>Difficulty Breathing=%{x}<br>count=%{y}<extra></extra>",
         "legendgroup": "Diverticulitis",
         "marker": {
          "color": "#636efa",
          "pattern": {
           "shape": ""
          }
         },
         "name": "Diverticulitis",
         "orientation": "v",
         "showlegend": true,
         "type": "histogram",
         "x": [
          "No"
         ],
         "xaxis": "x4",
         "yaxis": "y4"
        },
        {
         "bingroup": "x",
         "hovertemplate": "Disease=Lung Cancer<br>Difficulty Breathing=%{x}<br>count=%{y}<extra></extra>",
         "legendgroup": "Lung Cancer",
         "marker": {
          "color": "#EF553B",
          "pattern": {
           "shape": ""
          }
         },
         "name": "Lung Cancer",
         "orientation": "v",
         "showlegend": true,
         "type": "histogram",
         "x": [
          "No",
          "No"
         ],
         "xaxis": "x4",
         "yaxis": "y4"
        },
        {
         "bingroup": "x",
         "hovertemplate": "Disease=Mumps<br>Difficulty Breathing=%{x}<br>count=%{y}<extra></extra>",
         "legendgroup": "Mumps",
         "marker": {
          "color": "#00cc96",
          "pattern": {
           "shape": ""
          }
         },
         "name": "Mumps",
         "orientation": "v",
         "showlegend": true,
         "type": "histogram",
         "x": [
          "No"
         ],
         "xaxis": "x4",
         "yaxis": "y4"
        },
        {
         "bingroup": "x",
         "hovertemplate": "Disease=Gout<br>Difficulty Breathing=%{x}<br>count=%{y}<extra></extra>",
         "legendgroup": "Gout",
         "marker": {
          "color": "#ab63fa",
          "pattern": {
           "shape": ""
          }
         },
         "name": "Gout",
         "orientation": "v",
         "showlegend": true,
         "type": "histogram",
         "x": [
          "No"
         ],
         "xaxis": "x4",
         "yaxis": "y4"
        },
        {
         "bingroup": "x",
         "hovertemplate": "Disease=Testicular Cancer<br>Difficulty Breathing=%{x}<br>count=%{y}<extra></extra>",
         "legendgroup": "Testicular Cancer",
         "marker": {
          "color": "#FFA15A",
          "pattern": {
           "shape": ""
          }
         },
         "name": "Testicular Cancer",
         "orientation": "v",
         "showlegend": true,
         "type": "histogram",
         "x": [
          "No"
         ],
         "xaxis": "x4",
         "yaxis": "y4"
        },
        {
         "bingroup": "x",
         "hovertemplate": "Disease=Tonsillitis<br>Difficulty Breathing=%{x}<br>count=%{y}<extra></extra>",
         "legendgroup": "Tonsillitis",
         "marker": {
          "color": "#19d3f3",
          "pattern": {
           "shape": ""
          }
         },
         "name": "Tonsillitis",
         "orientation": "v",
         "showlegend": true,
         "type": "histogram",
         "x": [
          "No"
         ],
         "xaxis": "x4",
         "yaxis": "y4"
        },
        {
         "bingroup": "x",
         "hovertemplate": "Disease=Williams Syndrome<br>Difficulty Breathing=%{x}<br>count=%{y}<extra></extra>",
         "legendgroup": "Williams Syndrome",
         "marker": {
          "color": "#FF6692",
          "pattern": {
           "shape": ""
          }
         },
         "name": "Williams Syndrome",
         "orientation": "v",
         "showlegend": true,
         "type": "histogram",
         "x": [
          "No"
         ],
         "xaxis": "x4",
         "yaxis": "y4"
        }
       ],
       "layout": {
        "annotations": [
         {
          "font": {
           "size": 16
          },
          "showarrow": false,
          "text": "Fever",
          "x": 0.225,
          "xanchor": "center",
          "xref": "paper",
          "y": 1,
          "yanchor": "bottom",
          "yref": "paper"
         },
         {
          "font": {
           "size": 16
          },
          "showarrow": false,
          "text": "Cough",
          "x": 0.775,
          "xanchor": "center",
          "xref": "paper",
          "y": 1,
          "yanchor": "bottom",
          "yref": "paper"
         },
         {
          "font": {
           "size": 16
          },
          "showarrow": false,
          "text": "Fatigue",
          "x": 0.225,
          "xanchor": "center",
          "xref": "paper",
          "y": 0.375,
          "yanchor": "bottom",
          "yref": "paper"
         },
         {
          "font": {
           "size": 16
          },
          "showarrow": false,
          "text": "Difficulty Breathing",
          "x": 0.775,
          "xanchor": "center",
          "xref": "paper",
          "y": 0.375,
          "yanchor": "bottom",
          "yref": "paper"
         }
        ],
        "height": 800,
        "showlegend": true,
        "template": {
         "data": {
          "bar": [
           {
            "error_x": {
             "color": "#2a3f5f"
            },
            "error_y": {
             "color": "#2a3f5f"
            },
            "marker": {
             "line": {
              "color": "#E5ECF6",
              "width": 0.5
             },
             "pattern": {
              "fillmode": "overlay",
              "size": 10,
              "solidity": 0.2
             }
            },
            "type": "bar"
           }
          ],
          "barpolar": [
           {
            "marker": {
             "line": {
              "color": "#E5ECF6",
              "width": 0.5
             },
             "pattern": {
              "fillmode": "overlay",
              "size": 10,
              "solidity": 0.2
             }
            },
            "type": "barpolar"
           }
          ],
          "carpet": [
           {
            "aaxis": {
             "endlinecolor": "#2a3f5f",
             "gridcolor": "white",
             "linecolor": "white",
             "minorgridcolor": "white",
             "startlinecolor": "#2a3f5f"
            },
            "baxis": {
             "endlinecolor": "#2a3f5f",
             "gridcolor": "white",
             "linecolor": "white",
             "minorgridcolor": "white",
             "startlinecolor": "#2a3f5f"
            },
            "type": "carpet"
           }
          ],
          "choropleth": [
           {
            "colorbar": {
             "outlinewidth": 0,
             "ticks": ""
            },
            "type": "choropleth"
           }
          ],
          "contour": [
           {
            "colorbar": {
             "outlinewidth": 0,
             "ticks": ""
            },
            "colorscale": [
             [
              0,
              "#0d0887"
             ],
             [
              0.1111111111111111,
              "#46039f"
             ],
             [
              0.2222222222222222,
              "#7201a8"
             ],
             [
              0.3333333333333333,
              "#9c179e"
             ],
             [
              0.4444444444444444,
              "#bd3786"
             ],
             [
              0.5555555555555556,
              "#d8576b"
             ],
             [
              0.6666666666666666,
              "#ed7953"
             ],
             [
              0.7777777777777778,
              "#fb9f3a"
             ],
             [
              0.8888888888888888,
              "#fdca26"
             ],
             [
              1,
              "#f0f921"
             ]
            ],
            "type": "contour"
           }
          ],
          "contourcarpet": [
           {
            "colorbar": {
             "outlinewidth": 0,
             "ticks": ""
            },
            "type": "contourcarpet"
           }
          ],
          "heatmap": [
           {
            "colorbar": {
             "outlinewidth": 0,
             "ticks": ""
            },
            "colorscale": [
             [
              0,
              "#0d0887"
             ],
             [
              0.1111111111111111,
              "#46039f"
             ],
             [
              0.2222222222222222,
              "#7201a8"
             ],
             [
              0.3333333333333333,
              "#9c179e"
             ],
             [
              0.4444444444444444,
              "#bd3786"
             ],
             [
              0.5555555555555556,
              "#d8576b"
             ],
             [
              0.6666666666666666,
              "#ed7953"
             ],
             [
              0.7777777777777778,
              "#fb9f3a"
             ],
             [
              0.8888888888888888,
              "#fdca26"
             ],
             [
              1,
              "#f0f921"
             ]
            ],
            "type": "heatmap"
           }
          ],
          "histogram": [
           {
            "marker": {
             "pattern": {
              "fillmode": "overlay",
              "size": 10,
              "solidity": 0.2
             }
            },
            "type": "histogram"
           }
          ],
          "histogram2d": [
           {
            "colorbar": {
             "outlinewidth": 0,
             "ticks": ""
            },
            "colorscale": [
             [
              0,
              "#0d0887"
             ],
             [
              0.1111111111111111,
              "#46039f"
             ],
             [
              0.2222222222222222,
              "#7201a8"
             ],
             [
              0.3333333333333333,
              "#9c179e"
             ],
             [
              0.4444444444444444,
              "#bd3786"
             ],
             [
              0.5555555555555556,
              "#d8576b"
             ],
             [
              0.6666666666666666,
              "#ed7953"
             ],
             [
              0.7777777777777778,
              "#fb9f3a"
             ],
             [
              0.8888888888888888,
              "#fdca26"
             ],
             [
              1,
              "#f0f921"
             ]
            ],
            "type": "histogram2d"
           }
          ],
          "histogram2dcontour": [
           {
            "colorbar": {
             "outlinewidth": 0,
             "ticks": ""
            },
            "colorscale": [
             [
              0,
              "#0d0887"
             ],
             [
              0.1111111111111111,
              "#46039f"
             ],
             [
              0.2222222222222222,
              "#7201a8"
             ],
             [
              0.3333333333333333,
              "#9c179e"
             ],
             [
              0.4444444444444444,
              "#bd3786"
             ],
             [
              0.5555555555555556,
              "#d8576b"
             ],
             [
              0.6666666666666666,
              "#ed7953"
             ],
             [
              0.7777777777777778,
              "#fb9f3a"
             ],
             [
              0.8888888888888888,
              "#fdca26"
             ],
             [
              1,
              "#f0f921"
             ]
            ],
            "type": "histogram2dcontour"
           }
          ],
          "mesh3d": [
           {
            "colorbar": {
             "outlinewidth": 0,
             "ticks": ""
            },
            "type": "mesh3d"
           }
          ],
          "parcoords": [
           {
            "line": {
             "colorbar": {
              "outlinewidth": 0,
              "ticks": ""
             }
            },
            "type": "parcoords"
           }
          ],
          "pie": [
           {
            "automargin": true,
            "type": "pie"
           }
          ],
          "scatter": [
           {
            "fillpattern": {
             "fillmode": "overlay",
             "size": 10,
             "solidity": 0.2
            },
            "type": "scatter"
           }
          ],
          "scatter3d": [
           {
            "line": {
             "colorbar": {
              "outlinewidth": 0,
              "ticks": ""
             }
            },
            "marker": {
             "colorbar": {
              "outlinewidth": 0,
              "ticks": ""
             }
            },
            "type": "scatter3d"
           }
          ],
          "scattercarpet": [
           {
            "marker": {
             "colorbar": {
              "outlinewidth": 0,
              "ticks": ""
             }
            },
            "type": "scattercarpet"
           }
          ],
          "scattergeo": [
           {
            "marker": {
             "colorbar": {
              "outlinewidth": 0,
              "ticks": ""
             }
            },
            "type": "scattergeo"
           }
          ],
          "scattergl": [
           {
            "marker": {
             "colorbar": {
              "outlinewidth": 0,
              "ticks": ""
             }
            },
            "type": "scattergl"
           }
          ],
          "scattermap": [
           {
            "marker": {
             "colorbar": {
              "outlinewidth": 0,
              "ticks": ""
             }
            },
            "type": "scattermap"
           }
          ],
          "scattermapbox": [
           {
            "marker": {
             "colorbar": {
              "outlinewidth": 0,
              "ticks": ""
             }
            },
            "type": "scattermapbox"
           }
          ],
          "scatterpolar": [
           {
            "marker": {
             "colorbar": {
              "outlinewidth": 0,
              "ticks": ""
             }
            },
            "type": "scatterpolar"
           }
          ],
          "scatterpolargl": [
           {
            "marker": {
             "colorbar": {
              "outlinewidth": 0,
              "ticks": ""
             }
            },
            "type": "scatterpolargl"
           }
          ],
          "scatterternary": [
           {
            "marker": {
             "colorbar": {
              "outlinewidth": 0,
              "ticks": ""
             }
            },
            "type": "scatterternary"
           }
          ],
          "surface": [
           {
            "colorbar": {
             "outlinewidth": 0,
             "ticks": ""
            },
            "colorscale": [
             [
              0,
              "#0d0887"
             ],
             [
              0.1111111111111111,
              "#46039f"
             ],
             [
              0.2222222222222222,
              "#7201a8"
             ],
             [
              0.3333333333333333,
              "#9c179e"
             ],
             [
              0.4444444444444444,
              "#bd3786"
             ],
             [
              0.5555555555555556,
              "#d8576b"
             ],
             [
              0.6666666666666666,
              "#ed7953"
             ],
             [
              0.7777777777777778,
              "#fb9f3a"
             ],
             [
              0.8888888888888888,
              "#fdca26"
             ],
             [
              1,
              "#f0f921"
             ]
            ],
            "type": "surface"
           }
          ],
          "table": [
           {
            "cells": {
             "fill": {
              "color": "#EBF0F8"
             },
             "line": {
              "color": "white"
             }
            },
            "header": {
             "fill": {
              "color": "#C8D4E3"
             },
             "line": {
              "color": "white"
             }
            },
            "type": "table"
           }
          ]
         },
         "layout": {
          "annotationdefaults": {
           "arrowcolor": "#2a3f5f",
           "arrowhead": 0,
           "arrowwidth": 1
          },
          "autotypenumbers": "strict",
          "coloraxis": {
           "colorbar": {
            "outlinewidth": 0,
            "ticks": ""
           }
          },
          "colorscale": {
           "diverging": [
            [
             0,
             "#8e0152"
            ],
            [
             0.1,
             "#c51b7d"
            ],
            [
             0.2,
             "#de77ae"
            ],
            [
             0.3,
             "#f1b6da"
            ],
            [
             0.4,
             "#fde0ef"
            ],
            [
             0.5,
             "#f7f7f7"
            ],
            [
             0.6,
             "#e6f5d0"
            ],
            [
             0.7,
             "#b8e186"
            ],
            [
             0.8,
             "#7fbc41"
            ],
            [
             0.9,
             "#4d9221"
            ],
            [
             1,
             "#276419"
            ]
           ],
           "sequential": [
            [
             0,
             "#0d0887"
            ],
            [
             0.1111111111111111,
             "#46039f"
            ],
            [
             0.2222222222222222,
             "#7201a8"
            ],
            [
             0.3333333333333333,
             "#9c179e"
            ],
            [
             0.4444444444444444,
             "#bd3786"
            ],
            [
             0.5555555555555556,
             "#d8576b"
            ],
            [
             0.6666666666666666,
             "#ed7953"
            ],
            [
             0.7777777777777778,
             "#fb9f3a"
            ],
            [
             0.8888888888888888,
             "#fdca26"
            ],
            [
             1,
             "#f0f921"
            ]
           ],
           "sequentialminus": [
            [
             0,
             "#0d0887"
            ],
            [
             0.1111111111111111,
             "#46039f"
            ],
            [
             0.2222222222222222,
             "#7201a8"
            ],
            [
             0.3333333333333333,
             "#9c179e"
            ],
            [
             0.4444444444444444,
             "#bd3786"
            ],
            [
             0.5555555555555556,
             "#d8576b"
            ],
            [
             0.6666666666666666,
             "#ed7953"
            ],
            [
             0.7777777777777778,
             "#fb9f3a"
            ],
            [
             0.8888888888888888,
             "#fdca26"
            ],
            [
             1,
             "#f0f921"
            ]
           ]
          },
          "colorway": [
           "#636efa",
           "#EF553B",
           "#00cc96",
           "#ab63fa",
           "#FFA15A",
           "#19d3f3",
           "#FF6692",
           "#B6E880",
           "#FF97FF",
           "#FECB52"
          ],
          "font": {
           "color": "#2a3f5f"
          },
          "geo": {
           "bgcolor": "white",
           "lakecolor": "white",
           "landcolor": "#E5ECF6",
           "showlakes": true,
           "showland": true,
           "subunitcolor": "white"
          },
          "hoverlabel": {
           "align": "left"
          },
          "hovermode": "closest",
          "mapbox": {
           "style": "light"
          },
          "paper_bgcolor": "white",
          "plot_bgcolor": "#E5ECF6",
          "polar": {
           "angularaxis": {
            "gridcolor": "white",
            "linecolor": "white",
            "ticks": ""
           },
           "bgcolor": "#E5ECF6",
           "radialaxis": {
            "gridcolor": "white",
            "linecolor": "white",
            "ticks": ""
           }
          },
          "scene": {
           "xaxis": {
            "backgroundcolor": "#E5ECF6",
            "gridcolor": "white",
            "gridwidth": 2,
            "linecolor": "white",
            "showbackground": true,
            "ticks": "",
            "zerolinecolor": "white"
           },
           "yaxis": {
            "backgroundcolor": "#E5ECF6",
            "gridcolor": "white",
            "gridwidth": 2,
            "linecolor": "white",
            "showbackground": true,
            "ticks": "",
            "zerolinecolor": "white"
           },
           "zaxis": {
            "backgroundcolor": "#E5ECF6",
            "gridcolor": "white",
            "gridwidth": 2,
            "linecolor": "white",
            "showbackground": true,
            "ticks": "",
            "zerolinecolor": "white"
           }
          },
          "shapedefaults": {
           "line": {
            "color": "#2a3f5f"
           }
          },
          "ternary": {
           "aaxis": {
            "gridcolor": "white",
            "linecolor": "white",
            "ticks": ""
           },
           "baxis": {
            "gridcolor": "white",
            "linecolor": "white",
            "ticks": ""
           },
           "bgcolor": "#E5ECF6",
           "caxis": {
            "gridcolor": "white",
            "linecolor": "white",
            "ticks": ""
           }
          },
          "title": {
           "x": 0.05
          },
          "xaxis": {
           "automargin": true,
           "gridcolor": "white",
           "linecolor": "white",
           "ticks": "",
           "title": {
            "standoff": 15
           },
           "zerolinecolor": "white",
           "zerolinewidth": 2
          },
          "yaxis": {
           "automargin": true,
           "gridcolor": "white",
           "linecolor": "white",
           "ticks": "",
           "title": {
            "standoff": 15
           },
           "zerolinecolor": "white",
           "zerolinewidth": 2
          }
         }
        },
        "title": {
         "text": "Distribution des symptômes par maladie (Cas Positifs)"
        },
        "width": 1000,
        "xaxis": {
         "anchor": "y",
         "domain": [
          0,
          0.45
         ]
        },
        "xaxis2": {
         "anchor": "y2",
         "domain": [
          0.55,
          1
         ]
        },
        "xaxis3": {
         "anchor": "y3",
         "domain": [
          0,
          0.45
         ]
        },
        "xaxis4": {
         "anchor": "y4",
         "domain": [
          0.55,
          1
         ]
        },
        "yaxis": {
         "anchor": "x",
         "domain": [
          0.625,
          1
         ]
        },
        "yaxis2": {
         "anchor": "x2",
         "domain": [
          0.625,
          1
         ]
        },
        "yaxis3": {
         "anchor": "x3",
         "domain": [
          0,
          0.375
         ]
        },
        "yaxis4": {
         "anchor": "x4",
         "domain": [
          0,
          0.375
         ]
        }
       }
      }
     },
     "metadata": {},
     "output_type": "display_data"
    }
   ],
   "source": [
    "# Define colums with symptoms\n",
    "symptom_columns = ['Fever', 'Cough', 'Fatigue', 'Difficulty Breathing']\n",
    "\n",
    "# Creat figure with 2x2 subplots\n",
    "fig = sp.make_subplots(rows=2, cols=2, subplot_titles=symptom_columns)\n",
    "\n",
    "# For each colum, creat histogram\n",
    "for idx, column in enumerate(symptom_columns):\n",
    "    # Calculate subplot position\n",
    "    i = idx // 2 + 1  # Line\n",
    "    j = idx % 2 + 1   # Column\n",
    "    \n",
    "   \n",
    "    fig_express = px.histogram(\n",
    "        df_positive, \n",
    "        x=column, \n",
    "        title=column + ' - Disease Distribution', \n",
    "        color='Disease'\n",
    "    )\n",
    "    \n",
    "\n",
    "    # Ajust each to the principal figure\n",
    "    for trace in fig_express.data:\n",
    "        fig.add_trace(trace, row=i, col=j)\n",
    "\n",
    "# Update render\n",
    "fig.update_layout(\n",
    "    height=800, \n",
    "    width=1000,\n",
    "    title_text=\"Distribution des symptômes par maladie (Cas Positifs)\",\n",
    "    showlegend=True\n",
    ")\n",
    "\n",
    "\n",
    "fig.show()"
   ]
  },
  {
   "cell_type": "markdown",
   "metadata": {},
   "source": [
    "### Formating data"
   ]
  },
  {
   "cell_type": "code",
   "execution_count": 14,
   "metadata": {},
   "outputs": [
    {
     "name": "stdout",
     "output_type": "stream",
     "text": [
      "\n",
      "=== Encodage des données ===\n",
      "\n",
      "Types des données après encodage:\n",
      "Disease                 int64\n",
      "Fever                   int64\n",
      "Cough                   int64\n",
      "Fatigue                 int64\n",
      "Difficulty Breathing    int64\n",
      "Blood Pressure          int64\n",
      "Cholesterol Level       int64\n",
      "Outcome Variable        int64\n",
      "dtype: object\n"
     ]
    }
   ],
   "source": [
    "print(\"\\n=== Encodage des données ===\")\n",
    "# Convert Yes/No in 1/0\n",
    "df_positive.replace({\"Yes\": 1, \"No\": 0}, inplace=True)\n",
    "\n",
    "# Convert Blood Pressure and Cholesterol Level in unique value\n",
    "df_positive[\"Blood Pressure\"] = df_positive[\"Blood Pressure\"].map({\"Low\": 1, \"Normal\": 2, \"High\": 3}).astype(int)\n",
    "df_positive[\"Cholesterol Level\"] = df_positive[\"Cholesterol Level\"].map({\"Low\": 1, \"Normal\": 2, \"High\": 3}).astype(int)\n",
    "\n",
    "# Encoder main target (Disease)\n",
    "encoder_disease = LabelEncoder()\n",
    "df_positive[\"Disease\"] = encoder_disease.fit_transform(df_positive[\"Disease\"])\n",
    "\n",
    "# Encoder Outcome Variable\n",
    "encoder_outcome = LabelEncoder()\n",
    "df_positive[\"Outcome Variable\"] = encoder_outcome.fit_transform(df_positive[\"Outcome Variable\"])\n",
    "\n",
    "# Verifyin type of data\n",
    "print(\"\\nTypes des données après encodage:\")\n",
    "print(df_positive.dtypes)"
   ]
  },
  {
   "cell_type": "code",
   "execution_count": 15,
   "metadata": {},
   "outputs": [
    {
     "data": {
      "text/html": [
       "<div>\n",
       "<style scoped>\n",
       "    .dataframe tbody tr th:only-of-type {\n",
       "        vertical-align: middle;\n",
       "    }\n",
       "\n",
       "    .dataframe tbody tr th {\n",
       "        vertical-align: top;\n",
       "    }\n",
       "\n",
       "    .dataframe thead th {\n",
       "        text-align: right;\n",
       "    }\n",
       "</style>\n",
       "<table border=\"1\" class=\"dataframe\">\n",
       "  <thead>\n",
       "    <tr style=\"text-align: right;\">\n",
       "      <th></th>\n",
       "      <th>Disease</th>\n",
       "      <th>Fever</th>\n",
       "      <th>Cough</th>\n",
       "      <th>Fatigue</th>\n",
       "      <th>Difficulty Breathing</th>\n",
       "      <th>Blood Pressure</th>\n",
       "      <th>Cholesterol Level</th>\n",
       "      <th>Outcome Variable</th>\n",
       "    </tr>\n",
       "  </thead>\n",
       "  <tbody>\n",
       "    <tr>\n",
       "      <th>0</th>\n",
       "      <td>36</td>\n",
       "      <td>1</td>\n",
       "      <td>0</td>\n",
       "      <td>1</td>\n",
       "      <td>1</td>\n",
       "      <td>1</td>\n",
       "      <td>2</td>\n",
       "      <td>0</td>\n",
       "    </tr>\n",
       "    <tr>\n",
       "      <th>3</th>\n",
       "      <td>3</td>\n",
       "      <td>1</td>\n",
       "      <td>1</td>\n",
       "      <td>0</td>\n",
       "      <td>1</td>\n",
       "      <td>2</td>\n",
       "      <td>2</td>\n",
       "      <td>0</td>\n",
       "    </tr>\n",
       "    <tr>\n",
       "      <th>5</th>\n",
       "      <td>24</td>\n",
       "      <td>1</td>\n",
       "      <td>0</td>\n",
       "      <td>0</td>\n",
       "      <td>0</td>\n",
       "      <td>2</td>\n",
       "      <td>2</td>\n",
       "      <td>0</td>\n",
       "    </tr>\n",
       "    <tr>\n",
       "      <th>6</th>\n",
       "      <td>36</td>\n",
       "      <td>1</td>\n",
       "      <td>1</td>\n",
       "      <td>1</td>\n",
       "      <td>1</td>\n",
       "      <td>2</td>\n",
       "      <td>2</td>\n",
       "      <td>0</td>\n",
       "    </tr>\n",
       "    <tr>\n",
       "      <th>10</th>\n",
       "      <td>3</td>\n",
       "      <td>1</td>\n",
       "      <td>0</td>\n",
       "      <td>0</td>\n",
       "      <td>1</td>\n",
       "      <td>3</td>\n",
       "      <td>2</td>\n",
       "      <td>0</td>\n",
       "    </tr>\n",
       "    <tr>\n",
       "      <th>18</th>\n",
       "      <td>18</td>\n",
       "      <td>1</td>\n",
       "      <td>1</td>\n",
       "      <td>1</td>\n",
       "      <td>1</td>\n",
       "      <td>3</td>\n",
       "      <td>2</td>\n",
       "      <td>0</td>\n",
       "    </tr>\n",
       "    <tr>\n",
       "      <th>19</th>\n",
       "      <td>40</td>\n",
       "      <td>1</td>\n",
       "      <td>1</td>\n",
       "      <td>1</td>\n",
       "      <td>1</td>\n",
       "      <td>2</td>\n",
       "      <td>2</td>\n",
       "      <td>0</td>\n",
       "    </tr>\n",
       "    <tr>\n",
       "      <th>20</th>\n",
       "      <td>65</td>\n",
       "      <td>1</td>\n",
       "      <td>1</td>\n",
       "      <td>1</td>\n",
       "      <td>1</td>\n",
       "      <td>2</td>\n",
       "      <td>2</td>\n",
       "      <td>0</td>\n",
       "    </tr>\n",
       "    <tr>\n",
       "      <th>21</th>\n",
       "      <td>74</td>\n",
       "      <td>1</td>\n",
       "      <td>1</td>\n",
       "      <td>1</td>\n",
       "      <td>0</td>\n",
       "      <td>3</td>\n",
       "      <td>3</td>\n",
       "      <td>0</td>\n",
       "    </tr>\n",
       "    <tr>\n",
       "      <th>34</th>\n",
       "      <td>3</td>\n",
       "      <td>1</td>\n",
       "      <td>1</td>\n",
       "      <td>0</td>\n",
       "      <td>1</td>\n",
       "      <td>2</td>\n",
       "      <td>2</td>\n",
       "      <td>0</td>\n",
       "    </tr>\n",
       "  </tbody>\n",
       "</table>\n",
       "</div>"
      ],
      "text/plain": [
       "    Disease  Fever  Cough  Fatigue  Difficulty Breathing  Blood Pressure  \\\n",
       "0        36      1      0        1                     1               1   \n",
       "3         3      1      1        0                     1               2   \n",
       "5        24      1      0        0                     0               2   \n",
       "6        36      1      1        1                     1               2   \n",
       "10        3      1      0        0                     1               3   \n",
       "18       18      1      1        1                     1               3   \n",
       "19       40      1      1        1                     1               2   \n",
       "20       65      1      1        1                     1               2   \n",
       "21       74      1      1        1                     0               3   \n",
       "34        3      1      1        0                     1               2   \n",
       "\n",
       "    Cholesterol Level  Outcome Variable  \n",
       "0                   2                 0  \n",
       "3                   2                 0  \n",
       "5                   2                 0  \n",
       "6                   2                 0  \n",
       "10                  2                 0  \n",
       "18                  2                 0  \n",
       "19                  2                 0  \n",
       "20                  2                 0  \n",
       "21                  3                 0  \n",
       "34                  2                 0  "
      ]
     },
     "execution_count": 15,
     "metadata": {},
     "output_type": "execute_result"
    }
   ],
   "source": [
    "#Verifying transformation of data\n",
    "df_positive.head(10)"
   ]
  },
  {
   "cell_type": "code",
   "execution_count": 16,
   "metadata": {},
   "outputs": [],
   "source": [
    "\n",
    "# Filter to keep only diseas with 2 smples\n",
    "disease_counts = df_positive['Disease'].value_counts()\n",
    "valid_diseases = disease_counts[disease_counts >= 2].index\n",
    "\n",
    "#  Filter by df_positive\n",
    "df_filtered = df_positive[df_positive['Disease'].isin(valid_diseases)].copy()\n",
    "\n",
    "encoder = LabelEncoder()\n",
    "y = encoder.fit_transform(df_positive['Disease'])\n"
   ]
  },
  {
   "cell_type": "code",
   "execution_count": 17,
   "metadata": {},
   "outputs": [],
   "source": [
    "# Prepare data\n",
    "X = df_filtered[['Fever', 'Cough', 'Fatigue', 'Difficulty Breathing', \n",
    "        'Blood Pressure', 'Cholesterol Level']]\n",
    "y = df_filtered['Disease']"
   ]
  },
  {
   "cell_type": "markdown",
   "metadata": {},
   "source": [
    "### Setup train & test"
   ]
  },
  {
   "cell_type": "code",
   "execution_count": 18,
   "metadata": {},
   "outputs": [],
   "source": [
    "# Standardisation\n",
    "scaler = StandardScaler()\n",
    "X_scaled = scaler.fit_transform(X)\n",
    "X_scaled = pd.DataFrame(X_scaled, columns=X.columns)\n"
   ]
  },
  {
   "cell_type": "code",
   "execution_count": 19,
   "metadata": {},
   "outputs": [],
   "source": [
    "# Split data\n",
    "X_train, X_test, y_train, y_test = train_test_split(\n",
    "    X_scaled, \n",
    "    y,\n",
    "    test_size=0.30,\n",
    "    random_state=42,\n",
    "    stratify=y\n",
    ")"
   ]
  },
  {
   "cell_type": "markdown",
   "metadata": {},
   "source": [
    "### Train Models"
   ]
  },
  {
   "cell_type": "code",
   "execution_count": 20,
   "metadata": {},
   "outputs": [],
   "source": [
    "def evaluate_models(X_train, X_test, y_train, y_test):\n",
    "    # Defin model to test\n",
    "    models = {\n",
    "        'Logistic Regression': LogisticRegression(class_weight='balanced', max_iter=1000),\n",
    "        'Random Forest': RandomForestClassifier(n_estimators=100, class_weight='balanced', random_state=42),\n",
    "        'Decision Tree': DecisionTreeClassifier(class_weight='balanced', random_state=42),\n",
    "        'SVM': SVC(class_weight='balanced', random_state=42),\n",
    "        'KNN': KNeighborsClassifier(n_neighbors=5)\n",
    "    }\n",
    "    \n",
    "    # stock data\n",
    "    results = {}\n",
    "    \n",
    "    for name, model in models.items():\n",
    "        print(f\"\\nÉvaluation du modèle: {name}\")\n",
    "        \n",
    "        # train\n",
    "        model.fit(X_train, y_train)\n",
    "        \n",
    "        # Prediction\n",
    "        y_pred = model.predict(X_test)\n",
    "        \n",
    "        # Metriq\n",
    "        accuracy = accuracy_score(y_test, y_pred)\n",
    "        precision, recall, f1, _ = precision_recall_fscore_support(y_test, y_pred, average='weighted')\n",
    "        \n",
    "        results[name] = {\n",
    "            'model': model,\n",
    "            'accuracy': accuracy,\n",
    "            'precision': precision,\n",
    "            'recall': recall,\n",
    "            'f1': f1\n",
    "        }\n",
    "        \n",
    "        print(f\"Accuracy: {accuracy:.3f}\")\n",
    "        print(f\"F1-score: {f1:.3f}\")\n",
    "        print(\"\\nRapport de classification détaillé:\")\n",
    "        print(classification_report(y_test, y_pred))\n",
    "    \n",
    "    return results"
   ]
  },
  {
   "cell_type": "code",
   "execution_count": 21,
   "metadata": {},
   "outputs": [
    {
     "name": "stdout",
     "output_type": "stream",
     "text": [
      "Précision : 0.09\n",
      "Rapport de classification :\n",
      "              precision    recall  f1-score   support\n",
      "\n",
      "           1       0.00      0.00      0.00         0\n",
      "           2       0.00      0.00      0.00         1\n",
      "           3       1.00      0.25      0.40         4\n",
      "           5       0.00      0.00      0.00         1\n",
      "          16       0.00      0.00      0.00         1\n",
      "          18       0.00      0.00      0.00         1\n",
      "          19       0.00      0.00      0.00         1\n",
      "          24       0.00      0.00      0.00         1\n",
      "          26       0.00      0.00      0.00         1\n",
      "          31       0.00      0.00      0.00         1\n",
      "          33       0.00      0.00      0.00         1\n",
      "          35       0.00      0.00      0.00         1\n",
      "          36       0.50      1.00      0.67         1\n",
      "          38       0.00      0.00      0.00         1\n",
      "          39       0.25      1.00      0.40         1\n",
      "          40       0.00      0.00      0.00         1\n",
      "          41       0.00      0.00      0.00         1\n",
      "          42       0.00      0.00      0.00         1\n",
      "          46       0.00      0.00      0.00         1\n",
      "          47       0.00      0.00      0.00         1\n",
      "          50       0.00      0.00      0.00         1\n",
      "          51       0.00      0.00      0.00         2\n",
      "          53       0.00      0.00      0.00         1\n",
      "          56       0.00      0.00      0.00         1\n",
      "          60       0.00      0.00      0.00         1\n",
      "          61       0.00      0.00      0.00         1\n",
      "          65       0.00      0.00      0.00         2\n",
      "          71       0.00      0.00      0.00         1\n",
      "          73       0.00      0.00      0.00         1\n",
      "          74       0.00      0.00      0.00         1\n",
      "\n",
      "    accuracy                           0.09        34\n",
      "   macro avg       0.06      0.07      0.05        34\n",
      "weighted avg       0.14      0.09      0.08        34\n",
      "\n"
     ]
    }
   ],
   "source": [
    "\n",
    "# REGRESSION LOGIQUE \n",
    "modelregression = LogisticRegression(class_weight='balanced', max_iter=1000)\n",
    "modelregression.fit(X_train, y_train)\n",
    "\n",
    "# ASSESS\n",
    "y_pred = modelregression.predict(X_test)\n",
    "print(f\"Précision : {accuracy_score(y_test, y_pred):.2f}\")\n",
    "print(f\"Rapport de classification :\\n{classification_report(y_test, y_pred)}\")"
   ]
  },
  {
   "cell_type": "code",
   "execution_count": 22,
   "metadata": {},
   "outputs": [
    {
     "name": "stdout",
     "output_type": "stream",
     "text": [
      "\n",
      "=== Résultats du modèle Random Forest ===\n",
      "Accuracy: 0.118\n",
      "\n",
      "Rapport de classification:\n",
      "              precision    recall  f1-score   support\n",
      "\n",
      "           1       0.00      0.00      0.00         0\n",
      "           2       0.00      0.00      0.00         1\n",
      "           3       0.50      0.25      0.33         4\n",
      "           5       0.25      1.00      0.40         1\n",
      "          16       0.00      0.00      0.00         1\n",
      "          18       0.00      0.00      0.00         1\n",
      "          19       0.00      0.00      0.00         1\n",
      "          24       0.00      0.00      0.00         1\n",
      "          26       0.00      0.00      0.00         1\n",
      "          28       0.00      0.00      0.00         0\n",
      "          31       0.00      0.00      0.00         1\n",
      "          33       0.00      0.00      0.00         1\n",
      "          35       0.00      0.00      0.00         1\n",
      "          36       0.50      1.00      0.67         1\n",
      "          37       0.00      0.00      0.00         0\n",
      "          38       0.00      0.00      0.00         1\n",
      "          39       0.00      0.00      0.00         1\n",
      "          40       0.00      0.00      0.00         1\n",
      "          41       0.00      0.00      0.00         1\n",
      "          42       0.00      0.00      0.00         1\n",
      "          46       0.00      0.00      0.00         1\n",
      "          47       0.00      0.00      0.00         1\n",
      "          50       0.00      0.00      0.00         1\n",
      "          51       0.00      0.00      0.00         2\n",
      "          53       0.00      0.00      0.00         1\n",
      "          56       0.00      0.00      0.00         1\n",
      "          60       0.00      0.00      0.00         1\n",
      "          61       0.00      0.00      0.00         1\n",
      "          65       0.50      0.50      0.50         2\n",
      "          71       0.00      0.00      0.00         1\n",
      "          73       0.00      0.00      0.00         1\n",
      "          74       0.00      0.00      0.00         1\n",
      "\n",
      "    accuracy                           0.12        34\n",
      "   macro avg       0.05      0.09      0.06        34\n",
      "weighted avg       0.11      0.12      0.10        34\n",
      "\n"
     ]
    }
   ],
   "source": [
    "# RANDOM FOREST\n",
    "rf_modelrandom = RandomForestClassifier(\n",
    "    n_estimators=100,\n",
    "    max_depth=None,\n",
    "    min_samples_split=2,\n",
    "    min_samples_leaf=1,\n",
    "    class_weight='balanced',\n",
    "    random_state=42\n",
    ")\n",
    "\n",
    "rf_modelrandom.fit(X_train, y_train)\n",
    "\n",
    "# ASSESS \n",
    "y_pred = rf_modelrandom.predict(X_test)\n",
    "print(\"\\n=== Résultats du modèle Random Forest ===\")\n",
    "print(f\"Accuracy: {accuracy_score(y_test, y_pred):.3f}\")\n",
    "print(\"\\nRapport de classification:\")\n",
    "print(classification_report(y_test, y_pred))\n"
   ]
  },
  {
   "cell_type": "code",
   "execution_count": 23,
   "metadata": {},
   "outputs": [
    {
     "name": "stdout",
     "output_type": "stream",
     "text": [
      "              precision    recall  f1-score   support\n",
      "\n",
      "           1       0.00      0.00      0.00         0\n",
      "           2       0.00      0.00      0.00         1\n",
      "           3       0.40      0.50      0.44         4\n",
      "           5       0.25      1.00      0.40         1\n",
      "          16       0.00      0.00      0.00         1\n",
      "          18       0.00      0.00      0.00         1\n",
      "          19       0.00      0.00      0.00         1\n",
      "          24       0.00      0.00      0.00         1\n",
      "          26       0.00      0.00      0.00         1\n",
      "          28       0.00      0.00      0.00         0\n",
      "          31       0.00      0.00      0.00         1\n",
      "          33       0.00      0.00      0.00         1\n",
      "          35       0.00      0.00      0.00         1\n",
      "          36       0.00      0.00      0.00         1\n",
      "          38       0.00      0.00      0.00         1\n",
      "          39       0.00      0.00      0.00         1\n",
      "          40       0.00      0.00      0.00         1\n",
      "          41       0.00      0.00      0.00         1\n",
      "          42       0.00      0.00      0.00         1\n",
      "          46       0.00      0.00      0.00         1\n",
      "          47       0.00      0.00      0.00         1\n",
      "          50       0.00      0.00      0.00         1\n",
      "          51       0.00      0.00      0.00         2\n",
      "          53       0.00      0.00      0.00         1\n",
      "          56       0.00      0.00      0.00         1\n",
      "          60       0.00      0.00      0.00         1\n",
      "          61       0.00      0.00      0.00         1\n",
      "          65       0.50      0.50      0.50         2\n",
      "          71       0.00      0.00      0.00         1\n",
      "          73       0.00      0.00      0.00         1\n",
      "          74       0.00      0.00      0.00         1\n",
      "\n",
      "    accuracy                           0.12        34\n",
      "   macro avg       0.04      0.06      0.04        34\n",
      "weighted avg       0.08      0.12      0.09        34\n",
      "\n"
     ]
    }
   ],
   "source": [
    "# DECISION TREE\n",
    "modeldecisiontree = DecisionTreeClassifier()\n",
    "modeldecisiontree.fit(X_train, y_train)\n",
    "\n",
    "# ASSESS \n",
    "y_pred = modeldecisiontree.predict(X_test)\n",
    "print(classification_report(y_test, y_pred))"
   ]
  },
  {
   "cell_type": "code",
   "execution_count": 24,
   "metadata": {},
   "outputs": [
    {
     "name": "stdout",
     "output_type": "stream",
     "text": [
      "              precision    recall  f1-score   support\n",
      "\n",
      "           2       0.00      0.00      0.00         1\n",
      "           3       0.33      0.50      0.40         4\n",
      "           5       0.00      0.00      0.00         1\n",
      "          16       0.00      0.00      0.00         1\n",
      "          18       0.00      0.00      0.00         1\n",
      "          19       0.00      0.00      0.00         1\n",
      "          24       0.00      0.00      0.00         1\n",
      "          26       0.00      0.00      0.00         1\n",
      "          28       0.00      0.00      0.00         0\n",
      "          31       0.00      0.00      0.00         1\n",
      "          33       0.00      0.00      0.00         1\n",
      "          35       0.00      0.00      0.00         1\n",
      "          36       0.00      0.00      0.00         1\n",
      "          38       0.00      0.00      0.00         1\n",
      "          39       0.00      0.00      0.00         1\n",
      "          40       0.00      0.00      0.00         1\n",
      "          41       0.00      0.00      0.00         1\n",
      "          42       0.00      0.00      0.00         1\n",
      "          46       0.00      0.00      0.00         1\n",
      "          47       0.00      0.00      0.00         1\n",
      "          50       0.00      0.00      0.00         1\n",
      "          51       0.00      0.00      0.00         2\n",
      "          53       0.00      0.00      0.00         1\n",
      "          56       0.00      0.00      0.00         1\n",
      "          60       0.00      0.00      0.00         1\n",
      "          61       0.00      0.00      0.00         1\n",
      "          65       0.14      0.50      0.22         2\n",
      "          71       0.00      0.00      0.00         1\n",
      "          73       0.00      0.00      0.00         1\n",
      "          74       0.00      0.00      0.00         1\n",
      "\n",
      "    accuracy                           0.09        34\n",
      "   macro avg       0.02      0.03      0.02        34\n",
      "weighted avg       0.05      0.09      0.06        34\n",
      "\n"
     ]
    }
   ],
   "source": [
    "# SVM\n",
    "modelsvm = SVC()\n",
    "modelsvm.fit(X_train, y_train)\n",
    "\n",
    "# ASSESS\n",
    "y_pred = modelsvm.predict(X_test)\n",
    "print(classification_report(y_test, y_pred))\n"
   ]
  },
  {
   "cell_type": "code",
   "execution_count": 25,
   "metadata": {},
   "outputs": [
    {
     "data": {
      "image/png": "[encoded data removed]",
      "text/plain": [
       "<Figure size 1000x600 with 1 Axes>"
      ]
     },
     "metadata": {},
     "output_type": "display_data"
    }
   ],
   "source": [
    "feature_importance = pd.DataFrame({\n",
    "    'feature': X.columns,\n",
    "    'importance': rf_modelrandom.feature_importances_\n",
    "})\n",
    "feature_importance = feature_importance.sort_values('importance', ascending=False)\n",
    "\n",
    "plt.figure(figsize=(10, 6))\n",
    "sns.barplot(x='importance', y='feature', data=feature_importance)\n",
    "plt.title(\"Importance des caractéristiques\")\n",
    "plt.tight_layout()\n",
    "plt.show()"
   ]
  },
  {
   "cell_type": "code",
   "execution_count": 26,
   "metadata": {},
   "outputs": [
    {
     "data": {
      "image/png": "[encoded data removed]",
      "text/plain": [
       "<Figure size 1200x800 with 2 Axes>"
      ]
     },
     "metadata": {},
     "output_type": "display_data"
    }
   ],
   "source": [
    "plt.figure(figsize=(12, 8))\n",
    "cm = confusion_matrix(y_test, y_pred)\n",
    "sns.heatmap(cm, annot=True, fmt='d', cmap='Blues')\n",
    "plt.title('Matrice de confusion')\n",
    "plt.xlabel('Prédictions')\n",
    "plt.ylabel('Valeurs réelles')\n",
    "plt.tight_layout()\n",
    "plt.show()"
   ]
  },
  {
   "cell_type": "code",
   "execution_count": 27,
   "metadata": {},
   "outputs": [
    {
     "data": {
      "image/png": "[encoded data removed]",
      "text/plain": [
       "<Figure size 1000x800 with 2 Axes>"
      ]
     },
     "metadata": {},
     "output_type": "display_data"
    }
   ],
   "source": [
    "plt.figure(figsize=(10, 8))\n",
    "correlation_matrix = X.corr()\n",
    "sns.heatmap(correlation_matrix, annot=True, cmap='coolwarm', center=0)\n",
    "plt.title('Corrélations entre les caractéristiques')\n",
    "plt.tight_layout()\n",
    "plt.show()"
   ]
  },
  {
   "cell_type": "markdown",
   "metadata": {},
   "source": [
    "### Predict diseas"
   ]
  },
  {
   "cell_type": "code",
   "execution_count": 28,
   "metadata": {},
   "outputs": [
    {
     "data": {
      "text/html": [
       "<style>#sk-container-id-1 {\n",
       "  /* Definition of color scheme common for light and dark mode */\n",
       "  --sklearn-color-text: #000;\n",
       "  --sklearn-color-text-muted: #666;\n",
       "  --sklearn-color-line: gray;\n",
       "  /* Definition of color scheme for unfitted estimators */\n",
       "  --sklearn-color-unfitted-level-0: #fff5e6;\n",
       "  --sklearn-color-unfitted-level-1: #f6e4d2;\n",
       "  --sklearn-color-unfitted-level-2: #ffe0b3;\n",
       "  --sklearn-color-unfitted-level-3: chocolate;\n",
       "  /* Definition of color scheme for fitted estimators */\n",
       "  --sklearn-color-fitted-level-0: #f0f8ff;\n",
       "  --sklearn-color-fitted-level-1: #d4ebff;\n",
       "  --sklearn-color-fitted-level-2: #b3dbfd;\n",
       "  --sklearn-color-fitted-level-3: cornflowerblue;\n",
       "\n",
       "  /* Specific color for light theme */\n",
       "  --sklearn-color-text-on-default-background: var(--sg-text-color, var(--theme-code-foreground, var(--jp-content-font-color1, black)));\n",
       "  --sklearn-color-background: var(--sg-background-color, var(--theme-background, var(--jp-layout-color0, white)));\n",
       "  --sklearn-color-border-box: var(--sg-text-color, var(--theme-code-foreground, var(--jp-content-font-color1, black)));\n",
       "  --sklearn-color-icon: #696969;\n",
       "\n",
       "  @media (prefers-color-scheme: dark) {\n",
       "    /* Redefinition of color scheme for dark theme */\n",
       "    --sklearn-color-text-on-default-background: var(--sg-text-color, var(--theme-code-foreground, var(--jp-content-font-color1, white)));\n",
       "    --sklearn-color-background: var(--sg-background-color, var(--theme-background, var(--jp-layout-color0, #111)));\n",
       "    --sklearn-color-border-box: var(--sg-text-color, var(--theme-code-foreground, var(--jp-content-font-color1, white)));\n",
       "    --sklearn-color-icon: #878787;\n",
       "  }\n",
       "}\n",
       "\n",
       "#sk-container-id-1 {\n",
       "  color: var(--sklearn-color-text);\n",
       "}\n",
       "\n",
       "#sk-container-id-1 pre {\n",
       "  padding: 0;\n",
       "}\n",
       "\n",
       "#sk-container-id-1 input.sk-hidden--visually {\n",
       "  border: 0;\n",
       "  clip: rect(1px 1px 1px 1px);\n",
       "  clip: rect(1px, 1px, 1px, 1px);\n",
       "  height: 1px;\n",
       "  margin: -1px;\n",
       "  overflow: hidden;\n",
       "  padding: 0;\n",
       "  position: absolute;\n",
       "  width: 1px;\n",
       "}\n",
       "\n",
       "#sk-container-id-1 div.sk-dashed-wrapped {\n",
       "  border: 1px dashed var(--sklearn-color-line);\n",
       "  margin: 0 0.4em 0.5em 0.4em;\n",
       "  box-sizing: border-box;\n",
       "  padding-bottom: 0.4em;\n",
       "  background-color: var(--sklearn-color-background);\n",
       "}\n",
       "\n",
       "#sk-container-id-1 div.sk-container {\n",
       "  /* jupyter's `normalize.less` sets `[hidden] { display: none; }`\n",
       "     but bootstrap.min.css set `[hidden] { display: none !important; }`\n",
       "     so we also need the `!important` here to be able to override the\n",
       "     default hidden behavior on the sphinx rendered scikit-learn.org.\n",
       "     See: https://github.com/scikit-learn/scikit-learn/issues/21755 */\n",
       "  display: inline-block !important;\n",
       "  position: relative;\n",
       "}\n",
       "\n",
       "#sk-container-id-1 div.sk-text-repr-fallback {\n",
       "  display: none;\n",
       "}\n",
       "\n",
       "div.sk-parallel-item,\n",
       "div.sk-serial,\n",
       "div.sk-item {\n",
       "  /* draw centered vertical line to link estimators */\n",
       "  background-image: linear-gradient(var(--sklearn-color-text-on-default-background), var(--sklearn-color-text-on-default-background));\n",
       "  background-size: 2px 100%;\n",
       "  background-repeat: no-repeat;\n",
       "  background-position: center center;\n",
       "}\n",
       "\n",
       "/* Parallel-specific style estimator block */\n",
       "\n",
       "#sk-container-id-1 div.sk-parallel-item::after {\n",
       "  content: \"\";\n",
       "  width: 100%;\n",
       "  border-bottom: 2px solid var(--sklearn-color-text-on-default-background);\n",
       "  flex-grow: 1;\n",
       "}\n",
       "\n",
       "#sk-container-id-1 div.sk-parallel {\n",
       "  display: flex;\n",
       "  align-items: stretch;\n",
       "  justify-content: center;\n",
       "  background-color: var(--sklearn-color-background);\n",
       "  position: relative;\n",
       "}\n",
       "\n",
       "#sk-container-id-1 div.sk-parallel-item {\n",
       "  display: flex;\n",
       "  flex-direction: column;\n",
       "}\n",
       "\n",
       "#sk-container-id-1 div.sk-parallel-item:first-child::after {\n",
       "  align-self: flex-end;\n",
       "  width: 50%;\n",
       "}\n",
       "\n",
       "#sk-container-id-1 div.sk-parallel-item:last-child::after {\n",
       "  align-self: flex-start;\n",
       "  width: 50%;\n",
       "}\n",
       "\n",
       "#sk-container-id-1 div.sk-parallel-item:only-child::after {\n",
       "  width: 0;\n",
       "}\n",
       "\n",
       "/* Serial-specific style estimator block */\n",
       "\n",
       "#sk-container-id-1 div.sk-serial {\n",
       "  display: flex;\n",
       "  flex-direction: column;\n",
       "  align-items: center;\n",
       "  background-color: var(--sklearn-color-background);\n",
       "  padding-right: 1em;\n",
       "  padding-left: 1em;\n",
       "}\n",
       "\n",
       "\n",
       "/* Toggleable style: style used for estimator/Pipeline/ColumnTransformer box that is\n",
       "clickable and can be expanded/collapsed.\n",
       "- Pipeline and ColumnTransformer use this feature and define the default style\n",
       "- Estimators will overwrite some part of the style using the `sk-estimator` class\n",
       "*/\n",
       "\n",
       "/* Pipeline and ColumnTransformer style (default) */\n",
       "\n",
       "#sk-container-id-1 div.sk-toggleable {\n",
       "  /* Default theme specific background. It is overwritten whether we have a\n",
       "  specific estimator or a Pipeline/ColumnTransformer */\n",
       "  background-color: var(--sklearn-color-background);\n",
       "}\n",
       "\n",
       "/* Toggleable label */\n",
       "#sk-container-id-1 label.sk-toggleable__label {\n",
       "  cursor: pointer;\n",
       "  display: flex;\n",
       "  width: 100%;\n",
       "  margin-bottom: 0;\n",
       "  padding: 0.5em;\n",
       "  box-sizing: border-box;\n",
       "  text-align: center;\n",
       "  align-items: start;\n",
       "  justify-content: space-between;\n",
       "  gap: 0.5em;\n",
       "}\n",
       "\n",
       "#sk-container-id-1 label.sk-toggleable__label .caption {\n",
       "  font-size: 0.6rem;\n",
       "  font-weight: lighter;\n",
       "  color: var(--sklearn-color-text-muted);\n",
       "}\n",
       "\n",
       "#sk-container-id-1 label.sk-toggleable__label-arrow:before {\n",
       "  /* Arrow on the left of the label */\n",
       "  content: \"▸\";\n",
       "  float: left;\n",
       "  margin-right: 0.25em;\n",
       "  color: var(--sklearn-color-icon);\n",
       "}\n",
       "\n",
       "#sk-container-id-1 label.sk-toggleable__label-arrow:hover:before {\n",
       "  color: var(--sklearn-color-text);\n",
       "}\n",
       "\n",
       "/* Toggleable content - dropdown */\n",
       "\n",
       "#sk-container-id-1 div.sk-toggleable__content {\n",
       "  max-height: 0;\n",
       "  max-width: 0;\n",
       "  overflow: hidden;\n",
       "  text-align: left;\n",
       "  /* unfitted */\n",
       "  background-color: var(--sklearn-color-unfitted-level-0);\n",
       "}\n",
       "\n",
       "#sk-container-id-1 div.sk-toggleable__content.fitted {\n",
       "  /* fitted */\n",
       "  background-color: var(--sklearn-color-fitted-level-0);\n",
       "}\n",
       "\n",
       "#sk-container-id-1 div.sk-toggleable__content pre {\n",
       "  margin: 0.2em;\n",
       "  border-radius: 0.25em;\n",
       "  color: var(--sklearn-color-text);\n",
       "  /* unfitted */\n",
       "  background-color: var(--sklearn-color-unfitted-level-0);\n",
       "}\n",
       "\n",
       "#sk-container-id-1 div.sk-toggleable__content.fitted pre {\n",
       "  /* unfitted */\n",
       "  background-color: var(--sklearn-color-fitted-level-0);\n",
       "}\n",
       "\n",
       "#sk-container-id-1 input.sk-toggleable__control:checked~div.sk-toggleable__content {\n",
       "  /* Expand drop-down */\n",
       "  max-height: 200px;\n",
       "  max-width: 100%;\n",
       "  overflow: auto;\n",
       "}\n",
       "\n",
       "#sk-container-id-1 input.sk-toggleable__control:checked~label.sk-toggleable__label-arrow:before {\n",
       "  content: \"▾\";\n",
       "}\n",
       "\n",
       "/* Pipeline/ColumnTransformer-specific style */\n",
       "\n",
       "#sk-container-id-1 div.sk-label input.sk-toggleable__control:checked~label.sk-toggleable__label {\n",
       "  color: var(--sklearn-color-text);\n",
       "  background-color: var(--sklearn-color-unfitted-level-2);\n",
       "}\n",
       "\n",
       "#sk-container-id-1 div.sk-label.fitted input.sk-toggleable__control:checked~label.sk-toggleable__label {\n",
       "  background-color: var(--sklearn-color-fitted-level-2);\n",
       "}\n",
       "\n",
       "/* Estimator-specific style */\n",
       "\n",
       "/* Colorize estimator box */\n",
       "#sk-container-id-1 div.sk-estimator input.sk-toggleable__control:checked~label.sk-toggleable__label {\n",
       "  /* unfitted */\n",
       "  background-color: var(--sklearn-color-unfitted-level-2);\n",
       "}\n",
       "\n",
       "#sk-container-id-1 div.sk-estimator.fitted input.sk-toggleable__control:checked~label.sk-toggleable__label {\n",
       "  /* fitted */\n",
       "  background-color: var(--sklearn-color-fitted-level-2);\n",
       "}\n",
       "\n",
       "#sk-container-id-1 div.sk-label label.sk-toggleable__label,\n",
       "#sk-container-id-1 div.sk-label label {\n",
       "  /* The background is the default theme color */\n",
       "  color: var(--sklearn-color-text-on-default-background);\n",
       "}\n",
       "\n",
       "/* On hover, darken the color of the background */\n",
       "#sk-container-id-1 div.sk-label:hover label.sk-toggleable__label {\n",
       "  color: var(--sklearn-color-text);\n",
       "  background-color: var(--sklearn-color-unfitted-level-2);\n",
       "}\n",
       "\n",
       "/* Label box, darken color on hover, fitted */\n",
       "#sk-container-id-1 div.sk-label.fitted:hover label.sk-toggleable__label.fitted {\n",
       "  color: var(--sklearn-color-text);\n",
       "  background-color: var(--sklearn-color-fitted-level-2);\n",
       "}\n",
       "\n",
       "/* Estimator label */\n",
       "\n",
       "#sk-container-id-1 div.sk-label label {\n",
       "  font-family: monospace;\n",
       "  font-weight: bold;\n",
       "  display: inline-block;\n",
       "  line-height: 1.2em;\n",
       "}\n",
       "\n",
       "#sk-container-id-1 div.sk-label-container {\n",
       "  text-align: center;\n",
       "}\n",
       "\n",
       "/* Estimator-specific */\n",
       "#sk-container-id-1 div.sk-estimator {\n",
       "  font-family: monospace;\n",
       "  border: 1px dotted var(--sklearn-color-border-box);\n",
       "  border-radius: 0.25em;\n",
       "  box-sizing: border-box;\n",
       "  margin-bottom: 0.5em;\n",
       "  /* unfitted */\n",
       "  background-color: var(--sklearn-color-unfitted-level-0);\n",
       "}\n",
       "\n",
       "#sk-container-id-1 div.sk-estimator.fitted {\n",
       "  /* fitted */\n",
       "  background-color: var(--sklearn-color-fitted-level-0);\n",
       "}\n",
       "\n",
       "/* on hover */\n",
       "#sk-container-id-1 div.sk-estimator:hover {\n",
       "  /* unfitted */\n",
       "  background-color: var(--sklearn-color-unfitted-level-2);\n",
       "}\n",
       "\n",
       "#sk-container-id-1 div.sk-estimator.fitted:hover {\n",
       "  /* fitted */\n",
       "  background-color: var(--sklearn-color-fitted-level-2);\n",
       "}\n",
       "\n",
       "/* Specification for estimator info (e.g. \"i\" and \"?\") */\n",
       "\n",
       "/* Common style for \"i\" and \"?\" */\n",
       "\n",
       ".sk-estimator-doc-link,\n",
       "a:link.sk-estimator-doc-link,\n",
       "a:visited.sk-estimator-doc-link {\n",
       "  float: right;\n",
       "  font-size: smaller;\n",
       "  line-height: 1em;\n",
       "  font-family: monospace;\n",
       "  background-color: var(--sklearn-color-background);\n",
       "  border-radius: 1em;\n",
       "  height: 1em;\n",
       "  width: 1em;\n",
       "  text-decoration: none !important;\n",
       "  margin-left: 0.5em;\n",
       "  text-align: center;\n",
       "  /* unfitted */\n",
       "  border: var(--sklearn-color-unfitted-level-1) 1pt solid;\n",
       "  color: var(--sklearn-color-unfitted-level-1);\n",
       "}\n",
       "\n",
       ".sk-estimator-doc-link.fitted,\n",
       "a:link.sk-estimator-doc-link.fitted,\n",
       "a:visited.sk-estimator-doc-link.fitted {\n",
       "  /* fitted */\n",
       "  border: var(--sklearn-color-fitted-level-1) 1pt solid;\n",
       "  color: var(--sklearn-color-fitted-level-1);\n",
       "}\n",
       "\n",
       "/* On hover */\n",
       "div.sk-estimator:hover .sk-estimator-doc-link:hover,\n",
       ".sk-estimator-doc-link:hover,\n",
       "div.sk-label-container:hover .sk-estimator-doc-link:hover,\n",
       ".sk-estimator-doc-link:hover {\n",
       "  /* unfitted */\n",
       "  background-color: var(--sklearn-color-unfitted-level-3);\n",
       "  color: var(--sklearn-color-background);\n",
       "  text-decoration: none;\n",
       "}\n",
       "\n",
       "div.sk-estimator.fitted:hover .sk-estimator-doc-link.fitted:hover,\n",
       ".sk-estimator-doc-link.fitted:hover,\n",
       "div.sk-label-container:hover .sk-estimator-doc-link.fitted:hover,\n",
       ".sk-estimator-doc-link.fitted:hover {\n",
       "  /* fitted */\n",
       "  background-color: var(--sklearn-color-fitted-level-3);\n",
       "  color: var(--sklearn-color-background);\n",
       "  text-decoration: none;\n",
       "}\n",
       "\n",
       "/* Span, style for the box shown on hovering the info icon */\n",
       ".sk-estimator-doc-link span {\n",
       "  display: none;\n",
       "  z-index: 9999;\n",
       "  position: relative;\n",
       "  font-weight: normal;\n",
       "  right: .2ex;\n",
       "  padding: .5ex;\n",
       "  margin: .5ex;\n",
       "  width: min-content;\n",
       "  min-width: 20ex;\n",
       "  max-width: 50ex;\n",
       "  color: var(--sklearn-color-text);\n",
       "  box-shadow: 2pt 2pt 4pt #999;\n",
       "  /* unfitted */\n",
       "  background: var(--sklearn-color-unfitted-level-0);\n",
       "  border: .5pt solid var(--sklearn-color-unfitted-level-3);\n",
       "}\n",
       "\n",
       ".sk-estimator-doc-link.fitted span {\n",
       "  /* fitted */\n",
       "  background: var(--sklearn-color-fitted-level-0);\n",
       "  border: var(--sklearn-color-fitted-level-3);\n",
       "}\n",
       "\n",
       ".sk-estimator-doc-link:hover span {\n",
       "  display: block;\n",
       "}\n",
       "\n",
       "/* \"?\"-specific style due to the `<a>` HTML tag */\n",
       "\n",
       "#sk-container-id-1 a.estimator_doc_link {\n",
       "  float: right;\n",
       "  font-size: 1rem;\n",
       "  line-height: 1em;\n",
       "  font-family: monospace;\n",
       "  background-color: var(--sklearn-color-background);\n",
       "  border-radius: 1rem;\n",
       "  height: 1rem;\n",
       "  width: 1rem;\n",
       "  text-decoration: none;\n",
       "  /* unfitted */\n",
       "  color: var(--sklearn-color-unfitted-level-1);\n",
       "  border: var(--sklearn-color-unfitted-level-1) 1pt solid;\n",
       "}\n",
       "\n",
       "#sk-container-id-1 a.estimator_doc_link.fitted {\n",
       "  /* fitted */\n",
       "  border: var(--sklearn-color-fitted-level-1) 1pt solid;\n",
       "  color: var(--sklearn-color-fitted-level-1);\n",
       "}\n",
       "\n",
       "/* On hover */\n",
       "#sk-container-id-1 a.estimator_doc_link:hover {\n",
       "  /* unfitted */\n",
       "  background-color: var(--sklearn-color-unfitted-level-3);\n",
       "  color: var(--sklearn-color-background);\n",
       "  text-decoration: none;\n",
       "}\n",
       "\n",
       "#sk-container-id-1 a.estimator_doc_link.fitted:hover {\n",
       "  /* fitted */\n",
       "  background-color: var(--sklearn-color-fitted-level-3);\n",
       "}\n",
       "</style><div id=\"sk-container-id-1\" class=\"sk-top-container\"><div class=\"sk-text-repr-fallback\"><pre>RandomForestClassifier(random_state=42)</pre><b>In a Jupyter environment, please rerun this cell to show the HTML representation or trust the notebook. <br />On GitHub, the HTML representation is unable to render, please try loading this page with nbviewer.org.</b></div><div class=\"sk-container\" hidden><div class=\"sk-item\"><div class=\"sk-estimator fitted sk-toggleable\"><input class=\"sk-toggleable__control sk-hidden--visually\" id=\"sk-estimator-id-1\" type=\"checkbox\" checked><label for=\"sk-estimator-id-1\" class=\"sk-toggleable__label fitted sk-toggleable__label-arrow\"><div><div>RandomForestClassifier</div></div><div><a class=\"sk-estimator-doc-link fitted\" rel=\"noreferrer\" target=\"_blank\" href=\"https://scikit-learn.org/1.6/modules/generated/sklearn.ensemble.RandomForestClassifier.html\">?<span>Documentation for RandomForestClassifier</span></a><span class=\"sk-estimator-doc-link fitted\">i<span>Fitted</span></span></div></label><div class=\"sk-toggleable__content fitted\"><pre>RandomForestClassifier(random_state=42)</pre></div> </div></div></div></div>"
      ],
      "text/plain": [
       "RandomForestClassifier(random_state=42)"
      ]
     },
     "execution_count": 28,
     "metadata": {},
     "output_type": "execute_result"
    }
   ],
   "source": [
    "best_model = RandomForestClassifier(random_state=42)\n",
    "best_model.fit(X_scaled, y)"
   ]
  },
  {
   "cell_type": "code",
   "execution_count": 31,
   "metadata": {},
   "outputs": [
    {
     "name": "stdout",
     "output_type": "stream",
     "text": [
      "\n",
      "Probabilités par maladie:\n",
      "14: 34.46%\n",
      "29: 18.46%\n",
      "26: 17.65%\n",
      "\n",
      "Maladie prédite: 36\n"
     ]
    }
   ],
   "source": [
    "def predict_disease(symptoms, model, scaler, encoder):\n",
    "    try:\n",
    "        # Convert symptoms in numeric format\n",
    "        symptoms_df = pd.DataFrame([symptoms])\n",
    "        \n",
    "        # Standardizing data\n",
    "        symptoms_scaled = scaler.transform(symptoms_df)\n",
    "        \n",
    "        # Predict disease\n",
    "        prediction = model.predict(symptoms_scaled)\n",
    "        disease = encoder.inverse_transform(prediction)[0]\n",
    "        \n",
    "        # Obtein probability\n",
    "        if hasattr(model, 'predict_proba'):\n",
    "            probas = model.predict_proba(symptoms_scaled)[0]\n",
    "            diseases = encoder.inverse_transform(range(len(probas)))\n",
    "            \n",
    "            print(\"\\nProbabilités par maladie:\")\n",
    "            for d, p in sorted(zip(diseases, probas), key=lambda x: x[1], reverse=True)[:3]:\n",
    "                print(f\"{d}: {p:.2%}\")\n",
    "        \n",
    "        return disease\n",
    "    \n",
    "    except Exception as e:\n",
    "        print(f\"Erreur lors de la prédiction: {str(e)}\")\n",
    "        print(\"\\nMaladies disponibles pour la prédiction:\")\n",
    "        print(encoder.classes_)\n",
    "        return None\n",
    "\n",
    "# Use exemple\n",
    "example_symptoms = {\n",
    "    'Fever': 1,              # 1  Yes, 0  No\n",
    "    'Cough': 3,\n",
    "    'Fatigue': 1,\n",
    "    'Difficulty Breathing': 1,\n",
    "    'Blood Pressure': 2,     # 1  Low, 2 pour , 3  High\n",
    "    'Cholesterol Level': 2   # 1  Low, 2 pour , 3  High\n",
    "}\n",
    "\n",
    "# Uuse Random Forest model\n",
    "best_model = RandomForestClassifier(random_state=42)\n",
    "best_model.fit(X_scaled, y)\n",
    "\n",
    "# Make prediction\n",
    "predicted_disease = predict_disease(example_symptoms, best_model, scaler, encoder)\n",
    "print(f\"\\nMaladie prédite: {predicted_disease}\")"
   ]
  }
 ],
 "metadata": {
  "kernelspec": {
   "display_name": "medicale",
   "language": "python",
   "name": "medicale"
  },
  "language_info": {
   "codemirror_mode": {
    "name": "ipython",
    "version": 3
   },
   "file_extension": ".py",
   "mimetype": "text/x-python",
   "name": "python",
   "nbconvert_exporter": "python",
   "pygments_lexer": "ipython3",
   "version": "3.12.6"
  }
 },
 "nbformat": 4,
 "nbformat_minor": 2
}
